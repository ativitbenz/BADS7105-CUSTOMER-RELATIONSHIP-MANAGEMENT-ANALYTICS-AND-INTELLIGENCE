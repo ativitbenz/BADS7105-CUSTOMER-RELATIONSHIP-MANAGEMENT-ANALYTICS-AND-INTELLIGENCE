{
 "cells": [
  {
   "cell_type": "code",
   "execution_count": 1,
   "metadata": {
    "colab": {
     "base_uri": "https://localhost:8080/"
    },
    "id": "0Y1fjU5S3IMz",
    "outputId": "943d5af0-5c7e-4484-9e94-186f31f94419"
   },
   "outputs": [
    {
     "name": "stdout",
     "output_type": "stream",
     "text": [
      "Requirement already up-to-date: pythainlp in /usr/local/lib/python3.6/dist-packages (2.2.6)\n",
      "Requirement already satisfied, skipping upgrade: tinydb>=3.0 in /usr/local/lib/python3.6/dist-packages (from pythainlp) (4.3.0)\n",
      "Requirement already satisfied, skipping upgrade: python-crfsuite>=0.9.6 in /usr/local/lib/python3.6/dist-packages (from pythainlp) (0.9.7)\n",
      "Requirement already satisfied, skipping upgrade: requests>=2.22.0 in /usr/local/lib/python3.6/dist-packages (from pythainlp) (2.23.0)\n",
      "Requirement already satisfied, skipping upgrade: idna<3,>=2.5 in /usr/local/lib/python3.6/dist-packages (from requests>=2.22.0->pythainlp) (2.10)\n",
      "Requirement already satisfied, skipping upgrade: certifi>=2017.4.17 in /usr/local/lib/python3.6/dist-packages (from requests>=2.22.0->pythainlp) (2020.12.5)\n",
      "Requirement already satisfied, skipping upgrade: urllib3!=1.25.0,!=1.25.1,<1.26,>=1.21.1 in /usr/local/lib/python3.6/dist-packages (from requests>=2.22.0->pythainlp) (1.24.3)\n",
      "Requirement already satisfied, skipping upgrade: chardet<4,>=3.0.2 in /usr/local/lib/python3.6/dist-packages (from requests>=2.22.0->pythainlp) (3.0.4)\n",
      "Requirement already satisfied: pyLDAvis in /usr/local/lib/python3.6/dist-packages (2.1.2)\n",
      "Requirement already satisfied: future in /usr/local/lib/python3.6/dist-packages (from pyLDAvis) (0.16.0)\n",
      "Requirement already satisfied: scipy>=0.18.0 in /usr/local/lib/python3.6/dist-packages (from pyLDAvis) (1.4.1)\n",
      "Requirement already satisfied: joblib>=0.8.4 in /usr/local/lib/python3.6/dist-packages (from pyLDAvis) (1.0.0)\n",
      "Requirement already satisfied: pandas>=0.17.0 in /usr/local/lib/python3.6/dist-packages (from pyLDAvis) (1.1.5)\n",
      "Requirement already satisfied: pytest in /usr/local/lib/python3.6/dist-packages (from pyLDAvis) (3.6.4)\n",
      "Requirement already satisfied: numexpr in /usr/local/lib/python3.6/dist-packages (from pyLDAvis) (2.7.1)\n",
      "Requirement already satisfied: wheel>=0.23.0 in /usr/local/lib/python3.6/dist-packages (from pyLDAvis) (0.36.2)\n",
      "Requirement already satisfied: numpy>=1.9.2 in /usr/local/lib/python3.6/dist-packages (from pyLDAvis) (1.19.4)\n",
      "Requirement already satisfied: jinja2>=2.7.2 in /usr/local/lib/python3.6/dist-packages (from pyLDAvis) (2.11.2)\n",
      "Requirement already satisfied: funcy in /usr/local/lib/python3.6/dist-packages (from pyLDAvis) (1.15)\n",
      "Requirement already satisfied: python-dateutil>=2.7.3 in /usr/local/lib/python3.6/dist-packages (from pandas>=0.17.0->pyLDAvis) (2.8.1)\n",
      "Requirement already satisfied: pytz>=2017.2 in /usr/local/lib/python3.6/dist-packages (from pandas>=0.17.0->pyLDAvis) (2018.9)\n",
      "Requirement already satisfied: attrs>=17.4.0 in /usr/local/lib/python3.6/dist-packages (from pytest->pyLDAvis) (20.3.0)\n",
      "Requirement already satisfied: py>=1.5.0 in /usr/local/lib/python3.6/dist-packages (from pytest->pyLDAvis) (1.10.0)\n",
      "Requirement already satisfied: atomicwrites>=1.0 in /usr/local/lib/python3.6/dist-packages (from pytest->pyLDAvis) (1.4.0)\n",
      "Requirement already satisfied: setuptools in /usr/local/lib/python3.6/dist-packages (from pytest->pyLDAvis) (51.0.0)\n",
      "Requirement already satisfied: more-itertools>=4.0.0 in /usr/local/lib/python3.6/dist-packages (from pytest->pyLDAvis) (8.6.0)\n",
      "Requirement already satisfied: six>=1.10.0 in /usr/local/lib/python3.6/dist-packages (from pytest->pyLDAvis) (1.15.0)\n",
      "Requirement already satisfied: pluggy<0.8,>=0.5 in /usr/local/lib/python3.6/dist-packages (from pytest->pyLDAvis) (0.7.1)\n",
      "Requirement already satisfied: MarkupSafe>=0.23 in /usr/local/lib/python3.6/dist-packages (from jinja2>=2.7.2->pyLDAvis) (1.1.1)\n",
      "Requirement already satisfied: emoji in /usr/local/lib/python3.6/dist-packages (0.6.0)\n"
     ]
    }
   ],
   "source": [
    "!pip install --upgrade pythainlp\n",
    "!pip install pyLDAvis\n",
    "!pip install emoji"
   ]
  },
  {
   "cell_type": "code",
   "execution_count": 2,
   "metadata": {
    "id": "eEXORNVFreVn"
   },
   "outputs": [],
   "source": [
    "import pandas as pd\n",
    "import pythainlp\n",
    "import gensim\n",
    "import pyLDAvis.gensim\n",
    "pyLDAvis.enable_notebook()\n",
    "import warnings\n",
    "warnings.filterwarnings(\"ignore\", category=DeprecationWarning) \n",
    "from pythainlp.corpus.common import thai_words\n",
    "from pythainlp.tag import pos_tag\n",
    "import emoji\n",
    "import string"
   ]
  },
  {
   "cell_type": "code",
   "execution_count": 3,
   "metadata": {
    "colab": {
     "base_uri": "https://localhost:8080/",
     "height": 323
    },
    "id": "TRoIrqbPsjqX",
    "outputId": "bc300c08-cf70-4b51-ca47-324e961820e8"
   },
   "outputs": [
    {
     "name": "stdout",
     "output_type": "stream",
     "text": [
      "(21, 7)\n"
     ]
    },
    {
     "data": {
      "text/html": [
       "<div>\n",
       "<style scoped>\n",
       "    .dataframe tbody tr th:only-of-type {\n",
       "        vertical-align: middle;\n",
       "    }\n",
       "\n",
       "    .dataframe tbody tr th {\n",
       "        vertical-align: top;\n",
       "    }\n",
       "\n",
       "    .dataframe thead th {\n",
       "        text-align: right;\n",
       "    }\n",
       "</style>\n",
       "<table border=\"1\" class=\"dataframe\">\n",
       "  <thead>\n",
       "    <tr style=\"text-align: right;\">\n",
       "      <th></th>\n",
       "      <th>Review ID</th>\n",
       "      <th>Restaurant_ID</th>\n",
       "      <th>Restaurant</th>\n",
       "      <th>User</th>\n",
       "      <th>Headline</th>\n",
       "      <th>Review</th>\n",
       "      <th>Rating</th>\n",
       "    </tr>\n",
       "  </thead>\n",
       "  <tbody>\n",
       "    <tr>\n",
       "      <th>0</th>\n",
       "      <td>1</td>\n",
       "      <td>352696Px-mo-mo-paradise-เดอะมอลล์-บางกะปิ</td>\n",
       "      <td>Mo-Mo-Paradise (โม โม พาราไดซ์) เดอะมอลล์ บางกะปิ</td>\n",
       "      <td>7b16469831074f7abc7824745ee75212</td>\n",
       "      <td>ที่สำคัญของร้านนี้คือบริการดีมากพนักงานน่ารักส...</td>\n",
       "      <td>ที่สำคัญของร้านนี้คือบริการดีมากพนักงานน่ารักส...</td>\n",
       "      <td>5.0</td>\n",
       "    </tr>\n",
       "    <tr>\n",
       "      <th>1</th>\n",
       "      <td>2</td>\n",
       "      <td>352696Px-mo-mo-paradise-เดอะมอลล์-บางกะปิ</td>\n",
       "      <td>Mo-Mo-Paradise (โม โม พาราไดซ์) เดอะมอลล์ บางกะปิ</td>\n",
       "      <td>pakkaramonpondej</td>\n",
       "      <td>รสชาติเหมือนทุกสาขา แต่สาขานี้ บริการดี ที่นั่งดี</td>\n",
       "      <td>นึกถึงชาบูญี่ปุ่นยังไงก็ต้อง คิดถึงโมโม่ พาราไ...</td>\n",
       "      <td>5.0</td>\n",
       "    </tr>\n",
       "    <tr>\n",
       "      <th>2</th>\n",
       "      <td>3</td>\n",
       "      <td>352696Px-mo-mo-paradise-เดอะมอลล์-บางกะปิ</td>\n",
       "      <td>Mo-Mo-Paradise (โม โม พาราไดซ์) เดอะมอลล์ บางกะปิ</td>\n",
       "      <td>saanowy</td>\n",
       "      <td>ชาบูพรีเมี่ยมสไตล์ญี่ปุ่น เนื้อดีมากกก</td>\n",
       "      <td>มาทานช่วงนี้ สามารถนั่งโต๊ะเดียวกัน หม้อเดียวก...</td>\n",
       "      <td>4.0</td>\n",
       "    </tr>\n",
       "    <tr>\n",
       "      <th>3</th>\n",
       "      <td>4</td>\n",
       "      <td>352696Px-mo-mo-paradise-เดอะมอลล์-บางกะปิ</td>\n",
       "      <td>Mo-Mo-Paradise (โม โม พาราไดซ์) เดอะมอลล์ บางกะปิ</td>\n",
       "      <td>ployynp</td>\n",
       "      <td>เนื้อดี ไอติมดี คุ้มค่าดี</td>\n",
       "      <td>ถ้านึกถึงชาบูที่มีเนื้อเน้นๆ ในราคาไม่โหดจนเกิ...</td>\n",
       "      <td>4.0</td>\n",
       "    </tr>\n",
       "    <tr>\n",
       "      <th>4</th>\n",
       "      <td>5</td>\n",
       "      <td>352696Px-mo-mo-paradise-เดอะมอลล์-บางกะปิ</td>\n",
       "      <td>Mo-Mo-Paradise (โม โม พาราไดซ์) เดอะมอลล์ บางกะปิ</td>\n",
       "      <td>665a902b335b434ab489f00f2fbb477e</td>\n",
       "      <td>อาหารมีคุณภาพ บริการดีค่ะ</td>\n",
       "      <td>เดินมาหน้าร้านแล้วได้กลิ่นชาบูหอมมาก ๆ  ประกอบ...</td>\n",
       "      <td>5.0</td>\n",
       "    </tr>\n",
       "  </tbody>\n",
       "</table>\n",
       "</div>"
      ],
      "text/plain": [
       "   Review ID  ... Rating\n",
       "0          1  ...    5.0\n",
       "1          2  ...    5.0\n",
       "2          3  ...    4.0\n",
       "3          4  ...    4.0\n",
       "4          5  ...    5.0\n",
       "\n",
       "[5 rows x 7 columns]"
      ]
     },
     "execution_count": 3,
     "metadata": {
      "tags": []
     },
     "output_type": "execute_result"
    }
   ],
   "source": [
    "df = pd.read_csv('CustomerReviews.csv')\n",
    "print(df.shape)\n",
    "df.head()"
   ]
  },
  {
   "cell_type": "code",
   "execution_count": 4,
   "metadata": {
    "colab": {
     "base_uri": "https://localhost:8080/",
     "height": 204
    },
    "id": "7XI6Gg6Jsngu",
    "outputId": "1466df88-cbf9-4af1-87f0-7d4e7ca25f37"
   },
   "outputs": [
    {
     "data": {
      "text/html": [
       "<div>\n",
       "<style scoped>\n",
       "    .dataframe tbody tr th:only-of-type {\n",
       "        vertical-align: middle;\n",
       "    }\n",
       "\n",
       "    .dataframe tbody tr th {\n",
       "        vertical-align: top;\n",
       "    }\n",
       "\n",
       "    .dataframe thead th {\n",
       "        text-align: right;\n",
       "    }\n",
       "</style>\n",
       "<table border=\"1\" class=\"dataframe\">\n",
       "  <thead>\n",
       "    <tr style=\"text-align: right;\">\n",
       "      <th></th>\n",
       "      <th>Restaurant</th>\n",
       "      <th>Review</th>\n",
       "    </tr>\n",
       "  </thead>\n",
       "  <tbody>\n",
       "    <tr>\n",
       "      <th>0</th>\n",
       "      <td>Mo-Mo-Paradise (โม โม พาราไดซ์) เดอะมอลล์ บางกะปิ</td>\n",
       "      <td>ที่สำคัญของร้านนี้คือบริการดีมากพนักงานน่ารักส...</td>\n",
       "    </tr>\n",
       "    <tr>\n",
       "      <th>1</th>\n",
       "      <td>Mo-Mo-Paradise (โม โม พาราไดซ์) เดอะมอลล์ บางกะปิ</td>\n",
       "      <td>นึกถึงชาบูญี่ปุ่นยังไงก็ต้อง คิดถึงโมโม่ พาราไ...</td>\n",
       "    </tr>\n",
       "    <tr>\n",
       "      <th>2</th>\n",
       "      <td>Mo-Mo-Paradise (โม โม พาราไดซ์) เดอะมอลล์ บางกะปิ</td>\n",
       "      <td>มาทานช่วงนี้ สามารถนั่งโต๊ะเดียวกัน หม้อเดียวก...</td>\n",
       "    </tr>\n",
       "    <tr>\n",
       "      <th>3</th>\n",
       "      <td>Mo-Mo-Paradise (โม โม พาราไดซ์) เดอะมอลล์ บางกะปิ</td>\n",
       "      <td>ถ้านึกถึงชาบูที่มีเนื้อเน้นๆ ในราคาไม่โหดจนเกิ...</td>\n",
       "    </tr>\n",
       "    <tr>\n",
       "      <th>4</th>\n",
       "      <td>Mo-Mo-Paradise (โม โม พาราไดซ์) เดอะมอลล์ บางกะปิ</td>\n",
       "      <td>เดินมาหน้าร้านแล้วได้กลิ่นชาบูหอมมาก ๆ  ประกอบ...</td>\n",
       "    </tr>\n",
       "  </tbody>\n",
       "</table>\n",
       "</div>"
      ],
      "text/plain": [
       "                                          Restaurant                                             Review\n",
       "0  Mo-Mo-Paradise (โม โม พาราไดซ์) เดอะมอลล์ บางกะปิ  ที่สำคัญของร้านนี้คือบริการดีมากพนักงานน่ารักส...\n",
       "1  Mo-Mo-Paradise (โม โม พาราไดซ์) เดอะมอลล์ บางกะปิ  นึกถึงชาบูญี่ปุ่นยังไงก็ต้อง คิดถึงโมโม่ พาราไ...\n",
       "2  Mo-Mo-Paradise (โม โม พาราไดซ์) เดอะมอลล์ บางกะปิ  มาทานช่วงนี้ สามารถนั่งโต๊ะเดียวกัน หม้อเดียวก...\n",
       "3  Mo-Mo-Paradise (โม โม พาราไดซ์) เดอะมอลล์ บางกะปิ  ถ้านึกถึงชาบูที่มีเนื้อเน้นๆ ในราคาไม่โหดจนเกิ...\n",
       "4  Mo-Mo-Paradise (โม โม พาราไดซ์) เดอะมอลล์ บางกะปิ  เดินมาหน้าร้านแล้วได้กลิ่นชาบูหอมมาก ๆ  ประกอบ..."
      ]
     },
     "execution_count": 4,
     "metadata": {
      "tags": []
     },
     "output_type": "execute_result"
    }
   ],
   "source": [
    "df.drop(columns = 'Restaurant_ID', inplace=True)\n",
    "df.drop(columns = 'User', inplace=True)\n",
    "df.drop(columns = 'Headline', inplace=True)\n",
    "df.drop(columns = 'Rating', inplace=True)\n",
    "df.drop(columns = 'Review ID', inplace=True)\n",
    "df.head()"
   ]
  },
  {
   "cell_type": "code",
   "execution_count": 5,
   "metadata": {
    "id": "Wh636MjntV0G"
   },
   "outputs": [],
   "source": [
    "stopwords = list(pythainlp.corpus.thai_stopwords())\n",
    "removed_words = [' ', '  ', '\\n', 'ร้าน', '(',')', '\\u200b', 'ม', 'บาท', 'าน', 'เท', 'คนละ', 'กิน', 'ทาน', ',', '–', '/']\n",
    "screening_words = stopwords + removed_words\n",
    "\n",
    "def remove_emoji(text):\n",
    "  return emoji.get_emoji_regexp().sub(u'', text)\n",
    "\n",
    "\n",
    "def tokenize_with_space(sentence):\n",
    "  merged = ''\n",
    "  sentence = remove_emoji(sentence)\n",
    "  custom_th_words = set(thai_words())\n",
    "  FullWord = ['ชาบูชิ', 'กุ้งเทมปุระ', 'กุ้งสด', 'ขาบูชิ', 'ขาบู', 'เทมปุระ', 'บุฟเฟ่ต์', 'บุฟเฟ่', 'บุพเฟ่', 'โมโม', 'โมโม่',\n",
    "               'ไอติม', 'ยูเนียนมอลล์', 'ยูเนี่ยนมอลล์', 'union mall', 'ญี่ปุ่น', 'หลากหลาย',\n",
    "               'ซูชิ', 'กุ้งปลอกเปลือก', 'เดอะมอลล์', 'บางกะปิ', 'เดอะมอล', 'วิปครีม', 'พอนซึ', 'ราคา',\n",
    "               'น้ำซุป', 'โชยุ', 'ไก่ไม้ไผ่', 'น้ำดำ', 'หอมมาก', 'พรีเมี่ยม', 'พรีเมียม', 'ญี่ปุน', 'ซีฟู้ด', 'ไปตำ', 'ไม่มีเหวี่ยง',\n",
    "               'โมโมพาราไดส์', 'นารายพิซเซอเรีย', 'รอคิว', 'ฮันนี่โทส', 'น้ำซึป', 'กุ้งทอดเทมปุระ', 'บริการดี',\n",
    "               'สันคอ', 'คุณภาพดี', 'รสชาต', 'โมโม่ พาราไดซ์', 'ไม่โอเค', 'ซอยซอส', 'เนื้อวัว', 'เนื้อหมู', 'เนื้อเป็ด',\n",
    "               'โปรโมชั่น', 'ดังเดิม', 'โมโม – พาราไดส์', 'หมูสไลด์', 'เนื้อสไลด์', 'โอเด้ง', 'เบคอน', 'เบค่อน', 'หอยตลับ',\n",
    "               'ตับหมู', 'บุฟเฟ', 'ชูชิ', 'รีฟีล', 'Nari pizzeria', 'สปาเกตตี้', 'ไก่นิวออลีน', 'งานดี', 'บราวนี่', 'บริการดี', 'ดูดี', 'ที่นั่ง']\n",
    "  custom_th_words.update(FullWord)\n",
    "  words = pythainlp.word_tokenize(str(sentence), engine = 'newmm')\n",
    "  words_pos = pos_tag(words, corpus = 'orchid_ud')\n",
    "  for word in words_pos:\n",
    "    if word[0] not in screening_words:\n",
    "      if word[1] in ['NOUN']:\n",
    "        if not word[0].isnumeric():\n",
    "          merged = merged + ',' + word[0]\n",
    "  return merged[1:]"
   ]
  },
  {
   "cell_type": "code",
   "execution_count": 6,
   "metadata": {
    "id": "4IrQ9ZuctZn4"
   },
   "outputs": [],
   "source": [
    "df['Review_tokenized'] = df['Review'].apply(lambda x: tokenize_with_space(x))"
   ]
  },
  {
   "cell_type": "code",
   "execution_count": 7,
   "metadata": {
    "id": "6kOETS2AteLE"
   },
   "outputs": [],
   "source": [
    "df_Momo = df[df['Restaurant'] == 'Mo-Mo-Paradise (โม โม พาราไดซ์) เดอะมอลล์ บางกะปิ']\n",
    "df_Shabushi = df[df['Restaurant'] == 'Shabushi (ชาบูชิ) เดอะมอลล์บางกะปิ ชั้น G']\n",
    "df_Shabu = df[df['Restaurant'] == 'ข้าน้อยขอชาบู']"
   ]
  },
  {
   "cell_type": "code",
   "execution_count": 8,
   "metadata": {
    "colab": {
     "base_uri": "https://localhost:8080/",
     "height": 204
    },
    "id": "aoNeUE2mtowZ",
    "outputId": "b26355a0-a5d1-40eb-f6b4-ecb3e71f2d7f"
   },
   "outputs": [
    {
     "data": {
      "text/html": [
       "<div>\n",
       "<style scoped>\n",
       "    .dataframe tbody tr th:only-of-type {\n",
       "        vertical-align: middle;\n",
       "    }\n",
       "\n",
       "    .dataframe tbody tr th {\n",
       "        vertical-align: top;\n",
       "    }\n",
       "\n",
       "    .dataframe thead th {\n",
       "        text-align: right;\n",
       "    }\n",
       "</style>\n",
       "<table border=\"1\" class=\"dataframe\">\n",
       "  <thead>\n",
       "    <tr style=\"text-align: right;\">\n",
       "      <th></th>\n",
       "      <th>Restaurant</th>\n",
       "      <th>Review</th>\n",
       "      <th>Review_tokenized</th>\n",
       "    </tr>\n",
       "  </thead>\n",
       "  <tbody>\n",
       "    <tr>\n",
       "      <th>0</th>\n",
       "      <td>Mo-Mo-Paradise (โม โม พาราไดซ์) เดอะมอลล์ บางกะปิ</td>\n",
       "      <td>ที่สำคัญของร้านนี้คือบริการดีมากพนักงานน่ารักส...</td>\n",
       "      <td>พนักงาน,น่ารัก,สะอาดสะอ้าน,รสชาติ,อาหาร,อาหาร,...</td>\n",
       "    </tr>\n",
       "    <tr>\n",
       "      <th>1</th>\n",
       "      <td>Mo-Mo-Paradise (โม โม พาราไดซ์) เดอะมอลล์ บางกะปิ</td>\n",
       "      <td>นึกถึงชาบูญี่ปุ่นยังไงก็ต้อง คิดถึงโมโม่ พาราไ...</td>\n",
       "      <td>ชาบู,โม,โม่,พาราไดซ์,คุณภาพ,เค้า,มาตรา,ฐาน,มีโ...</td>\n",
       "    </tr>\n",
       "    <tr>\n",
       "      <th>2</th>\n",
       "      <td>Mo-Mo-Paradise (โม โม พาราไดซ์) เดอะมอลล์ บางกะปิ</td>\n",
       "      <td>มาทานช่วงนี้ สามารถนั่งโต๊ะเดียวกัน หม้อเดียวก...</td>\n",
       "      <td>โต๊ะ,หม้อ,โต๊ะ,ฉาก,กั้น,น้ำ,รส,น้ำจิ้ม,ตามน้ำ,...</td>\n",
       "    </tr>\n",
       "    <tr>\n",
       "      <th>3</th>\n",
       "      <td>Mo-Mo-Paradise (โม โม พาราไดซ์) เดอะมอลล์ บางกะปิ</td>\n",
       "      <td>ถ้านึกถึงชาบูที่มีเนื้อเน้นๆ ในราคาไม่โหดจนเกิ...</td>\n",
       "      <td>ชาบู,เนื้อ,ราคา,โหด,โม,โม่,โปร,ส่วนตัว,เนื้อ,อ...</td>\n",
       "    </tr>\n",
       "    <tr>\n",
       "      <th>4</th>\n",
       "      <td>Mo-Mo-Paradise (โม โม พาราไดซ์) เดอะมอลล์ บางกะปิ</td>\n",
       "      <td>เดินมาหน้าร้านแล้วได้กลิ่นชาบูหอมมาก ๆ  ประกอบ...</td>\n",
       "      <td>ชาบู,หอ,โปร,บัตรเครดิต,น้ำ,ชาบู,เนื้อ,ต่าง ๆ,ผ...</td>\n",
       "    </tr>\n",
       "  </tbody>\n",
       "</table>\n",
       "</div>"
      ],
      "text/plain": [
       "                                          Restaurant  ...                                   Review_tokenized\n",
       "0  Mo-Mo-Paradise (โม โม พาราไดซ์) เดอะมอลล์ บางกะปิ  ...  พนักงาน,น่ารัก,สะอาดสะอ้าน,รสชาติ,อาหาร,อาหาร,...\n",
       "1  Mo-Mo-Paradise (โม โม พาราไดซ์) เดอะมอลล์ บางกะปิ  ...  ชาบู,โม,โม่,พาราไดซ์,คุณภาพ,เค้า,มาตรา,ฐาน,มีโ...\n",
       "2  Mo-Mo-Paradise (โม โม พาราไดซ์) เดอะมอลล์ บางกะปิ  ...  โต๊ะ,หม้อ,โต๊ะ,ฉาก,กั้น,น้ำ,รส,น้ำจิ้ม,ตามน้ำ,...\n",
       "3  Mo-Mo-Paradise (โม โม พาราไดซ์) เดอะมอลล์ บางกะปิ  ...  ชาบู,เนื้อ,ราคา,โหด,โม,โม่,โปร,ส่วนตัว,เนื้อ,อ...\n",
       "4  Mo-Mo-Paradise (โม โม พาราไดซ์) เดอะมอลล์ บางกะปิ  ...  ชาบู,หอ,โปร,บัตรเครดิต,น้ำ,ชาบู,เนื้อ,ต่าง ๆ,ผ...\n",
       "\n",
       "[5 rows x 3 columns]"
      ]
     },
     "execution_count": 8,
     "metadata": {
      "tags": []
     },
     "output_type": "execute_result"
    }
   ],
   "source": [
    "df_Momo.head()"
   ]
  },
  {
   "cell_type": "code",
   "execution_count": 9,
   "metadata": {
    "colab": {
     "base_uri": "https://localhost:8080/",
     "height": 204
    },
    "id": "VVphi5FctsJS",
    "outputId": "2a06bf86-cbd2-45a1-cfb4-f60aeceeae28"
   },
   "outputs": [
    {
     "data": {
      "text/html": [
       "<div>\n",
       "<style scoped>\n",
       "    .dataframe tbody tr th:only-of-type {\n",
       "        vertical-align: middle;\n",
       "    }\n",
       "\n",
       "    .dataframe tbody tr th {\n",
       "        vertical-align: top;\n",
       "    }\n",
       "\n",
       "    .dataframe thead th {\n",
       "        text-align: right;\n",
       "    }\n",
       "</style>\n",
       "<table border=\"1\" class=\"dataframe\">\n",
       "  <thead>\n",
       "    <tr style=\"text-align: right;\">\n",
       "      <th></th>\n",
       "      <th>Restaurant</th>\n",
       "      <th>Review</th>\n",
       "      <th>Review_tokenized</th>\n",
       "    </tr>\n",
       "  </thead>\n",
       "  <tbody>\n",
       "    <tr>\n",
       "      <th>8</th>\n",
       "      <td>Shabushi (ชาบูชิ) เดอะมอลล์บางกะปิ ชั้น G</td>\n",
       "      <td>มา านที่ขาบูชิต้องมาตอนหิว ไม่งั้นจะไม่คุ้มนะค...</td>\n",
       "      <td>ขา,บู,ชิ,ตอน,หิว,ไม่งั้น,ฮ่า,เมนู,ของกิน,อาหาร...</td>\n",
       "    </tr>\n",
       "    <tr>\n",
       "      <th>9</th>\n",
       "      <td>Shabushi (ชาบูชิ) เดอะมอลล์บางกะปิ ชั้น G</td>\n",
       "      <td>ใครชอบกุ้งทอดเทมปุระ แค่กุ้งเทมปุระก็คุ้มแล้ว ...</td>\n",
       "      <td>กุ้ง,ทอด,ปุระ,กุ้ง,ปุระ,ผิดหวัง,กุ้ง,ตัว,กลาย,...</td>\n",
       "    </tr>\n",
       "    <tr>\n",
       "      <th>10</th>\n",
       "      <td>Shabushi (ชาบูชิ) เดอะมอลล์บางกะปิ ชั้น G</td>\n",
       "      <td>กลับมาอัพเดทราคาชาบูชิ ตอนนี้อยู่ที่ 399 บาท n...</td>\n",
       "      <td>อัพเดท,ราคา,ชิ,net,ชม.,น้ำ,ซุป,รส,ซูชิ,ลายตา,ป...</td>\n",
       "    </tr>\n",
       "    <tr>\n",
       "      <th>11</th>\n",
       "      <td>Shabushi (ชาบูชิ) เดอะมอลล์บางกะปิ ชั้น G</td>\n",
       "      <td>ห่างหายไปนานสำหรับชาบูชิ ตั้งแต่ทางร้านได้ปรับ...</td>\n",
       "      <td>ชาบู,ชิ,ขึ้นราคา,แถม,เวลา,คุณภาพ,อาหาร,แย่,ได้...</td>\n",
       "    </tr>\n",
       "    <tr>\n",
       "      <th>12</th>\n",
       "      <td>Shabushi (ชาบูชิ) เดอะมอลล์บางกะปิ ชั้น G</td>\n",
       "      <td>เมื่อหลายวันก่อนนัดหาข้าวทานกับเดอะแกงค์ และก็...</td>\n",
       "      <td>วันก่อน,ข้าว,เดอะ,แกงค์,อาหาร,บุฟเฟ่ต์,อยุ่,ชั...</td>\n",
       "    </tr>\n",
       "  </tbody>\n",
       "</table>\n",
       "</div>"
      ],
      "text/plain": [
       "                                   Restaurant  ...                                   Review_tokenized\n",
       "8   Shabushi (ชาบูชิ) เดอะมอลล์บางกะปิ ชั้น G  ...  ขา,บู,ชิ,ตอน,หิว,ไม่งั้น,ฮ่า,เมนู,ของกิน,อาหาร...\n",
       "9   Shabushi (ชาบูชิ) เดอะมอลล์บางกะปิ ชั้น G  ...  กุ้ง,ทอด,ปุระ,กุ้ง,ปุระ,ผิดหวัง,กุ้ง,ตัว,กลาย,...\n",
       "10  Shabushi (ชาบูชิ) เดอะมอลล์บางกะปิ ชั้น G  ...  อัพเดท,ราคา,ชิ,net,ชม.,น้ำ,ซุป,รส,ซูชิ,ลายตา,ป...\n",
       "11  Shabushi (ชาบูชิ) เดอะมอลล์บางกะปิ ชั้น G  ...  ชาบู,ชิ,ขึ้นราคา,แถม,เวลา,คุณภาพ,อาหาร,แย่,ได้...\n",
       "12  Shabushi (ชาบูชิ) เดอะมอลล์บางกะปิ ชั้น G  ...  วันก่อน,ข้าว,เดอะ,แกงค์,อาหาร,บุฟเฟ่ต์,อยุ่,ชั...\n",
       "\n",
       "[5 rows x 3 columns]"
      ]
     },
     "execution_count": 9,
     "metadata": {
      "tags": []
     },
     "output_type": "execute_result"
    }
   ],
   "source": [
    "df_Shabushi.head()"
   ]
  },
  {
   "cell_type": "code",
   "execution_count": 10,
   "metadata": {
    "colab": {
     "base_uri": "https://localhost:8080/",
     "height": 204
    },
    "id": "cGNjcJlwtuxS",
    "outputId": "9bb39d99-9fc3-4756-9a53-a58a920840ea"
   },
   "outputs": [
    {
     "data": {
      "text/html": [
       "<div>\n",
       "<style scoped>\n",
       "    .dataframe tbody tr th:only-of-type {\n",
       "        vertical-align: middle;\n",
       "    }\n",
       "\n",
       "    .dataframe tbody tr th {\n",
       "        vertical-align: top;\n",
       "    }\n",
       "\n",
       "    .dataframe thead th {\n",
       "        text-align: right;\n",
       "    }\n",
       "</style>\n",
       "<table border=\"1\" class=\"dataframe\">\n",
       "  <thead>\n",
       "    <tr style=\"text-align: right;\">\n",
       "      <th></th>\n",
       "      <th>Restaurant</th>\n",
       "      <th>Review</th>\n",
       "      <th>Review_tokenized</th>\n",
       "    </tr>\n",
       "  </thead>\n",
       "  <tbody>\n",
       "    <tr>\n",
       "      <th>16</th>\n",
       "      <td>ข้าน้อยขอชาบู</td>\n",
       "      <td>หลังจากที่เคยลองสาขายูเนี่ยนมอลล์ไป รอบนี้มาที...</td>\n",
       "      <td>สาขา,ยู,นม,อลล์,รอบ,สาขา,เดอะ,มอลล์,กะปิ,ชั้น,...</td>\n",
       "    </tr>\n",
       "    <tr>\n",
       "      <th>17</th>\n",
       "      <td>ข้าน้อยขอชาบู</td>\n",
       "      <td>ร้านบุฟเฟ่ต์ที่มีโปรโมชั่นหัวละ199บาท ไม่รวมน้...</td>\n",
       "      <td>บุฟเฟ่ต์,โปรโมชั่น,หัว,น้ำ,VAT,ได้เวลา,ชม.,ค่า...</td>\n",
       "    </tr>\n",
       "    <tr>\n",
       "      <th>18</th>\n",
       "      <td>ข้าน้อยขอชาบู</td>\n",
       "      <td>เคยรู้จักร้านนี้จากที่ union mall ไม่เคยได้ลอง...</td>\n",
       "      <td>union,mall,จำได้,ชื่อ,ชื่อ,ชาบู,Narai,pizzeria...</td>\n",
       "    </tr>\n",
       "    <tr>\n",
       "      <th>19</th>\n",
       "      <td>ข้าน้อยขอชาบู</td>\n",
       "      <td>อร่อยมากค่ะ คุ้มค่าสมราคา บุฟเฟ่หมูผักต่างๆ รว...</td>\n",
       "      <td>อร่อย,คุ้มค่า,สมราคา,บุ,ฟเฟ่,หมู,ผัก,น้ำ,เด็ด,...</td>\n",
       "    </tr>\n",
       "    <tr>\n",
       "      <th>20</th>\n",
       "      <td>ข้าน้อยขอชาบู</td>\n",
       "      <td>ก็ตามที่เขียนเลยครับ ว่า ถ้าจะจ่ายในราคา 199 บ...</td>\n",
       "      <td>ราคา,เงินสด,ราคา,น้ำ,VAT,%,เนื้อวัว,ซูชิ,ของหว...</td>\n",
       "    </tr>\n",
       "  </tbody>\n",
       "</table>\n",
       "</div>"
      ],
      "text/plain": [
       "       Restaurant  ...                                   Review_tokenized\n",
       "16  ข้าน้อยขอชาบู  ...  สาขา,ยู,นม,อลล์,รอบ,สาขา,เดอะ,มอลล์,กะปิ,ชั้น,...\n",
       "17  ข้าน้อยขอชาบู  ...  บุฟเฟ่ต์,โปรโมชั่น,หัว,น้ำ,VAT,ได้เวลา,ชม.,ค่า...\n",
       "18  ข้าน้อยขอชาบู  ...  union,mall,จำได้,ชื่อ,ชื่อ,ชาบู,Narai,pizzeria...\n",
       "19  ข้าน้อยขอชาบู  ...  อร่อย,คุ้มค่า,สมราคา,บุ,ฟเฟ่,หมู,ผัก,น้ำ,เด็ด,...\n",
       "20  ข้าน้อยขอชาบู  ...  ราคา,เงินสด,ราคา,น้ำ,VAT,%,เนื้อวัว,ซูชิ,ของหว...\n",
       "\n",
       "[5 rows x 3 columns]"
      ]
     },
     "execution_count": 10,
     "metadata": {
      "tags": []
     },
     "output_type": "execute_result"
    }
   ],
   "source": [
    "df_Shabu.head()"
   ]
  },
  {
   "cell_type": "markdown",
   "metadata": {
    "id": "xXcX4GEf59x5"
   },
   "source": [
    "### Mo-Mo-Paradise"
   ]
  },
  {
   "cell_type": "code",
   "execution_count": 11,
   "metadata": {
    "id": "2KCEmctBthwL"
   },
   "outputs": [],
   "source": [
    "Momo_documents = df_Momo['Review_tokenized'].to_list()\n",
    "Momo_texts = [[text for text in doc.split(',')] for doc in Momo_documents]\n",
    "Momo_dictionary = gensim.corpora.Dictionary(Momo_texts)"
   ]
  },
  {
   "cell_type": "code",
   "execution_count": 12,
   "metadata": {
    "colab": {
     "base_uri": "https://localhost:8080/"
    },
    "id": "_GaqFA1htnAa",
    "outputId": "e3cdfb7d-c813-41da-aea3-4fe6813ace3e"
   },
   "outputs": [
    {
     "name": "stdout",
     "output_type": "stream",
     "text": [
      "dict_keys(['ข้างนอก', 'ความต้องการ', 'คอ', 'คุณภาพ', 'คุ้ม', 'ซุป', 'ถาด', 'น่ารัก', 'น้ำ', 'น้ำจิ้ม', 'บริการ', 'ประทับใจ', 'พนักงาน', 'ภาพ', 'รสชาติ', 'ราคา', 'สะอาดสะอ้าน', 'สัน', 'หลากหลาย', 'อร่อย', 'อาหาร', 'เนื้อ', 'เป็ด', 'เผ็ด', 'แฟน', 'โมจิ', '           ', 'CTW', 'Terminal', 'กา', 'การงด', 'ชาบู', 'ฐาน', 'ที่ทาง', 'นาที', 'พนักงานบริการ', 'พระราม', 'พรีเมียม', 'พาราไดซ์', 'มาตรา', 'มีโอ', 'รายละเอียด', 'ลูกค้า', 'สมาทาน', 'สาขา', 'ออร์เดอร์', 'เค้า', 'เหวี่ยง', 'แจ้ง', 'โม', 'โม่', '++', '::', 'กรุบ', 'กั้น', 'ของหวาน', 'คุ', 'จืด', 'ฉาก', 'ชาเขียว', 'ชิ้น', 'ซอย', 'ซอส', 'ตะ', 'ตามน้ำ', 'ถั่ว', 'นุ่ม', 'บด', 'บาร์', 'บู', 'ผัก', 'ภาษา', 'มีชื่อ', 'รส', 'รี่', 'ลอง', 'ลิ้น', 'ลืม', 'ววว', 'สด', 'สตอ', 'หม้อ', 'หวาน', 'เค็ม', 'เนื้อวัว', 'เนื้อสัตว์', 'เนื้อหมู', 'เป็นผู้ใหญ่', 'เสิร์ฟ', 'เห็ด', 'แดง', 'แตา', 'แนว', 'แย้', 'โควิด', 'โต๊ะ', 'โร', 'ไก่', 'ไข่', 'ไดฟูกุ', 'ไผ่', 'ไม้', 'ไอติม', 'ข้าว', 'ถ้วย', 'ส', 'ส่วนตัว', 'ออ', 'โปร', 'โหด', 'ไว', 'ไอศกรีม', 'ขนม', 'คุณภาพดี', 'ต่าง ๆ', 'นั่ง', 'บัตรเครดิต', 'สบายดี', 'หอ', 'เด็ก', 'เส้น', 'คามี', 'ซึ', 'บุ', 'บ๋วย', 'พอน', 'ฟเฟ่', 'รา', 'สาย', 'หยิบ', 'โซน', 'โปรโมชั่น', 'Menu', 'Number', 'กรรมวิธี', 'กะปิ', 'ก์', 'คน', 'คะแนน', 'ชุด', 'บุฟเฟ่ต์', 'พารา', 'มอ', 'ยุค', 'ร้านอาหาร', 'ล', 'สุกี้', 'สไตล์', 'ส์', 'หมู', 'หลาก', 'หลายชนิด', 'เซ็ท', 'เดอะ', 'เมนู', 'แบบฉบับ', 'ได', '!!!!', 'กาแฟ', 'งวด', 'ตำ', 'น', 'บ๊วย', 'ลุย', 'สุกี้ยากี้', 'เรื่อง', 'โช', 'ไข่ไก่', 'ไอศครีม'])\n"
     ]
    }
   ],
   "source": [
    "print(Momo_dictionary.token2id.keys())"
   ]
  },
  {
   "cell_type": "code",
   "execution_count": 13,
   "metadata": {
    "id": "ZdrZQuc_t4vW"
   },
   "outputs": [],
   "source": [
    "Momo_gensim_corpus = [Momo_dictionary.doc2bow(text, allow_update=True) for text in Momo_texts]\n",
    "Momo_word_frequencies = [[(Momo_dictionary[id], frequence) for id, frequence in couple] for couple in Momo_gensim_corpus]"
   ]
  },
  {
   "cell_type": "code",
   "execution_count": 14,
   "metadata": {
    "colab": {
     "base_uri": "https://localhost:8080/"
    },
    "id": "HojVSOd8uIE3",
    "outputId": "a2d22db0-141e-4ba9-d6c2-8c141566fa67"
   },
   "outputs": [
    {
     "name": "stdout",
     "output_type": "stream",
     "text": [
      "CPU times: user 116 ms, sys: 0 ns, total: 116 ms\n",
      "Wall time: 116 ms\n"
     ]
    }
   ],
   "source": [
    "Momo_num_topics = 4\n",
    "Momo_chunksize = 21 # size of the doc looked at every pass\n",
    "Momo_passes = 20 # number of passes through documents\n",
    "Momo_iterations = 50\n",
    "Momo_eval_every = 1  # Don't evaluate model perplexity, takes too much time.\n",
    "\n",
    "# Make a index to word dictionary.\n",
    "Momo_temp = Momo_dictionary[0]  # This is only to \"load\" the dictionary.\n",
    "Momo_id2word = Momo_dictionary.id2token\n",
    "\n",
    "%time Momo_model = gensim.models.LdaModel(corpus=Momo_gensim_corpus, id2word=Momo_id2word, chunksize=Momo_chunksize, \\\n",
    "                       alpha='auto', eta='auto', \\\n",
    "                       iterations=Momo_iterations, num_topics=Momo_num_topics, \\\n",
    "                       passes=Momo_passes, eval_every=Momo_eval_every)"
   ]
  },
  {
   "cell_type": "code",
   "execution_count": 15,
   "metadata": {
    "colab": {
     "base_uri": "https://localhost:8080/",
     "height": 861
    },
    "id": "94gdbQ2cuNmN",
    "outputId": "e2436ece-8843-4e77-d750-e5d3a4157405"
   },
   "outputs": [
    {
     "data": {
      "text/html": [
       "\n",
       "<link rel=\"stylesheet\" type=\"text/css\" href=\"https://cdn.rawgit.com/bmabey/pyLDAvis/files/ldavis.v1.0.0.css\">\n",
       "\n",
       "\n",
       "<div id=\"ldavis_el11691398124332268727272184637\"></div>\n",
       "<script type=\"text/javascript\">\n",
       "\n",
       "var ldavis_el11691398124332268727272184637_data = {\"mdsDat\": {\"x\": [0.046775514668373076, -0.038659043970097715, -0.009892789398627826, 0.0017763187003524783], \"y\": [-0.006896089237615241, -0.015414199470355678, 0.026819554004254606, -0.004509265296283693], \"topics\": [1, 2, 3, 4], \"cluster\": [1, 1, 1, 1], \"Freq\": [48.12591307485648, 41.37999738298937, 10.45172608324354, 0.04236345891061071]}, \"tinfo\": {\"Term\": [\"\\u0e19\\u0e49\\u0e33\", \"\\u0e0a\\u0e32\\u0e1a\\u0e39\", \"\\u0e40\\u0e19\\u0e37\\u0e49\\u0e2d\", \"\\u0e23\\u0e2a\\u0e0a\\u0e32\\u0e15\\u0e34\", \"\\u0e2d\\u0e23\\u0e48\\u0e2d\\u0e22\", \"\\u0e19\\u0e49\\u0e33\\u0e08\\u0e34\\u0e49\\u0e21\", \"\\u0e42\\u0e21\", \"\\u0e2a\\u0e32\\u0e02\\u0e32\", \"\\u0e0b\\u0e38\\u0e1b\", \"\\u0e23\\u0e32\\u0e04\\u0e32\", \"\\u0e1e\\u0e19\\u0e31\\u0e01\\u0e07\\u0e32\\u0e19\", \"\\u0e2d\\u0e32\\u0e2b\\u0e32\\u0e23\", \"\\u0e1c\\u0e31\\u0e01\", \"\\u0e40\\u0e1b\\u0e47\\u0e14\", \"\\u0e40\\u0e19\\u0e37\\u0e49\\u0e2d\\u0e27\\u0e31\\u0e27\", \"\\u0e40\\u0e19\\u0e37\\u0e49\\u0e2d\\u0e2b\\u0e21\\u0e39\", \"\\u0e44\\u0e2d\\u0e15\\u0e34\\u0e21\", \"\\u0e40\\u0e2a\\u0e34\\u0e23\\u0e4c\\u0e1f\", \"\\u0e2b\\u0e27\\u0e32\\u0e19\", \"\\u0e41\\u0e19\\u0e27\", \"\\u0e2a\\u0e31\\u0e19\", \"\\u0e02\\u0e2d\\u0e07\\u0e2b\\u0e27\\u0e32\\u0e19\", \"\\u0e04\\u0e2d\", \"\\u0e0a\\u0e32\\u0e40\\u0e02\\u0e35\\u0e22\\u0e27\", \"\\u0e44\\u0e01\\u0e48\", \"\\u0e2b\\u0e21\\u0e39\", \"\\u0e42\\u0e1b\\u0e23\", \"\\u0e40\\u0e2b\\u0e47\\u0e14\", \"\\u0e23\\u0e32\\u0e22\\u0e25\\u0e30\\u0e40\\u0e2d\\u0e35\\u0e22\\u0e14\", \"\\u0e42\\u0e21\\u0e48\", \"\\u0e23\\u0e2a\", \"\\u0e40\\u0e2b\\u0e47\\u0e14\", \"\\u0e44\\u0e01\\u0e48\", \"\\u0e0a\\u0e32\\u0e40\\u0e02\\u0e35\\u0e22\\u0e27\", \"\\u0e2b\\u0e27\\u0e32\\u0e19\", \"\\u0e40\\u0e2a\\u0e34\\u0e23\\u0e4c\\u0e1f\", \"\\u0e44\\u0e1c\\u0e48\", \"::\", \"\\u0e19\\u0e38\\u0e48\\u0e21\", \"\\u0e44\\u0e21\\u0e49\", \"\\u0e44\\u0e14\\u0e1f\\u0e39\\u0e01\\u0e38\", \"\\u0e42\\u0e15\\u0e4a\\u0e30\", \"\\u0e2a\\u0e48\\u0e27\\u0e19\\u0e15\\u0e31\\u0e27\", \"\\u0e42\\u0e2b\\u0e14\", \"\\u0e2d\\u0e2d\", \"\\u0e16\\u0e49\\u0e27\\u0e22\", \"\\u0e44\\u0e27\", \"\\u0e2a\", \"\\u0e44\\u0e2d\\u0e28\\u0e01\\u0e23\\u0e35\\u0e21\", \"\\u0e02\\u0e49\\u0e32\\u0e27\", \"\\u0e0b\\u0e2d\\u0e2a\", \"\\u0e44\\u0e02\\u0e48\", \"\\u0e15\\u0e30\", \"\\u0e27\\u0e27\\u0e27\", \"\\u0e40\\u0e04\\u0e47\\u0e21\", \"\\u0e08\\u0e37\\u0e14\", \"\\u0e01\\u0e32\\u0e41\\u0e1f\", \"\\u0e0b\\u0e2d\\u0e22\", \"\\u0e19\", \"\\u0e1a\\u0e14\", \"\\u0e0b\\u0e38\\u0e1b\", \"\\u0e19\\u0e49\\u0e33\", \"\\u0e0a\\u0e32\\u0e1a\\u0e39\", \"\\u0e40\\u0e19\\u0e37\\u0e49\\u0e2d\", \"\\u0e23\\u0e32\\u0e04\\u0e32\", \"\\u0e23\\u0e2a\\u0e0a\\u0e32\\u0e15\\u0e34\", \"\\u0e40\\u0e1b\\u0e47\\u0e14\", \"\\u0e40\\u0e19\\u0e37\\u0e49\\u0e2d\\u0e27\\u0e31\\u0e27\", \"\\u0e40\\u0e19\\u0e37\\u0e49\\u0e2d\\u0e2b\\u0e21\\u0e39\", \"\\u0e44\\u0e2d\\u0e15\\u0e34\\u0e21\", \"\\u0e2d\\u0e23\\u0e48\\u0e2d\\u0e22\", \"\\u0e19\\u0e49\\u0e33\\u0e08\\u0e34\\u0e49\\u0e21\", \"\\u0e41\\u0e15\\u0e32\", \"\\u0e40\\u0e19\\u0e37\\u0e49\\u0e2d\\u0e2a\\u0e31\\u0e15\\u0e27\\u0e4c\", \"\\u0e41\\u0e14\\u0e07\", \"\\u0e16\\u0e31\\u0e48\\u0e27\", \"\\u0e20\\u0e32\\u0e29\\u0e32\", \"\\u0e04\\u0e38\", \"\\u0e42\\u0e21\\u0e48\", \"\\u0e1e\\u0e19\\u0e31\\u0e01\\u0e07\\u0e32\\u0e19\", \"\\u0e42\\u0e21\", \"\\u0e41\\u0e19\\u0e27\", \"\\u0e2a\\u0e31\\u0e19\", \"\\u0e02\\u0e2d\\u0e07\\u0e2b\\u0e27\\u0e32\\u0e19\", \"\\u0e1c\\u0e31\\u0e01\", \"\\u0e2a\\u0e32\\u0e02\\u0e32\", \"\\u0e15\\u0e48\\u0e32\\u0e07 \\u0e46\", \"\\u0e1a\\u0e38\", \"\\u0e1f\\u0e40\\u0e1f\\u0e48\", \"\\u0e1e\\u0e2d\\u0e19\", \"\\u0e0b\\u0e36\", \"\\u0e2a\\u0e38\\u0e01\\u0e35\\u0e49\", \"\\u0e2a\\u0e32\\u0e22\", \"\\u0e1a\\u0e4b\\u0e27\\u0e22\", \"\\u0e42\\u0e0b\\u0e19\", \"\\u0e42\\u0e1b\\u0e23\\u0e42\\u0e21\\u0e0a\\u0e31\\u0e48\\u0e19\", \"\\u0e04\\u0e32\\u0e21\\u0e35\", \"\\u0e2b\\u0e22\\u0e34\\u0e1a\", \"\\u0e23\\u0e32\", \"\\u0e2b\\u0e2d\", \"\\u0e04\\u0e38\\u0e13\\u0e20\\u0e32\\u0e1e\\u0e14\\u0e35\", \"\\u0e40\\u0e2a\\u0e49\\u0e19\", \"\\u0e40\\u0e1c\\u0e47\\u0e14\", \"\\u0e20\\u0e32\\u0e1e\", \"\\u0e40\\u0e14\\u0e47\\u0e01\", \"\\u0e2a\\u0e30\\u0e2d\\u0e32\\u0e14\\u0e2a\\u0e30\\u0e2d\\u0e49\\u0e32\\u0e19\", \"\\u0e04\\u0e27\\u0e32\\u0e21\\u0e15\\u0e49\\u0e2d\\u0e07\\u0e01\\u0e32\\u0e23\", \"\\u0e04\\u0e38\\u0e49\\u0e21\", \"\\u0e2a\\u0e1a\\u0e32\\u0e22\\u0e14\\u0e35\", \"\\u0e42\\u0e21\\u0e08\\u0e34\", \"\\u0e02\\u0e19\\u0e21\", \"\\u0e41\\u0e1f\\u0e19\", \"\\u0e19\\u0e31\\u0e48\\u0e07\", \"\\u0e02\\u0e49\\u0e32\\u0e07\\u0e19\\u0e2d\\u0e01\", \"\\u0e1a\\u0e31\\u0e15\\u0e23\\u0e40\\u0e04\\u0e23\\u0e14\\u0e34\\u0e15\", \"\\u0e16\\u0e32\\u0e14\", \"\\u0e2d\\u0e32\\u0e2b\\u0e32\\u0e23\", \"\\u0e42\\u0e21\", \"\\u0e1c\\u0e31\\u0e01\", \"\\u0e2a\\u0e32\\u0e02\\u0e32\", \"\\u0e40\\u0e19\\u0e37\\u0e49\\u0e2d\", \"\\u0e2d\\u0e23\\u0e48\\u0e2d\\u0e22\", \"\\u0e19\\u0e49\\u0e33\\u0e08\\u0e34\\u0e49\\u0e21\", \"\\u0e0a\\u0e32\\u0e1a\\u0e39\", \"\\u0e23\\u0e2a\\u0e0a\\u0e32\\u0e15\\u0e34\", \"\\u0e1e\\u0e19\\u0e31\\u0e01\\u0e07\\u0e32\\u0e19\", \"\\u0e19\\u0e49\\u0e33\", \"\\u0e23\\u0e32\\u0e04\\u0e32\", \"\\u0e1b\\u0e23\\u0e30\\u0e17\\u0e31\\u0e1a\\u0e43\\u0e08\", \"\\u0e41\\u0e1a\\u0e1a\\u0e09\\u0e1a\\u0e31\\u0e1a\", \"\\u0e21\\u0e2d\", \"\\u0e01\\u0e30\\u0e1b\\u0e34\", \"\\u0e04\\u0e19\", \"\\u0e1a\\u0e38\\u0e1f\\u0e40\\u0e1f\\u0e48\\u0e15\\u0e4c\", \"\\u0e40\\u0e14\\u0e2d\\u0e30\", \"\\u0e40\\u0e0b\\u0e47\\u0e17\", \"\\u0e44\\u0e14\", \"\\u0e40\\u0e21\\u0e19\\u0e39\", \"\\u0e25\", \"\\u0e1e\\u0e32\\u0e23\\u0e32\", \"\\u0e2b\\u0e25\\u0e32\\u0e01\", \"\\u0e01\\u0e4c\", \"Number\", \"\\u0e04\\u0e30\\u0e41\\u0e19\\u0e19\", \"\\u0e01\\u0e23\\u0e23\\u0e21\\u0e27\\u0e34\\u0e18\\u0e35\", \"\\u0e2a\\u0e44\\u0e15\\u0e25\\u0e4c\", \"\\u0e2a\\u0e4c\", \"\\u0e0a\\u0e38\\u0e14\", \"\\u0e23\\u0e32\\u0e22\\u0e25\\u0e30\\u0e40\\u0e2d\\u0e35\\u0e22\\u0e14\", \"\\u0e04\\u0e38\\u0e13\\u0e20\\u0e32\\u0e1e\", \"\\u0e19\\u0e48\\u0e32\\u0e23\\u0e31\\u0e01\", \"CTW\", \"\\u0e0b\\u0e38\\u0e1b\", \"\\u0e40\\u0e1b\\u0e47\\u0e14\", \"\\u0e40\\u0e19\\u0e37\\u0e49\\u0e2d\\u0e27\\u0e31\\u0e27\", \"\\u0e40\\u0e19\\u0e37\\u0e49\\u0e2d\\u0e2b\\u0e21\\u0e39\", \"\\u0e41\\u0e19\\u0e27\", \"\\u0e2a\\u0e31\\u0e19\", \"\\u0e02\\u0e2d\\u0e07\\u0e2b\\u0e27\\u0e32\\u0e19\", \"\\u0e44\\u0e2d\\u0e15\\u0e34\\u0e21\", \"\\u0e04\\u0e2d\", \"\\u0e2b\\u0e21\\u0e39\", \"\\u0e42\\u0e1b\\u0e23\", \"\\u0e2d\\u0e2d\\u0e23\\u0e4c\\u0e40\\u0e14\\u0e2d\\u0e23\\u0e4c\", \"\\u0e2a\\u0e21\\u0e32\\u0e17\\u0e32\\u0e19\", \"\\u0e1e\\u0e23\\u0e30\\u0e23\\u0e32\\u0e21\", \"\\u0e01\\u0e32\", \"\\u0e21\\u0e35\\u0e42\\u0e2d\", \"\\u0e19\\u0e32\\u0e17\\u0e35\", \"Terminal\", \"\\u0e40\\u0e2b\\u0e27\\u0e35\\u0e48\\u0e22\\u0e07\", \"\\u0e1e\\u0e23\\u0e35\\u0e40\\u0e21\\u0e35\\u0e22\\u0e21\", \"           \", \"\\u0e1e\\u0e32\\u0e23\\u0e32\\u0e44\\u0e14\\u0e0b\\u0e4c\", \"\\u0e10\\u0e32\\u0e19\", \"\\u0e17\\u0e35\\u0e48\\u0e17\\u0e32\\u0e07\", \"\\u0e41\\u0e08\\u0e49\\u0e07\", \"\\u0e25\\u0e39\\u0e01\\u0e04\\u0e49\\u0e32\", \"\\u0e40\\u0e04\\u0e49\\u0e32\", \"\\u0e01\\u0e32\\u0e23\\u0e07\\u0e14\", \"\\u0e1e\\u0e19\\u0e31\\u0e01\\u0e07\\u0e32\\u0e19\\u0e1a\\u0e23\\u0e34\\u0e01\\u0e32\\u0e23\", \"\\u0e21\\u0e32\\u0e15\\u0e23\\u0e32\", \"\\u0e2a\\u0e32\\u0e02\\u0e32\", \"CTW\", \"\\u0e19\\u0e48\\u0e32\\u0e23\\u0e31\\u0e01\", \"\\u0e04\\u0e38\\u0e13\\u0e20\\u0e32\\u0e1e\", \"\\u0e23\\u0e32\\u0e22\\u0e25\\u0e30\\u0e40\\u0e2d\\u0e35\\u0e22\\u0e14\", \"\\u0e42\\u0e21\\u0e48\", \"\\u0e1e\\u0e19\\u0e31\\u0e01\\u0e07\\u0e32\\u0e19\", \"\\u0e2d\\u0e32\\u0e2b\\u0e32\\u0e23\", \"\\u0e42\\u0e21\", \"\\u0e0a\\u0e32\\u0e1a\\u0e39\", \"\\u0e0a\\u0e38\\u0e14\", \"\\u0e41\\u0e19\\u0e27\", \"\\u0e40\\u0e19\\u0e37\\u0e49\\u0e2d\", \"\\u0e19\\u0e49\\u0e33\", \"\\u0e23\\u0e2a\\u0e0a\\u0e32\\u0e15\\u0e34\", \"\\u0e2d\\u0e23\\u0e48\\u0e2d\\u0e22\", \"\\u0e19\\u0e49\\u0e33\\u0e08\\u0e34\\u0e49\\u0e21\", \"\\u0e0b\\u0e38\\u0e1b\", \"\\u0e23\\u0e32\\u0e04\\u0e32\", \"\\u0e1c\\u0e31\\u0e01\", \"\\u0e21\\u0e32\\u0e15\\u0e23\\u0e32\", \"\\u0e1e\\u0e19\\u0e31\\u0e01\\u0e07\\u0e32\\u0e19\\u0e1a\\u0e23\\u0e34\\u0e01\\u0e32\\u0e23\", \"\\u0e01\\u0e32\\u0e23\\u0e07\\u0e14\", \"\\u0e40\\u0e04\\u0e49\\u0e32\", \"\\u0e25\\u0e39\\u0e01\\u0e04\\u0e49\\u0e32\", \"\\u0e41\\u0e08\\u0e49\\u0e07\", \"\\u0e17\\u0e35\\u0e48\\u0e17\\u0e32\\u0e07\", \"\\u0e10\\u0e32\\u0e19\", \"\\u0e1e\\u0e32\\u0e23\\u0e32\\u0e44\\u0e14\\u0e0b\\u0e4c\", \"           \", \"\\u0e1e\\u0e23\\u0e35\\u0e40\\u0e21\\u0e35\\u0e22\\u0e21\", \"\\u0e40\\u0e2b\\u0e27\\u0e35\\u0e48\\u0e22\\u0e07\", \"Terminal\", \"\\u0e19\\u0e32\\u0e17\\u0e35\", \"\\u0e21\\u0e35\\u0e42\\u0e2d\", \"\\u0e01\\u0e32\", \"\\u0e1e\\u0e23\\u0e30\\u0e23\\u0e32\\u0e21\", \"\\u0e2a\\u0e21\\u0e32\\u0e17\\u0e32\\u0e19\", \"\\u0e2d\\u0e2d\\u0e23\\u0e4c\\u0e40\\u0e14\\u0e2d\\u0e23\\u0e4c\", \"\\u0e23\\u0e32\\u0e22\\u0e25\\u0e30\\u0e40\\u0e2d\\u0e35\\u0e22\\u0e14\", \"\\u0e04\\u0e38\\u0e13\\u0e20\\u0e32\\u0e1e\", \"\\u0e19\\u0e48\\u0e32\\u0e23\\u0e31\\u0e01\", \"CTW\", \"\\u0e42\\u0e21\\u0e48\", \"\\u0e1e\\u0e19\\u0e31\\u0e01\\u0e07\\u0e32\\u0e19\", \"\\u0e0a\\u0e38\\u0e14\", \"\\u0e2a\\u0e44\\u0e15\\u0e25\\u0e4c\", \"\\u0e2a\\u0e4c\", \"Number\", \"\\u0e1a\\u0e38\\u0e1f\\u0e40\\u0e1f\\u0e48\\u0e15\\u0e4c\", \"\\u0e2a\\u0e32\\u0e02\\u0e32\", \"\\u0e41\\u0e19\\u0e27\", \"\\u0e2a\\u0e31\\u0e19\", \"\\u0e02\\u0e2d\\u0e07\\u0e2b\\u0e27\\u0e32\\u0e19\", \"\\u0e04\\u0e2d\", \"\\u0e42\\u0e21\", \"\\u0e0a\\u0e32\\u0e1a\\u0e39\", \"\\u0e40\\u0e19\\u0e37\\u0e49\\u0e2d\", \"\\u0e19\\u0e49\\u0e33\", \"\\u0e23\\u0e2a\\u0e0a\\u0e32\\u0e15\\u0e34\", \"\\u0e2d\\u0e23\\u0e48\\u0e2d\\u0e22\", \"\\u0e19\\u0e49\\u0e33\\u0e08\\u0e34\\u0e49\\u0e21\", \"\\u0e23\\u0e32\\u0e04\\u0e32\", \"\\u0e2d\\u0e32\\u0e2b\\u0e32\\u0e23\", \"\\u0e0b\\u0e38\\u0e1b\", \"\\u0e40\\u0e1b\\u0e47\\u0e14\", \"\\u0e1c\\u0e31\\u0e01\", \"\\u0e40\\u0e19\\u0e37\\u0e49\\u0e2d\\u0e27\\u0e31\\u0e27\", \"\\u0e40\\u0e19\\u0e37\\u0e49\\u0e2d\\u0e2b\\u0e21\\u0e39\", \"\\u0e44\\u0e2d\\u0e15\\u0e34\\u0e21\", \"\\u0e2b\\u0e21\\u0e39\", \"\\u0e42\\u0e1b\\u0e23\", \"\\u0e40\\u0e2a\\u0e34\\u0e23\\u0e4c\\u0e1f\", \"\\u0e2b\\u0e27\\u0e32\\u0e19\"], \"Freq\": [14.0, 11.0, 10.0, 7.0, 6.0, 6.0, 5.0, 4.0, 5.0, 4.0, 4.0, 4.0, 3.0, 3.0, 3.0, 3.0, 3.0, 2.0, 2.0, 2.0, 2.0, 2.0, 2.0, 2.0, 2.0, 2.0, 2.0, 2.0, 1.0, 1.0, 1.9933902057522856, 2.0298420705682223, 2.036643848609631, 2.037753650228764, 2.0440457208934597, 2.0515102915775056, 1.4153984140267069, 1.4214360969147244, 1.4232602076964183, 1.4237243888462225, 1.423740229843305, 1.425991248840491, 0.7708141988304078, 0.7708655156738978, 0.7709164997233314, 0.7709256848392868, 0.7709340046906956, 0.7709356686609774, 0.7709575665098856, 0.7710438267292928, 0.7918027878178027, 0.7925469153278129, 0.7928156798077253, 0.7928733862970972, 0.793382161850453, 0.7936941229988803, 0.7938342292966057, 0.7939057800187221, 0.7939861165039263, 0.7941030603353295, 3.7086617562561273, 8.381414049540359, 5.583314104406216, 5.26199851440763, 2.6166358657315265, 3.622633161512097, 1.7669719058643483, 1.762716401706924, 1.758006034633273, 1.7545371225074498, 2.9439457422731823, 2.939430924987046, 0.7973451400323412, 0.7978424674701584, 0.7978341476187495, 0.7976147032179889, 0.797816110180895, 0.7976817279409388, 1.0658325356134335, 1.5793193213073737, 1.8477114712295373, 1.081509664902589, 1.080355668232772, 1.0794947965677926, 1.3577639412885203, 1.1837670949224002, 1.2996358988224, 1.3138248278778195, 1.3140579792942233, 1.3195762395238013, 1.3216055839581833, 1.3359537244128261, 0.7173670195804249, 0.7175541587879948, 0.717647270558856, 0.7185453098387297, 0.7190044590321039, 0.7190144741273101, 0.7190794291733628, 0.7253058424777024, 0.7255212528683119, 0.7257015818111415, 0.7260671614007307, 0.7262271740075703, 0.7264312530333178, 0.7268643629791554, 0.7271096469680375, 0.7271840448181418, 0.7273181898647912, 0.7279155473720129, 0.7282051839253803, 0.7282891962668826, 0.7285337935063791, 0.7285650978325384, 0.7289457859086103, 0.7291321239085636, 2.8053694087529633, 3.1652478338595227, 2.2284632982338484, 2.55166037840855, 4.881364728897177, 3.2160352400876078, 3.210864932880056, 4.694608269651499, 3.3603986597615783, 1.9498495303379235, 4.8670281487238585, 1.942489637172688, 0.7319989019895421, 0.7451029959322109, 0.7439116574355801, 0.7449343417289361, 0.7455860096667338, 0.7473547899384045, 0.7466100102297455, 0.7472405033948213, 0.7467732848961666, 0.7470000266516382, 0.7470544515404453, 0.7473423139912332, 0.7462785391929734, 0.7463363978287083, 0.7474393745710615, 0.7465493473673529, 0.7460782372888466, 0.7481301299947216, 0.7477153905949482, 0.7481875880266483, 1.0079230731459674, 0.9850092220632457, 0.9845091540523143, 0.9789916950303525, 1.5029303133968661, 1.1548705018414047, 1.1509734279947135, 1.146566213812769, 1.003479919079511, 1.0023723067788053, 1.001590442603325, 1.1433261302116136, 1.000336781599953, 0.9939992293533808, 0.9912366654916638, 0.2868823711383508, 0.2876877972435008, 0.2877225178735182, 0.28798530765441605, 0.2880170505784453, 0.28807079383506673, 0.2881355806226346, 0.28825153769757206, 0.2883332077889952, 0.28835465883601674, 0.28835526594112115, 0.2884237531788491, 0.2885086611641623, 0.288553991678623, 0.288586948812861, 0.28869564953631266, 0.2887952436831986, 0.2888761332109161, 0.28963628662113916, 1.011146734205936, 0.38794842989496664, 0.3900777787741778, 0.3903025522116344, 0.3994735397379991, 0.3918186960256504, 0.5806266489031905, 0.5356904636626687, 0.6787258717439804, 1.092569011107421, 0.10461180552668098, 0.20563129787630222, 0.7824700156648703, 0.9691851326987628, 0.5637482018887638, 0.5063923229790157, 0.5045312856461756, 0.4036565517267415, 0.38589534498077294, 0.30711435111032953, 0.0004896344301047204, 0.00048580275131754536, 0.00048539517515456144, 0.0004848932995832081, 0.00048434566580251226, 0.0004841794187871357, 0.0004839511550437324, 0.0004835234241765055, 0.0004831785092233702, 0.00048317534540351804, 0.0004830671603413532, 0.0004826561567068629, 0.0004820720804086114, 0.00048174576754442125, 0.00048147514376855374, 0.0004813151658036249, 0.00047999219109676693, 0.0004798173314606819, 0.0004757638044536925, 0.0010403790366701024, 0.0009943766273065244, 0.0009933159274064796, 0.0009824806060733738, 0.0010019798723036844, 0.0019489368161314032, 0.0005245770333988348, 0.0005244169675500212, 0.0005235499051427764, 0.0005229723908412552, 0.0005227867214873422, 0.002181926954858223, 0.0010313629703412102, 0.0010289673728206058, 0.001027567089589769, 0.0010249313932959442, 0.00244068898420768, 0.004515927246512588, 0.0039236892304708075, 0.004860268493648101, 0.0028271045825926195, 0.00253988715749338, 0.0025301243125008793, 0.0019350266720268524, 0.001723397004442225, 0.0020241913179549274, 0.0013324133189049066, 0.0015401858213757724, 0.001324558725997274, 0.0013157397539273164, 0.0013092484158403997, 0.00101300883112959, 0.0010068583653371087, 0.0008943100440606797, 0.0008803633402600601], \"Total\": [14.0, 11.0, 10.0, 7.0, 6.0, 6.0, 5.0, 4.0, 5.0, 4.0, 4.0, 4.0, 3.0, 3.0, 3.0, 3.0, 3.0, 2.0, 2.0, 2.0, 2.0, 2.0, 2.0, 2.0, 2.0, 2.0, 2.0, 2.0, 1.0, 1.0, 2.5467320278260646, 2.630735154523858, 2.6464649596687804, 2.648886802968371, 2.663387870299454, 2.680610983981386, 1.8965980993951759, 1.9105091711350315, 1.9147356192971334, 1.9157862442500033, 1.9158586236590476, 1.9210378977474853, 1.0931858093776363, 1.093303892899951, 1.0934212554489036, 1.093442231379209, 1.0934615215532573, 1.0934651688495522, 1.0935155823289473, 1.0937140888193362, 1.1414951632319938, 1.1432188947534039, 1.1438354874778993, 1.1439721162879215, 1.14514604586256, 1.145860667185389, 1.1462395019311893, 1.1463460789050164, 1.1465906006286302, 1.1468056799727535, 5.617272812697689, 14.22248759945663, 11.375007312411649, 10.929756948200147, 4.9469558745570135, 7.549607127745031, 3.188819672679568, 3.1790944411308777, 3.1682200407588557, 3.160219051999906, 6.6689131924973, 6.657357267825778, 1.1542818663280154, 1.15544347763167, 1.1554249059042894, 1.154915906424293, 1.1553881524369327, 1.1550784991206635, 1.9629392371690568, 4.11174443736462, 5.694125865817248, 2.2916522448287435, 2.289010447427172, 2.286994575066113, 3.894881776454074, 4.748756134491744, 1.787647940878416, 1.8230626420729235, 1.8236514030186681, 1.8374389986908224, 1.842473895083784, 1.8790124874701934, 1.0610188936488445, 1.061482781150095, 1.0617138414472107, 1.063940507236257, 1.065078989422615, 1.06510395311736, 1.0652650289126622, 1.0807213723882931, 1.0812562001595096, 1.0817041808869288, 1.0826171377150784, 1.083016000395492, 1.0835161330404048, 1.0845962367692574, 1.0852046588364503, 1.0853884433854262, 1.0857193242383798, 1.0872076566558557, 1.0879232696023247, 1.0881334880960116, 1.0887394923880949, 1.0888248531596347, 1.0897636085948885, 1.0902267916003205, 4.277888841874683, 5.694125865817248, 3.894881776454074, 4.748756134491744, 10.929756948200147, 6.6689131924973, 6.657357267825778, 11.375007312411649, 7.549607127745031, 4.11174443736462, 14.22248759945663, 4.9469558745570135, 1.097351466715664, 1.1302947556907594, 1.1272857359309498, 1.1298708724911128, 1.131533132110276, 1.1360498674835122, 1.1341335190078161, 1.1357617853036999, 1.1345594224228182, 1.1351433594123501, 1.1352840710944294, 1.1360283883838203, 1.133289251440349, 1.1334403703474347, 1.1362830876232866, 1.1339923784203343, 1.1327815410315842, 1.1380848641474701, 1.1370039504875944, 1.1382874341480678, 1.9730712954886664, 1.9157275441284773, 1.9144253425127993, 1.9008735837581874, 5.617272812697689, 3.188819672679568, 3.1790944411308777, 3.1682200407588557, 2.2916522448287435, 2.289010447427172, 2.286994575066113, 3.160219051999906, 2.284001380613244, 2.2691814074960117, 2.2615266130929337, 0.7848942876601602, 0.7899500543208864, 0.7901681578708788, 0.7918182699294183, 0.79201790413028, 0.7923556913568006, 0.7927626660829044, 0.7934911863387998, 0.7940038713473695, 0.7941388990496463, 0.7941426519161586, 0.7945731483488818, 0.7951067436290888, 0.7953912301368695, 0.7955987819653593, 0.7962821950040707, 0.7969081726440693, 0.7974168844153948, 0.8021974440328472, 4.748756134491744, 1.9008735837581874, 1.9144253425127993, 1.9157275441284773, 1.9730712954886664, 1.9629392371690568, 4.11174443736462, 4.277888841874683, 5.694125865817248, 11.375007312411649, 1.1382874341480678, 2.2916522448287435, 10.929756948200147, 14.22248759945663, 7.549607127745031, 6.6689131924973, 6.657357267825778, 5.617272812697689, 4.9469558745570135, 3.894881776454074, 0.8021974440328472, 0.7974168844153948, 0.7969081726440693, 0.7962821950040707, 0.7955987819653593, 0.7953912301368695, 0.7951067436290888, 0.7945731483488818, 0.7941426519161586, 0.7941388990496463, 0.7940038713473695, 0.7934911863387998, 0.7927626660829044, 0.7923556913568006, 0.79201790413028, 0.7918182699294183, 0.7901681578708788, 0.7899500543208864, 0.7848942876601602, 1.9730712954886664, 1.9157275441284773, 1.9144253425127993, 1.9008735837581874, 1.9629392371690568, 4.11174443736462, 1.1382874341480678, 1.1380848641474701, 1.1370039504875944, 1.1362830876232866, 1.1360498674835122, 4.748756134491744, 2.2916522448287435, 2.289010447427172, 2.286994575066113, 2.284001380613244, 5.694125865817248, 11.375007312411649, 10.929756948200147, 14.22248759945663, 7.549607127745031, 6.6689131924973, 6.657357267825778, 4.9469558745570135, 4.277888841874683, 5.617272812697689, 3.188819672679568, 3.894881776454074, 3.1790944411308777, 3.1682200407588557, 3.160219051999906, 2.2691814074960117, 2.2615266130929337, 2.680610983981386, 2.663387870299454], \"Category\": [\"Default\", \"Default\", \"Default\", \"Default\", \"Default\", \"Default\", \"Default\", \"Default\", \"Default\", \"Default\", \"Default\", \"Default\", \"Default\", \"Default\", \"Default\", \"Default\", \"Default\", \"Default\", \"Default\", \"Default\", \"Default\", \"Default\", \"Default\", \"Default\", \"Default\", \"Default\", \"Default\", \"Default\", \"Default\", \"Default\", \"Topic1\", \"Topic1\", \"Topic1\", \"Topic1\", \"Topic1\", \"Topic1\", \"Topic1\", \"Topic1\", \"Topic1\", \"Topic1\", \"Topic1\", \"Topic1\", \"Topic1\", \"Topic1\", \"Topic1\", \"Topic1\", \"Topic1\", \"Topic1\", \"Topic1\", \"Topic1\", \"Topic1\", \"Topic1\", \"Topic1\", \"Topic1\", \"Topic1\", \"Topic1\", \"Topic1\", \"Topic1\", \"Topic1\", \"Topic1\", \"Topic1\", \"Topic1\", \"Topic1\", \"Topic1\", \"Topic1\", \"Topic1\", \"Topic1\", \"Topic1\", \"Topic1\", \"Topic1\", \"Topic1\", \"Topic1\", \"Topic1\", \"Topic1\", \"Topic1\", \"Topic1\", \"Topic1\", \"Topic1\", \"Topic1\", \"Topic1\", \"Topic1\", \"Topic1\", \"Topic1\", \"Topic1\", \"Topic1\", \"Topic1\", \"Topic2\", \"Topic2\", \"Topic2\", \"Topic2\", \"Topic2\", \"Topic2\", \"Topic2\", \"Topic2\", \"Topic2\", \"Topic2\", \"Topic2\", \"Topic2\", \"Topic2\", \"Topic2\", \"Topic2\", \"Topic2\", \"Topic2\", \"Topic2\", \"Topic2\", \"Topic2\", \"Topic2\", \"Topic2\", \"Topic2\", \"Topic2\", \"Topic2\", \"Topic2\", \"Topic2\", \"Topic2\", \"Topic2\", \"Topic2\", \"Topic2\", \"Topic2\", \"Topic2\", \"Topic2\", \"Topic2\", \"Topic2\", \"Topic2\", \"Topic2\", \"Topic2\", \"Topic2\", \"Topic2\", \"Topic2\", \"Topic2\", \"Topic2\", \"Topic2\", \"Topic2\", \"Topic2\", \"Topic2\", \"Topic2\", \"Topic2\", \"Topic2\", \"Topic2\", \"Topic2\", \"Topic2\", \"Topic2\", \"Topic2\", \"Topic2\", \"Topic2\", \"Topic2\", \"Topic2\", \"Topic2\", \"Topic2\", \"Topic2\", \"Topic2\", \"Topic2\", \"Topic2\", \"Topic2\", \"Topic2\", \"Topic2\", \"Topic2\", \"Topic2\", \"Topic2\", \"Topic2\", \"Topic2\", \"Topic2\", \"Topic2\", \"Topic2\", \"Topic3\", \"Topic3\", \"Topic3\", \"Topic3\", \"Topic3\", \"Topic3\", \"Topic3\", \"Topic3\", \"Topic3\", \"Topic3\", \"Topic3\", \"Topic3\", \"Topic3\", \"Topic3\", \"Topic3\", \"Topic3\", \"Topic3\", \"Topic3\", \"Topic3\", \"Topic3\", \"Topic3\", \"Topic3\", \"Topic3\", \"Topic3\", \"Topic3\", \"Topic3\", \"Topic3\", \"Topic3\", \"Topic3\", \"Topic3\", \"Topic3\", \"Topic3\", \"Topic3\", \"Topic3\", \"Topic3\", \"Topic3\", \"Topic3\", \"Topic3\", \"Topic3\", \"Topic4\", \"Topic4\", \"Topic4\", \"Topic4\", \"Topic4\", \"Topic4\", \"Topic4\", \"Topic4\", \"Topic4\", \"Topic4\", \"Topic4\", \"Topic4\", \"Topic4\", \"Topic4\", \"Topic4\", \"Topic4\", \"Topic4\", \"Topic4\", \"Topic4\", \"Topic4\", \"Topic4\", \"Topic4\", \"Topic4\", \"Topic4\", \"Topic4\", \"Topic4\", \"Topic4\", \"Topic4\", \"Topic4\", \"Topic4\", \"Topic4\", \"Topic4\", \"Topic4\", \"Topic4\", \"Topic4\", \"Topic4\", \"Topic4\", \"Topic4\", \"Topic4\", \"Topic4\", \"Topic4\", \"Topic4\", \"Topic4\", \"Topic4\", \"Topic4\", \"Topic4\", \"Topic4\", \"Topic4\", \"Topic4\", \"Topic4\", \"Topic4\", \"Topic4\", \"Topic4\", \"Topic4\"], \"logprob\": [30.0, 29.0, 28.0, 27.0, 26.0, 25.0, 24.0, 23.0, 22.0, 21.0, 20.0, 19.0, 18.0, 17.0, 16.0, 15.0, 14.0, 13.0, 12.0, 11.0, 10.0, 9.0, 8.0, 7.0, 6.0, 5.0, 4.0, 3.0, 2.0, 1.0, -4.272500038146973, -4.25439977645874, -4.251100063323975, -4.250500202178955, -4.247499942779541, -4.243800163269043, -4.614999771118164, -4.6107001304626465, -4.609399795532227, -4.609099864959717, -4.609099864959717, -4.607500076293945, -5.222700119018555, -5.222599983215332, -5.222599983215332, -5.222499847412109, -5.222499847412109, -5.222499847412109, -5.222499847412109, -5.222400188446045, -5.195799827575684, -5.194900035858154, -5.194499969482422, -5.194499969482422, -5.19379997253418, -5.193399906158447, -5.193299770355225, -5.19320011138916, -5.1930999755859375, -5.19290018081665, -3.651700019836426, -2.836400032043457, -3.2425999641418457, -3.3018999099731445, -4.000500202178955, -3.6751999855041504, -4.393099784851074, -4.395500183105469, -4.398200035095215, -4.400199890136719, -3.8826000690460205, -3.884200096130371, -5.188899993896484, -5.188199996948242, -5.188199996948242, -5.188499927520752, -5.188300132751465, -5.188399791717529, -4.898600101470947, -4.50540018081665, -4.348400115966797, -4.883999824523926, -4.8850998878479, -4.885900020599365, -4.656499862670898, -4.793700218200684, -4.549300193786621, -4.538400173187256, -4.5381999015808105, -4.533999919891357, -4.53249979019165, -4.521699905395508, -5.143499851226807, -5.1433000564575195, -5.143099784851074, -5.141900062561035, -5.141200065612793, -5.141200065612793, -5.14109992980957, -5.132500171661377, -5.132199764251709, -5.131999969482422, -5.131499767303467, -5.13129997253418, -5.13100004196167, -5.13040018081665, -5.130000114440918, -5.129899978637695, -5.129799842834473, -5.128900051116943, -5.128499984741211, -5.128399848937988, -5.1280999183654785, -5.127999782562256, -5.127500057220459, -5.127299785614014, -3.7797999382019043, -3.65910005569458, -4.010000228881836, -3.8745999336242676, -3.2258999347686768, -3.643199920654297, -3.6447999477386475, -3.264899969100952, -3.599299907684326, -4.143599987030029, -3.2288999557495117, -4.14739990234375, -5.123300075531006, -5.105599880218506, -5.1072001457214355, -5.105800151824951, -5.104899883270264, -5.10260009765625, -5.103600025177002, -5.102700233459473, -5.103400230407715, -5.103000164031982, -5.103000164031982, -5.10260009765625, -5.104000091552734, -5.103899955749512, -5.102499961853027, -5.103700160980225, -5.104300022125244, -5.101500034332275, -5.102099895477295, -5.101500034332275, -4.803500175476074, -4.826499938964844, -4.827000141143799, -4.832600116729736, -4.403900146484375, -4.667399883270264, -4.67080020904541, -4.674600124359131, -4.8078999519348145, -4.809000015258789, -4.809800148010254, -4.6774001121521, -4.810999870300293, -4.817399978637695, -4.820199966430664, -4.684000015258789, -4.68120002746582, -4.681099891662598, -4.680200099945068, -4.680099964141846, -4.679900169372559, -4.679699897766113, -4.679299831390381, -4.678999900817871, -4.678899765014648, -4.678899765014648, -4.678699970245361, -4.678400039672852, -4.678199768066406, -4.678100109100342, -4.677700042724609, -4.6774001121521, -4.67710018157959, -4.674499988555908, -3.4242000579833984, -4.382199764251709, -4.376699924468994, -4.376200199127197, -4.35290002822876, -4.372300148010254, -3.9790000915527344, -4.059500217437744, -3.8229000568389893, -3.3468000888824463, -5.692800045013428, -5.017000198364258, -3.6805999279022217, -3.466599941253662, -4.008500099182129, -4.115799903869629, -4.119500160217285, -4.34250020980835, -4.387499809265137, -4.615900039672852, -5.548900127410889, -5.55679988861084, -5.557600021362305, -5.558700084686279, -5.559800148010254, -5.560100078582764, -5.5605998039245605, -5.561500072479248, -5.56220006942749, -5.56220006942749, -5.562399864196777, -5.563300132751465, -5.564499855041504, -5.565199851989746, -5.565700054168701, -5.566100120544434, -5.56879997253418, -5.569200038909912, -5.577700138092041, -4.795300006866455, -4.8404998779296875, -4.841599941253662, -4.852499961853027, -4.832900047302246, -4.167600154876709, -5.480000019073486, -5.480299949645996, -5.48199987411499, -5.483099937438965, -5.483399868011475, -4.054599761962891, -4.803999900817871, -4.806300163269043, -4.807700157165527, -4.810200214385986, -3.9426000118255615, -3.327199935913086, -3.4677999019622803, -3.2537999153137207, -3.795599937438965, -3.9026999473571777, -3.906599998474121, -4.174699783325195, -4.290599822998047, -4.129700183868408, -4.547900199890137, -4.402900218963623, -4.553800106048584, -4.560400009155273, -4.565400123596191, -4.821899890899658, -4.828000068664551, -4.946599960327148, -4.962299823760986], \"loglift\": [30.0, 29.0, 28.0, 27.0, 26.0, 25.0, 24.0, 23.0, 22.0, 21.0, 20.0, 19.0, 18.0, 17.0, 16.0, 15.0, 14.0, 13.0, 12.0, 11.0, 10.0, 9.0, 8.0, 7.0, 6.0, 5.0, 4.0, 3.0, 2.0, 1.0, 0.4864, 0.472, 0.4694, 0.4691, 0.4667, 0.4639, 0.4387, 0.4356, 0.4347, 0.4345, 0.4345, 0.4334, 0.3819, 0.3819, 0.3819, 0.3819, 0.3818, 0.3818, 0.3818, 0.3818, 0.3656, 0.365, 0.3648, 0.3648, 0.3644, 0.3641, 0.364, 0.364, 0.3639, 0.3638, 0.3162, 0.2025, 0.0197, 0.0004, 0.0945, -0.0029, 0.141, 0.1416, 0.1424, 0.1429, -0.0864, -0.0862, 0.3614, 0.361, 0.361, 0.3612, 0.361, 0.3611, 0.1207, -0.2255, -0.3941, -0.0196, -0.0195, -0.0194, -0.3225, -0.6578, 0.5636, 0.5548, 0.5547, 0.5513, 0.5501, 0.5413, 0.491, 0.4908, 0.4907, 0.4899, 0.4894, 0.4894, 0.4894, 0.4836, 0.4834, 0.4832, 0.4829, 0.4827, 0.4825, 0.4821, 0.4819, 0.4819, 0.4817, 0.4812, 0.4809, 0.4809, 0.4806, 0.4806, 0.4803, 0.4801, 0.4604, 0.2952, 0.324, 0.2612, 0.0763, 0.1531, 0.1532, -0.0026, 0.0729, 0.1363, -0.19, -0.0524, 0.4775, 0.4657, 0.4667, 0.4658, 0.4652, 0.4636, 0.4643, 0.4637, 0.4641, 0.4639, 0.4639, 0.4636, 0.4646, 0.4645, 0.4635, 0.4643, 0.4648, 0.4628, 0.4632, 0.4627, 0.2107, 0.2172, 0.2173, 0.2188, -0.4361, -0.1333, -0.1336, -0.134, 0.0566, 0.0566, 0.0567, -0.1343, 0.0568, 0.0569, 0.0575, 1.2519, 1.2483, 1.2482, 1.247, 1.2468, 1.2466, 1.2463, 1.2458, 1.2454, 1.2453, 1.2453, 1.245, 1.2447, 1.2445, 1.2443, 1.2438, 1.2434, 1.243, 1.2397, 0.7116, 0.6692, 0.6676, 0.6675, 0.6612, 0.647, 0.3009, 0.1807, 0.1314, -0.0845, -0.1286, -0.1525, -0.3784, -0.4277, -0.3362, -0.3195, -0.3214, -0.3746, -0.2926, -0.2818, 0.3652, 0.3633, 0.3631, 0.3629, 0.3626, 0.3625, 0.3624, 0.3622, 0.362, 0.362, 0.362, 0.3617, 0.3615, 0.3613, 0.3612, 0.3611, 0.3604, 0.3603, 0.3583, 0.2189, 0.2031, 0.2028, 0.1989, 0.1864, 0.1123, 0.0842, 0.0841, 0.0834, 0.0829, 0.0827, 0.0812, 0.0605, 0.0593, 0.0588, 0.0576, 0.0117, -0.0649, -0.1656, -0.2148, -0.1234, -0.1065, -0.1086, -0.0798, -0.0503, -0.1618, -0.0138, -0.0689, -0.0166, -0.0199, -0.0223, 0.0524, 0.0497, -0.2389, -0.2481]}, \"token.table\": {\"Topic\": [1, 1, 2, 2, 2, 2, 1, 2, 2, 1, 2, 2, 1, 2, 2, 1, 2, 2, 2, 1, 1, 2, 2, 2, 1, 1, 2, 3, 1, 2, 1, 1, 2, 1, 2, 1, 2, 1, 2, 1, 1, 2, 1, 1, 2, 1, 2, 3, 1, 2, 3, 1, 2, 2, 2, 2, 2, 1, 2, 1, 2, 3, 2, 2, 2, 2, 1, 2, 1, 1, 2, 3, 2, 1, 2, 1, 2, 2, 1, 1, 2, 2, 1, 2, 1, 2, 3, 2, 2, 2, 1, 2, 1, 2, 2, 2, 1, 2, 1, 2, 3, 1, 1, 2, 3, 1, 2, 2, 2, 1, 2, 3, 1, 2, 1, 1, 2, 1, 2, 2, 2, 1, 2, 1, 1, 1, 1, 2, 2, 2, 2, 1, 1, 2, 2, 1, 2, 3, 2, 1, 2, 1, 1, 1, 2, 1, 1, 1, 1, 1, 2, 1], \"Freq\": [0.5234206750265957, 0.5260739107242027, 0.5260739107242027, 0.8800623813662986, 0.8827827465208651, 0.8850568895498858, 0.8724180228610126, 0.8822696157306175, 0.9191824717248085, 0.43725508180144756, 0.43725508180144756, 0.9184213577584347, 0.9143157340868668, 0.883756711688176, 0.9214851704306114, 0.4378281066237817, 0.4378281066237817, 0.8818401419884432, 0.9388974995573853, 0.8657420259846224, 0.5219948959156039, 0.5219948959156039, 0.9248501880058375, 0.9213291389771097, 0.8727064543164128, 0.5274721883873604, 0.43956015698946704, 0.08791203139789341, 0.7550341516137189, 0.8785127288595901, 0.8723369132602561, 0.8760440098306077, 0.5427485310203141, 0.712089324014691, 0.3560446620073455, 0.8742515955724984, 0.5593942616624049, 0.8658639078719381, 0.9172403464164749, 0.9145430561417535, 0.8721508788330723, 0.9184933650257793, 0.5222653142928855, 0.5223499594334869, 0.5223499594334869, 0.5624895043188957, 0.3515559401993098, 0.07031118803986196, 0.45062926313097934, 0.45062926313097934, 0.1502097543769931, 0.8719873100242742, 0.9176302017364781, 0.5485275036204704, 0.880243049730837, 0.94207839991198, 0.9112850625633793, 0.2567472024556305, 0.513494404911261, 0.48641155365236644, 0.48641155365236644, 0.24320577682618322, 0.5442357546087251, 0.8802596926496334, 0.5483504129926982, 0.9233473924991168, 0.8655100001595225, 0.887086537269246, 0.785320158598404, 0.5298288947116043, 0.39737167103370324, 0.13245722367790108, 0.9387335290831057, 0.6064335474325697, 0.40428903162171315, 0.5068240576437619, 0.5068240576437619, 0.8808368103288777, 0.8741471804792786, 0.9145238718962689, 0.9210483572275818, 0.9220020926669923, 0.43687000254804054, 0.43687000254804054, 0.21058146000311073, 0.6317443800093322, 0.21058146000311073, 0.942490285503776, 0.5321944407864734, 0.8786690970968072, 0.9147575749902132, 0.8795044199900612, 0.4406875522144686, 0.4406875522144686, 0.9388754938644129, 0.8823872623242958, 0.7509232967164985, 0.9253078781907436, 0.44984841058886144, 0.44984841058886144, 0.14994947019628715, 0.9145606005157184, 0.2337601646427479, 0.7012804939282438, 0.2337601646427479, 0.8732510613934562, 0.8804663204376105, 0.8817303987936436, 0.9229211910245821, 0.45746671437404407, 0.45746671437404407, 0.09149334287480881, 0.6291099673303677, 0.31455498366518386, 0.865468557622321, 0.6312692850465518, 0.3156346425232759, 0.6271913138065277, 0.31359565690326385, 0.9236875763028781, 0.8809459983254343, 0.7460985618396198, 0.9244671673359564, 0.7602437655348031, 0.8654824687350438, 0.8663395217159439, 0.4363663824895607, 0.4363663824895607, 0.8847249754678972, 0.9190048931861978, 0.9418733758212201, 0.520551937664817, 0.44217918737306794, 0.44217918737306794, 0.9399021779870455, 0.35123916245096043, 0.5268587436764407, 0.17561958122548021, 0.9197874885060155, 0.5094401197268826, 0.5094401197268826, 0.91465877556471, 0.7557251014010444, 0.8747231213456311, 0.8813994051228533, 0.5219591819829202, 0.5272598344999394, 0.5219789018745578, 0.9145269223369693, 0.6328675218682466, 0.3164337609341233, 0.9144817103293766], \"Term\": [\"::\", \"CTW\", \"CTW\", \"Number\", \"\\u0e01\\u0e23\\u0e23\\u0e21\\u0e27\\u0e34\\u0e18\\u0e35\", \"\\u0e01\\u0e30\\u0e1b\\u0e34\", \"\\u0e01\\u0e32\\u0e41\\u0e1f\", \"\\u0e01\\u0e4c\", \"\\u0e02\\u0e19\\u0e21\", \"\\u0e02\\u0e2d\\u0e07\\u0e2b\\u0e27\\u0e32\\u0e19\", \"\\u0e02\\u0e2d\\u0e07\\u0e2b\\u0e27\\u0e32\\u0e19\", \"\\u0e02\\u0e49\\u0e32\\u0e07\\u0e19\\u0e2d\\u0e01\", \"\\u0e02\\u0e49\\u0e32\\u0e27\", \"\\u0e04\\u0e19\", \"\\u0e04\\u0e27\\u0e32\\u0e21\\u0e15\\u0e49\\u0e2d\\u0e07\\u0e01\\u0e32\\u0e23\", \"\\u0e04\\u0e2d\", \"\\u0e04\\u0e2d\", \"\\u0e04\\u0e30\\u0e41\\u0e19\\u0e19\", \"\\u0e04\\u0e32\\u0e21\\u0e35\", \"\\u0e04\\u0e38\", \"\\u0e04\\u0e38\\u0e13\\u0e20\\u0e32\\u0e1e\", \"\\u0e04\\u0e38\\u0e13\\u0e20\\u0e32\\u0e1e\", \"\\u0e04\\u0e38\\u0e13\\u0e20\\u0e32\\u0e1e\\u0e14\\u0e35\", \"\\u0e04\\u0e38\\u0e49\\u0e21\", \"\\u0e08\\u0e37\\u0e14\", \"\\u0e0a\\u0e32\\u0e1a\\u0e39\", \"\\u0e0a\\u0e32\\u0e1a\\u0e39\", \"\\u0e0a\\u0e32\\u0e1a\\u0e39\", \"\\u0e0a\\u0e32\\u0e40\\u0e02\\u0e35\\u0e22\\u0e27\", \"\\u0e0a\\u0e38\\u0e14\", \"\\u0e0b\\u0e2d\\u0e22\", \"\\u0e0b\\u0e2d\\u0e2a\", \"\\u0e0b\\u0e36\", \"\\u0e0b\\u0e38\\u0e1b\", \"\\u0e0b\\u0e38\\u0e1b\", \"\\u0e15\\u0e30\", \"\\u0e15\\u0e48\\u0e32\\u0e07 \\u0e46\", \"\\u0e16\\u0e31\\u0e48\\u0e27\", \"\\u0e16\\u0e32\\u0e14\", \"\\u0e16\\u0e49\\u0e27\\u0e22\", \"\\u0e19\", \"\\u0e19\\u0e31\\u0e48\\u0e07\", \"\\u0e19\\u0e38\\u0e48\\u0e21\", \"\\u0e19\\u0e48\\u0e32\\u0e23\\u0e31\\u0e01\", \"\\u0e19\\u0e48\\u0e32\\u0e23\\u0e31\\u0e01\", \"\\u0e19\\u0e49\\u0e33\", \"\\u0e19\\u0e49\\u0e33\", \"\\u0e19\\u0e49\\u0e33\", \"\\u0e19\\u0e49\\u0e33\\u0e08\\u0e34\\u0e49\\u0e21\", \"\\u0e19\\u0e49\\u0e33\\u0e08\\u0e34\\u0e49\\u0e21\", \"\\u0e19\\u0e49\\u0e33\\u0e08\\u0e34\\u0e49\\u0e21\", \"\\u0e1a\\u0e14\", \"\\u0e1a\\u0e31\\u0e15\\u0e23\\u0e40\\u0e04\\u0e23\\u0e14\\u0e34\\u0e15\", \"\\u0e1a\\u0e38\", \"\\u0e1a\\u0e38\\u0e1f\\u0e40\\u0e1f\\u0e48\\u0e15\\u0e4c\", \"\\u0e1a\\u0e4b\\u0e27\\u0e22\", \"\\u0e1b\\u0e23\\u0e30\\u0e17\\u0e31\\u0e1a\\u0e43\\u0e08\", \"\\u0e1c\\u0e31\\u0e01\", \"\\u0e1c\\u0e31\\u0e01\", \"\\u0e1e\\u0e19\\u0e31\\u0e01\\u0e07\\u0e32\\u0e19\", \"\\u0e1e\\u0e19\\u0e31\\u0e01\\u0e07\\u0e32\\u0e19\", \"\\u0e1e\\u0e19\\u0e31\\u0e01\\u0e07\\u0e32\\u0e19\", \"\\u0e1e\\u0e2d\\u0e19\", \"\\u0e1e\\u0e32\\u0e23\\u0e32\", \"\\u0e1f\\u0e40\\u0e1f\\u0e48\", \"\\u0e20\\u0e32\\u0e1e\", \"\\u0e20\\u0e32\\u0e29\\u0e32\", \"\\u0e21\\u0e2d\", \"\\u0e23\\u0e2a\", \"\\u0e23\\u0e2a\\u0e0a\\u0e32\\u0e15\\u0e34\", \"\\u0e23\\u0e2a\\u0e0a\\u0e32\\u0e15\\u0e34\", \"\\u0e23\\u0e2a\\u0e0a\\u0e32\\u0e15\\u0e34\", \"\\u0e23\\u0e32\", \"\\u0e23\\u0e32\\u0e04\\u0e32\", \"\\u0e23\\u0e32\\u0e04\\u0e32\", \"\\u0e23\\u0e32\\u0e22\\u0e25\\u0e30\\u0e40\\u0e2d\\u0e35\\u0e22\\u0e14\", \"\\u0e23\\u0e32\\u0e22\\u0e25\\u0e30\\u0e40\\u0e2d\\u0e35\\u0e22\\u0e14\", \"\\u0e25\", \"\\u0e27\\u0e27\\u0e27\", \"\\u0e2a\", \"\\u0e2a\\u0e1a\\u0e32\\u0e22\\u0e14\\u0e35\", \"\\u0e2a\\u0e30\\u0e2d\\u0e32\\u0e14\\u0e2a\\u0e30\\u0e2d\\u0e49\\u0e32\\u0e19\", \"\\u0e2a\\u0e31\\u0e19\", \"\\u0e2a\\u0e31\\u0e19\", \"\\u0e2a\\u0e32\\u0e02\\u0e32\", \"\\u0e2a\\u0e32\\u0e02\\u0e32\", \"\\u0e2a\\u0e32\\u0e02\\u0e32\", \"\\u0e2a\\u0e32\\u0e22\", \"\\u0e2a\\u0e38\\u0e01\\u0e35\\u0e49\", \"\\u0e2a\\u0e44\\u0e15\\u0e25\\u0e4c\", \"\\u0e2a\\u0e48\\u0e27\\u0e19\\u0e15\\u0e31\\u0e27\", \"\\u0e2a\\u0e4c\", \"\\u0e2b\\u0e21\\u0e39\", \"\\u0e2b\\u0e21\\u0e39\", \"\\u0e2b\\u0e22\\u0e34\\u0e1a\", \"\\u0e2b\\u0e25\\u0e32\\u0e01\", \"\\u0e2b\\u0e27\\u0e32\\u0e19\", \"\\u0e2b\\u0e2d\", \"\\u0e2d\\u0e23\\u0e48\\u0e2d\\u0e22\", \"\\u0e2d\\u0e23\\u0e48\\u0e2d\\u0e22\", \"\\u0e2d\\u0e23\\u0e48\\u0e2d\\u0e22\", \"\\u0e2d\\u0e2d\", \"\\u0e2d\\u0e32\\u0e2b\\u0e32\\u0e23\", \"\\u0e2d\\u0e32\\u0e2b\\u0e32\\u0e23\", \"\\u0e2d\\u0e32\\u0e2b\\u0e32\\u0e23\", \"\\u0e40\\u0e04\\u0e47\\u0e21\", \"\\u0e40\\u0e0b\\u0e47\\u0e17\", \"\\u0e40\\u0e14\\u0e2d\\u0e30\", \"\\u0e40\\u0e14\\u0e47\\u0e01\", \"\\u0e40\\u0e19\\u0e37\\u0e49\\u0e2d\", \"\\u0e40\\u0e19\\u0e37\\u0e49\\u0e2d\", \"\\u0e40\\u0e19\\u0e37\\u0e49\\u0e2d\", \"\\u0e40\\u0e19\\u0e37\\u0e49\\u0e2d\\u0e27\\u0e31\\u0e27\", \"\\u0e40\\u0e19\\u0e37\\u0e49\\u0e2d\\u0e27\\u0e31\\u0e27\", \"\\u0e40\\u0e19\\u0e37\\u0e49\\u0e2d\\u0e2a\\u0e31\\u0e15\\u0e27\\u0e4c\", \"\\u0e40\\u0e19\\u0e37\\u0e49\\u0e2d\\u0e2b\\u0e21\\u0e39\", \"\\u0e40\\u0e19\\u0e37\\u0e49\\u0e2d\\u0e2b\\u0e21\\u0e39\", \"\\u0e40\\u0e1b\\u0e47\\u0e14\", \"\\u0e40\\u0e1b\\u0e47\\u0e14\", \"\\u0e40\\u0e1c\\u0e47\\u0e14\", \"\\u0e40\\u0e21\\u0e19\\u0e39\", \"\\u0e40\\u0e2a\\u0e34\\u0e23\\u0e4c\\u0e1f\", \"\\u0e40\\u0e2a\\u0e49\\u0e19\", \"\\u0e40\\u0e2b\\u0e47\\u0e14\", \"\\u0e41\\u0e14\\u0e07\", \"\\u0e41\\u0e15\\u0e32\", \"\\u0e41\\u0e19\\u0e27\", \"\\u0e41\\u0e19\\u0e27\", \"\\u0e41\\u0e1a\\u0e1a\\u0e09\\u0e1a\\u0e31\\u0e1a\", \"\\u0e41\\u0e1f\\u0e19\", \"\\u0e42\\u0e0b\\u0e19\", \"\\u0e42\\u0e15\\u0e4a\\u0e30\", \"\\u0e42\\u0e1b\\u0e23\", \"\\u0e42\\u0e1b\\u0e23\", \"\\u0e42\\u0e1b\\u0e23\\u0e42\\u0e21\\u0e0a\\u0e31\\u0e48\\u0e19\", \"\\u0e42\\u0e21\", \"\\u0e42\\u0e21\", \"\\u0e42\\u0e21\", \"\\u0e42\\u0e21\\u0e08\\u0e34\", \"\\u0e42\\u0e21\\u0e48\", \"\\u0e42\\u0e21\\u0e48\", \"\\u0e42\\u0e2b\\u0e14\", \"\\u0e44\\u0e01\\u0e48\", \"\\u0e44\\u0e02\\u0e48\", \"\\u0e44\\u0e14\", \"\\u0e44\\u0e14\\u0e1f\\u0e39\\u0e01\\u0e38\", \"\\u0e44\\u0e1c\\u0e48\", \"\\u0e44\\u0e21\\u0e49\", \"\\u0e44\\u0e27\", \"\\u0e44\\u0e2d\\u0e15\\u0e34\\u0e21\", \"\\u0e44\\u0e2d\\u0e15\\u0e34\\u0e21\", \"\\u0e44\\u0e2d\\u0e28\\u0e01\\u0e23\\u0e35\\u0e21\"]}, \"R\": 30, \"lambda.step\": 0.01, \"plot.opts\": {\"xlab\": \"PC1\", \"ylab\": \"PC2\"}, \"topic.order\": [4, 1, 3, 2]};\n",
       "\n",
       "function LDAvis_load_lib(url, callback){\n",
       "  var s = document.createElement('script');\n",
       "  s.src = url;\n",
       "  s.async = true;\n",
       "  s.onreadystatechange = s.onload = callback;\n",
       "  s.onerror = function(){console.warn(\"failed to load library \" + url);};\n",
       "  document.getElementsByTagName(\"head\")[0].appendChild(s);\n",
       "}\n",
       "\n",
       "if(typeof(LDAvis) !== \"undefined\"){\n",
       "   // already loaded: just create the visualization\n",
       "   !function(LDAvis){\n",
       "       new LDAvis(\"#\" + \"ldavis_el11691398124332268727272184637\", ldavis_el11691398124332268727272184637_data);\n",
       "   }(LDAvis);\n",
       "}else if(typeof define === \"function\" && define.amd){\n",
       "   // require.js is available: use it to load d3/LDAvis\n",
       "   require.config({paths: {d3: \"https://cdnjs.cloudflare.com/ajax/libs/d3/3.5.5/d3.min\"}});\n",
       "   require([\"d3\"], function(d3){\n",
       "      window.d3 = d3;\n",
       "      LDAvis_load_lib(\"https://cdn.rawgit.com/bmabey/pyLDAvis/files/ldavis.v1.0.0.js\", function(){\n",
       "        new LDAvis(\"#\" + \"ldavis_el11691398124332268727272184637\", ldavis_el11691398124332268727272184637_data);\n",
       "      });\n",
       "    });\n",
       "}else{\n",
       "    // require.js not available: dynamically load d3 & LDAvis\n",
       "    LDAvis_load_lib(\"https://cdnjs.cloudflare.com/ajax/libs/d3/3.5.5/d3.min.js\", function(){\n",
       "         LDAvis_load_lib(\"https://cdn.rawgit.com/bmabey/pyLDAvis/files/ldavis.v1.0.0.js\", function(){\n",
       "                 new LDAvis(\"#\" + \"ldavis_el11691398124332268727272184637\", ldavis_el11691398124332268727272184637_data);\n",
       "            })\n",
       "         });\n",
       "}\n",
       "</script>"
      ],
      "text/plain": [
       "PreparedData(topic_coordinates=              x         y  topics  cluster       Freq\n",
       "topic                                                \n",
       "3      0.046776 -0.006896       1        1  48.125913\n",
       "0     -0.038659 -0.015414       2        1  41.379997\n",
       "2     -0.009893  0.026820       3        1  10.451726\n",
       "1      0.001776 -0.004509       4        1   0.042363, topic_info=       Term       Freq      Total Category  logprob  loglift\n",
       "8       น้ำ  14.000000  14.000000  Default  30.0000  30.0000\n",
       "31     ชาบู  11.000000  11.000000  Default  29.0000  29.0000\n",
       "21    เนื้อ  10.000000  10.000000  Default  28.0000  28.0000\n",
       "14   รสชาติ   7.000000   7.000000  Default  27.0000  27.0000\n",
       "19    อร่อย   6.000000   6.000000  Default  26.0000  26.0000\n",
       "..      ...        ...        ...      ...      ...      ...\n",
       "102   ไอติม   0.001309   3.160219   Topic4  -4.5654  -0.0223\n",
       "149     หมู   0.001013   2.269181   Topic4  -4.8219   0.0524\n",
       "108     โปร   0.001007   2.261527   Topic4  -4.8280   0.0497\n",
       "88   เสิร์ฟ   0.000894   2.680611   Topic4  -4.9466  -0.2389\n",
       "82     หวาน   0.000880   2.663388   Topic4  -4.9623  -0.2481\n",
       "\n",
       "[256 rows x 6 columns], token_table=      Topic      Freq      Term\n",
       "term                           \n",
       "52        1  0.523421        ::\n",
       "27        1  0.526074       CTW\n",
       "27        2  0.526074       CTW\n",
       "133       2  0.880062    Number\n",
       "134       2  0.882783  กรรมวิธี\n",
       "...     ...       ...       ...\n",
       "101       1  0.521979       ไม้\n",
       "110       1  0.914527        ไว\n",
       "102       1  0.632868     ไอติม\n",
       "102       2  0.316434     ไอติม\n",
       "111       1  0.914482   ไอศกรีม\n",
       "\n",
       "[152 rows x 3 columns], R=30, lambda_step=0.01, plot_opts={'xlab': 'PC1', 'ylab': 'PC2'}, topic_order=[4, 1, 3, 2])"
      ]
     },
     "execution_count": 15,
     "metadata": {
      "tags": []
     },
     "output_type": "execute_result"
    }
   ],
   "source": [
    "pyLDAvis.gensim.prepare(Momo_model, Momo_gensim_corpus, Momo_dictionary)"
   ]
  },
  {
   "cell_type": "code",
   "execution_count": 16,
   "metadata": {
    "colab": {
     "base_uri": "https://localhost:8080/"
    },
    "id": "NierO-1KuQFC",
    "outputId": "c76194fb-d592-4518-ff9c-095a05ce8059"
   },
   "outputs": [
    {
     "data": {
      "text/plain": [
       "[('เนื้อ', 0.03971864),\n",
       " ('น้ำ', 0.039601985),\n",
       " ('ชาบู', 0.03819904),\n",
       " ('รสชาติ', 0.027342858),\n",
       " ('อร่อย', 0.026168203),\n",
       " ('น้ำจิ้ม', 0.026126133),\n",
       " ('โม', 0.025754957),\n",
       " ('อาหาร', 0.022826701),\n",
       " ('สาขา', 0.020762324),\n",
       " ('ผัก', 0.018132538)]"
      ]
     },
     "execution_count": 16,
     "metadata": {
      "tags": []
     },
     "output_type": "execute_result"
    }
   ],
   "source": [
    "Momo_model.show_topic(0)"
   ]
  },
  {
   "cell_type": "code",
   "execution_count": 17,
   "metadata": {
    "colab": {
     "base_uri": "https://localhost:8080/"
    },
    "id": "BEYfRasTuVmd",
    "outputId": "b8d49be8-727b-4566-db76-7dcc52e0bc0e"
   },
   "outputs": [
    {
     "name": "stderr",
     "output_type": "stream",
     "text": [
      "/usr/local/lib/python3.6/dist-packages/ipykernel_launcher.py:1: SettingWithCopyWarning: \n",
      "A value is trying to be set on a copy of a slice from a DataFrame.\n",
      "Try using .loc[row_indexer,col_indexer] = value instead\n",
      "\n",
      "See the caveats in the documentation: https://pandas.pydata.org/pandas-docs/stable/user_guide/indexing.html#returning-a-view-versus-a-copy\n",
      "  \"\"\"Entry point for launching an IPython kernel.\n",
      "/usr/local/lib/python3.6/dist-packages/ipykernel_launcher.py:2: SettingWithCopyWarning: \n",
      "A value is trying to be set on a copy of a slice from a DataFrame.\n",
      "Try using .loc[row_indexer,col_indexer] = value instead\n",
      "\n",
      "See the caveats in the documentation: https://pandas.pydata.org/pandas-docs/stable/user_guide/indexing.html#returning-a-view-versus-a-copy\n",
      "  \n"
     ]
    }
   ],
   "source": [
    "df_Momo['topics'] = df_Momo['Review_tokenized'].apply(lambda x: Momo_model.get_document_topics(Momo_dictionary.doc2bow(x.split(',')))[0][0])\n",
    "df_Momo['score'] = df_Momo['Review_tokenized'].apply(lambda x: Momo_model.get_document_topics(Momo_dictionary.doc2bow(x.split(',')))[0][1])"
   ]
  },
  {
   "cell_type": "code",
   "execution_count": 18,
   "metadata": {
    "colab": {
     "base_uri": "https://localhost:8080/",
     "height": 204
    },
    "id": "-ARGn8WwuYGr",
    "outputId": "1a5b17f1-b5b3-4b79-9e12-34890293ba36"
   },
   "outputs": [
    {
     "data": {
      "text/html": [
       "<div>\n",
       "<style scoped>\n",
       "    .dataframe tbody tr th:only-of-type {\n",
       "        vertical-align: middle;\n",
       "    }\n",
       "\n",
       "    .dataframe tbody tr th {\n",
       "        vertical-align: top;\n",
       "    }\n",
       "\n",
       "    .dataframe thead th {\n",
       "        text-align: right;\n",
       "    }\n",
       "</style>\n",
       "<table border=\"1\" class=\"dataframe\">\n",
       "  <thead>\n",
       "    <tr style=\"text-align: right;\">\n",
       "      <th></th>\n",
       "      <th>Restaurant</th>\n",
       "      <th>Review</th>\n",
       "      <th>Review_tokenized</th>\n",
       "      <th>topics</th>\n",
       "      <th>score</th>\n",
       "    </tr>\n",
       "  </thead>\n",
       "  <tbody>\n",
       "    <tr>\n",
       "      <th>0</th>\n",
       "      <td>Mo-Mo-Paradise (โม โม พาราไดซ์) เดอะมอลล์ บางกะปิ</td>\n",
       "      <td>ที่สำคัญของร้านนี้คือบริการดีมากพนักงานน่ารักส...</td>\n",
       "      <td>พนักงาน,น่ารัก,สะอาดสะอ้าน,รสชาติ,อาหาร,อาหาร,...</td>\n",
       "      <td>0</td>\n",
       "      <td>0.997033</td>\n",
       "    </tr>\n",
       "    <tr>\n",
       "      <th>1</th>\n",
       "      <td>Mo-Mo-Paradise (โม โม พาราไดซ์) เดอะมอลล์ บางกะปิ</td>\n",
       "      <td>นึกถึงชาบูญี่ปุ่นยังไงก็ต้อง คิดถึงโมโม่ พาราไ...</td>\n",
       "      <td>ชาบู,โม,โม่,พาราไดซ์,คุณภาพ,เค้า,มาตรา,ฐาน,มีโ...</td>\n",
       "      <td>2</td>\n",
       "      <td>0.995527</td>\n",
       "    </tr>\n",
       "    <tr>\n",
       "      <th>2</th>\n",
       "      <td>Mo-Mo-Paradise (โม โม พาราไดซ์) เดอะมอลล์ บางกะปิ</td>\n",
       "      <td>มาทานช่วงนี้ สามารถนั่งโต๊ะเดียวกัน หม้อเดียวก...</td>\n",
       "      <td>โต๊ะ,หม้อ,โต๊ะ,ฉาก,กั้น,น้ำ,รส,น้ำจิ้ม,ตามน้ำ,...</td>\n",
       "      <td>3</td>\n",
       "      <td>0.998839</td>\n",
       "    </tr>\n",
       "    <tr>\n",
       "      <th>3</th>\n",
       "      <td>Mo-Mo-Paradise (โม โม พาราไดซ์) เดอะมอลล์ บางกะปิ</td>\n",
       "      <td>ถ้านึกถึงชาบูที่มีเนื้อเน้นๆ ในราคาไม่โหดจนเกิ...</td>\n",
       "      <td>ชาบู,เนื้อ,ราคา,โหด,โม,โม่,โปร,ส่วนตัว,เนื้อ,อ...</td>\n",
       "      <td>3</td>\n",
       "      <td>0.993856</td>\n",
       "    </tr>\n",
       "    <tr>\n",
       "      <th>4</th>\n",
       "      <td>Mo-Mo-Paradise (โม โม พาราไดซ์) เดอะมอลล์ บางกะปิ</td>\n",
       "      <td>เดินมาหน้าร้านแล้วได้กลิ่นชาบูหอมมาก ๆ  ประกอบ...</td>\n",
       "      <td>ชาบู,หอ,โปร,บัตรเครดิต,น้ำ,ชาบู,เนื้อ,ต่าง ๆ,ผ...</td>\n",
       "      <td>0</td>\n",
       "      <td>0.995492</td>\n",
       "    </tr>\n",
       "  </tbody>\n",
       "</table>\n",
       "</div>"
      ],
      "text/plain": [
       "                                          Restaurant  ...     score\n",
       "0  Mo-Mo-Paradise (โม โม พาราไดซ์) เดอะมอลล์ บางกะปิ  ...  0.997033\n",
       "1  Mo-Mo-Paradise (โม โม พาราไดซ์) เดอะมอลล์ บางกะปิ  ...  0.995527\n",
       "2  Mo-Mo-Paradise (โม โม พาราไดซ์) เดอะมอลล์ บางกะปิ  ...  0.998839\n",
       "3  Mo-Mo-Paradise (โม โม พาราไดซ์) เดอะมอลล์ บางกะปิ  ...  0.993856\n",
       "4  Mo-Mo-Paradise (โม โม พาราไดซ์) เดอะมอลล์ บางกะปิ  ...  0.995492\n",
       "\n",
       "[5 rows x 5 columns]"
      ]
     },
     "execution_count": 18,
     "metadata": {
      "tags": []
     },
     "output_type": "execute_result"
    }
   ],
   "source": [
    "df_Momo.head()"
   ]
  },
  {
   "cell_type": "markdown",
   "metadata": {
    "id": "JvGnsxIS6GNE"
   },
   "source": [
    "### Shabushi"
   ]
  },
  {
   "cell_type": "code",
   "execution_count": 19,
   "metadata": {
    "id": "qT24wARJudJq"
   },
   "outputs": [],
   "source": [
    "Shabushi_documents = df_Shabushi['Review_tokenized'].to_list()\n",
    "Shabushi_texts = [[text for text in doc.split(',')] for doc in Shabushi_documents]\n",
    "Shabushi_dictionary = gensim.corpora.Dictionary(Shabushi_texts)"
   ]
  },
  {
   "cell_type": "code",
   "execution_count": 20,
   "metadata": {
    "colab": {
     "base_uri": "https://localhost:8080/"
    },
    "id": "5e8CIooN_jNs",
    "outputId": "e924fd3d-8062-421b-a8d6-ae508de98647"
   },
   "outputs": [
    {
     "name": "stdout",
     "output_type": "stream",
     "text": [
      "dict_keys(['กุ้ง', 'ของกิน', 'ขา', 'คุ้ม', 'ชิ', 'ซูชิ', 'ซ่า', 'ตอน', 'บู', 'ปุระ', 'ปูอัด', 'ราคา', 'สายพาน', 'หิว', 'อาหาร', 'ฮ่า', 'เกี๊ยว', 'เมนู', 'แพง', 'ไม่งั้น', 'กลาย', 'ชาบู', 'ชื่นใจ', 'ญี่', 'ตัว', 'ทอด', 'นพ', 'ปลา', 'ปุ', 'ผิดหวัง', 'ลืม', 'วก', 'อาหารเสริม', 'เป็นมา', 'เป็นหลัก', 'เย็น', 'ไข่', 'net', 'ของคาว', 'ชม.', 'ซุป', 'น้ำ', 'บุฟเฟ่ต์', 'รส', 'ลายตา', 'สด', 'สไลด์', 'อัพเดท', 'อิ่ม', 'เนื้อ', 'เบ', 'เพลิน', 'ไลน์', '/คน', 'G', 'Net', 'Shabushi', 'กรอ', 'กะปิ', 'ของหวาน', 'ขาดสารอาหาร', 'ขึ้นราคา', 'ข่าว', 'คน', 'คนเดียว', 'คิว', 'คุณภาพ', 'งาน', 'จาน', 'ชั่วโมง', 'ชั้น', 'ชื่น', 'ตลับ', 'ตับ', 'ถูกใจ', 'นาที', 'นุ่ม', 'น้ำมัน', 'ปลาดิบ', 'ปอกเปลือก', 'ฝรั่ง', 'พนักงาน', 'มอลล์', 'มื้อ', 'รสชาติ', 'ระดับ', 'รายการ', 'ลูก', 'ลูกชิ้น', 'วันหยุด', 'วานิลา', 'สะอาด', 'สาขา', 'สาเหตุ', 'สไปรท์', 'ส่วนตัว', 'หมู', 'หวาน', 'หอม', 'หอย', 'หาไม่', 'ห้าง', 'อย่า', 'อร่อย', 'อาทิตย์', 'เดอะ', 'เด้ง', 'เบคอน', 'เปรี้ยวหวาน', 'เพื่อน', 'เรื่อง', 'เวลา', 'เสาร์', 'แก้ว', 'แถม', 'แป้ง', 'แย่', 'โซน', 'โดน', 'โดยประมาณ', 'โฟลต', 'โอ', 'โอเค', 'ใจมา', 'ใช้ได้', 'ได้ยิน', 'ไอติม', 'ไอศกรีม', 'ข้าว', 'ชอค', 'ต', 'นิ', 'มะนาว', 'มุ', 'รี่', 'ลา', 'ว', 'วันก่อน', 'สตอ', 'ห', 'หลาก', 'อยุ่', 'อาหารสด', 'แกงค์', 'แล', 'โก', 'ขยัน', 'ชู', 'ณ์', 'บุฟเฟต์', 'ป', 'ประตู', 'ผัก', 'พี่', 'รอบ', 'เข้าหน้า', 'โชคดี', 'ขวัญใจ', 'ข้อดี', 'จิ้ม', 'บ', 'บุ', 'ฟเฟ', 'มี่', 'ระบบ', 'ลูกค้า', 'สวัสดี', 'เก้', '^^', 'กลยุทธ์', 'ขนาด', 'ข้น', 'ข้าวปั้น', 'คอ', 'ค่า', 'ชอป', 'ซุ้ม', 'ดำ', 'ต้มยำ', 'นัล', 'บริเวณ', 'บัตรสมาชิก', 'มันดี', 'ยอด', 'ลาน', 'สลัด', 'หน้า', 'หมู่คณะ', 'หม้อ', 'ออกร้าน', 'อิอิ', 'เคาน์เตอร์', 'แมค', 'โชคชะตา', 'โด', 'โต๊ะ', 'โน้น', 'โออิชิ'])\n"
     ]
    }
   ],
   "source": [
    "print(Shabushi_dictionary.token2id.keys())"
   ]
  },
  {
   "cell_type": "code",
   "execution_count": 21,
   "metadata": {
    "id": "WVDr-Is0_pvO"
   },
   "outputs": [],
   "source": [
    "Shabushi_gensim_corpus = [Shabushi_dictionary.doc2bow(text, allow_update=True) for text in Shabushi_texts]\n",
    "Shabushi_word_frequencies = [[(Shabushi_dictionary[id], frequence) for id, frequence in couple] for couple in Shabushi_gensim_corpus]"
   ]
  },
  {
   "cell_type": "code",
   "execution_count": 22,
   "metadata": {
    "id": "BtFYX2BF_-Pb"
   },
   "outputs": [],
   "source": [
    "Shabushi_documents = df_Shabushi['Review_tokenized'].to_list()\n",
    "Shabushi_texts = [[text for text in doc.split(',')] for doc in Shabushi_documents]\n",
    "Shabushi_dictionary = gensim.corpora.Dictionary(Shabushi_texts)"
   ]
  },
  {
   "cell_type": "code",
   "execution_count": 23,
   "metadata": {
    "colab": {
     "base_uri": "https://localhost:8080/"
    },
    "id": "LhM7wylzALvc",
    "outputId": "ba3476ac-a096-4451-d4eb-967751e744ce"
   },
   "outputs": [
    {
     "name": "stdout",
     "output_type": "stream",
     "text": [
      "CPU times: user 143 ms, sys: 2.18 ms, total: 145 ms\n",
      "Wall time: 146 ms\n"
     ]
    }
   ],
   "source": [
    "Shabushi_num_topics = 3\n",
    "Shabushi_chunksize = 21 # size of the doc looked at every pass\n",
    "Shabushi_passes = 20 # number of passes through documents\n",
    "Shabushi_iterations = 50\n",
    "Shabushi_eval_every = 1  # Don't evaluate model perplexity, takes too much time.\n",
    "\n",
    "# Make a index to word dictionary.\n",
    "Shabushi_temp = Shabushi_dictionary[0]  # This is only to \"load\" the dictionary.\n",
    "Shabushi_id2word = Shabushi_dictionary.id2token\n",
    "\n",
    "%time Shabushi_model = gensim.models.LdaModel(corpus=Shabushi_gensim_corpus, id2word=Shabushi_id2word, chunksize=Shabushi_chunksize, \\\n",
    "                       alpha='auto', eta='auto', \\\n",
    "                       iterations=Shabushi_iterations, num_topics=Shabushi_num_topics, \\\n",
    "                       passes=Shabushi_passes, eval_every=Shabushi_eval_every)"
   ]
  },
  {
   "cell_type": "code",
   "execution_count": 24,
   "metadata": {
    "colab": {
     "base_uri": "https://localhost:8080/",
     "height": 861
    },
    "id": "WeoYJZBhAla9",
    "outputId": "1ba77fce-7cb4-4d15-8667-397d9863cf7d"
   },
   "outputs": [
    {
     "data": {
      "text/html": [
       "\n",
       "<link rel=\"stylesheet\" type=\"text/css\" href=\"https://cdn.rawgit.com/bmabey/pyLDAvis/files/ldavis.v1.0.0.css\">\n",
       "\n",
       "\n",
       "<div id=\"ldavis_el11691398124047483603175057169\"></div>\n",
       "<script type=\"text/javascript\">\n",
       "\n",
       "var ldavis_el11691398124047483603175057169_data = {\"mdsDat\": {\"x\": [-0.024258705498526763, 0.02226538664503181, 0.001993318853494954], \"y\": [-0.0057832032711127085, -0.007489161671476073, 0.01327236494258878], \"topics\": [1, 2, 3], \"cluster\": [1, 1, 1], \"Freq\": [47.1803056934358, 39.256685474985716, 13.563008831578486]}, \"tinfo\": {\"Term\": [\"\\u0e01\\u0e38\\u0e49\\u0e07\", \"\\u0e1b\\u0e38\\u0e23\\u0e30\", \"\\u0e0a\\u0e32\\u0e1a\\u0e39\", \"\\u0e0a\\u0e34\", \"\\u0e40\\u0e21\\u0e19\\u0e39\", \"\\u0e04\\u0e19\", \"\\u0e2a\\u0e32\\u0e22\\u0e1e\\u0e32\\u0e19\", \"\\u0e0b\\u0e39\\u0e0a\\u0e34\", \"\\u0e04\\u0e38\\u0e49\\u0e21\", \"\\u0e0b\\u0e38\\u0e1b\", \"\\u0e15\\u0e31\\u0e27\", \"\\u0e2d\\u0e32\\u0e2b\\u0e32\\u0e23\", \"\\u0e17\\u0e2d\\u0e14\", \"\\u0e2d\\u0e23\\u0e48\\u0e2d\\u0e22\", \"\\u0e40\\u0e1b\\u0e47\\u0e19\\u0e2b\\u0e25\\u0e31\\u0e01\", \"\\u0e08\\u0e32\\u0e19\", \"\\u0e2a\\u0e14\", \"\\u0e27\\u0e01\", \"\\u0e0d\\u0e35\\u0e48\", \"\\u0e2d\\u0e32\\u0e2b\\u0e32\\u0e23\\u0e40\\u0e2a\\u0e23\\u0e34\\u0e21\", \"\\u0e19\\u0e1e\", \"\\u0e01\\u0e25\\u0e32\\u0e22\", \"\\u0e44\\u0e02\\u0e48\", \"\\u0e40\\u0e1b\\u0e47\\u0e19\\u0e21\\u0e32\", \"\\u0e25\\u0e37\\u0e21\", \"\\u0e1c\\u0e34\\u0e14\\u0e2b\\u0e27\\u0e31\\u0e07\", \"\\u0e1b\\u0e38\", \"\\u0e0a\\u0e37\\u0e48\\u0e19\\u0e43\\u0e08\", \"\\u0e1b\\u0e25\\u0e32\", \"\\u0e40\\u0e22\\u0e47\\u0e19\", \"\\u0e0a\\u0e31\\u0e48\\u0e27\\u0e42\\u0e21\\u0e07\", \"\\u0e1c\\u0e31\\u0e01\", \"\\u0e1a\\u0e38\\u0e1f\\u0e40\\u0e1f\\u0e15\\u0e4c\", \"\\u0e40\\u0e14\\u0e49\\u0e07\", \"\\u0e0a\\u0e37\\u0e48\\u0e19\", \"\\u0e19\\u0e32\\u0e17\\u0e35\", \"\\u0e42\\u0e2d\\u0e40\\u0e04\", \"Shabushi\", \"\\u0e2b\\u0e27\\u0e32\\u0e19\", \"\\u0e2b\\u0e2d\\u0e21\", \"\\u0e1e\\u0e19\\u0e31\\u0e01\\u0e07\\u0e32\\u0e19\", \"\\u0e27\\u0e32\\u0e19\\u0e34\\u0e25\\u0e32\", \"\\u0e1b\\u0e2d\\u0e01\\u0e40\\u0e1b\\u0e25\\u0e37\\u0e2d\\u0e01\", \"\\u0e2a\\u0e14\", \"\\u0e42\\u0e0a\\u0e04\\u0e14\\u0e35\", \"\\u0e23\\u0e2d\\u0e1a\", \"\\u0e13\\u0e4c\", \"\\u0e1b\", \"\\u0e02\\u0e22\\u0e31\\u0e19\", \"\\u0e1b\\u0e23\\u0e30\\u0e15\\u0e39\", \"\\u0e40\\u0e02\\u0e49\\u0e32\\u0e2b\\u0e19\\u0e49\\u0e32\", \"\\u0e1e\\u0e35\\u0e48\", \"\\u0e40\\u0e1a\\u0e04\\u0e2d\\u0e19\", \"\\u0e40\\u0e2a\\u0e32\\u0e23\\u0e4c\", \"\\u0e2a\\u0e32\\u0e40\\u0e2b\\u0e15\\u0e38\", \"\\u0e42\\u0e1f\\u0e25\\u0e15\", \"\\u0e23\\u0e30\\u0e14\\u0e31\\u0e1a\", \"\\u0e2b\\u0e32\\u0e44\\u0e21\\u0e48\", \"\\u0e16\\u0e39\\u0e01\\u0e43\\u0e08\", \"\\u0e04\\u0e19\\u0e40\\u0e14\\u0e35\\u0e22\\u0e27\", \"\\u0e04\\u0e19\", \"\\u0e40\\u0e27\\u0e25\\u0e32\", \"\\u0e04\\u0e34\\u0e27\", \"\\u0e2a\\u0e32\\u0e02\\u0e32\", \"\\u0e15\\u0e31\\u0e27\", \"\\u0e01\\u0e38\\u0e49\\u0e07\", \"\\u0e19\\u0e38\\u0e48\\u0e21\", \"\\u0e40\\u0e19\\u0e37\\u0e49\\u0e2d\", \"\\u0e2b\\u0e49\\u0e32\\u0e07\", \"\\u0e01\\u0e30\\u0e1b\\u0e34\", \"\\u0e21\\u0e2d\\u0e25\\u0e25\\u0e4c\", \"G\", \"\\u0e0a\\u0e31\\u0e49\\u0e19\", \"\\u0e2d\\u0e32\\u0e2b\\u0e32\\u0e23\", \"\\u0e2a\\u0e44\\u0e25\\u0e14\\u0e4c\", \"\\u0e23\\u0e2a\\u0e0a\\u0e32\\u0e15\\u0e34\", \"\\u0e0a\\u0e34\", \"\\u0e2a\\u0e32\\u0e22\\u0e1e\\u0e32\\u0e19\", \"\\u0e23\\u0e32\\u0e04\\u0e32\", \"\\u0e40\\u0e14\\u0e2d\\u0e30\", \"\\u0e1b\\u0e38\\u0e23\\u0e30\", \"\\u0e40\\u0e21\\u0e19\\u0e39\", \"\\u0e0a\\u0e32\\u0e1a\\u0e39\", \"\\u0e0b\\u0e39\\u0e0a\\u0e34\", \"\\u0e04\\u0e38\\u0e49\\u0e21\", \"\\u0e17\\u0e2d\\u0e14\", \"\\u0e2d\\u0e23\\u0e48\\u0e2d\\u0e22\", \"\\u0e2b\\u0e21\\u0e49\\u0e2d\", \"\\u0e23\\u0e2a\", \"\\u0e0a\\u0e21.\", \"\\u0e1a\\u0e38\\u0e1f\\u0e40\\u0e1f\\u0e48\\u0e15\\u0e4c\", \"\\u0e04\\u0e48\\u0e32\", \"\\u0e2b\\u0e19\\u0e49\\u0e32\", \"\\u0e1a\\u0e39\", \"\\u0e2e\\u0e48\\u0e32\", \"\\u0e41\\u0e1e\\u0e07\", \"\\u0e02\\u0e2d\\u0e07\\u0e01\\u0e34\\u0e19\", \"\\u0e40\\u0e01\\u0e35\\u0e4a\\u0e22\\u0e27\", \"\\u0e02\\u0e32\", \"\\u0e1b\\u0e39\\u0e2d\\u0e31\\u0e14\", \"\\u0e2b\\u0e34\\u0e27\", \"\\u0e0b\\u0e48\\u0e32\", \"\\u0e44\\u0e21\\u0e48\\u0e07\\u0e31\\u0e49\\u0e19\", \"\\u0e15\\u0e2d\\u0e19\", \"\\u0e40\\u0e1a\", \"\\u0e27\\u0e31\\u0e19\\u0e01\\u0e48\\u0e2d\\u0e19\", \"\\u0e02\\u0e2d\\u0e07\\u0e04\\u0e32\\u0e27\", \"\\u0e27\", \"\\u0e44\\u0e25\\u0e19\\u0e4c\", \"\\u0e19\\u0e34\", \"\\u0e2d\\u0e34\\u0e48\\u0e21\", \"\\u0e25\\u0e32\\u0e19\", \"\\u0e2d\\u0e32\\u0e2b\\u0e32\\u0e23\\u0e2a\\u0e14\", \"\\u0e21\\u0e31\\u0e19\\u0e14\\u0e35\", \"\\u0e2d\\u0e34\\u0e2d\\u0e34\", \"\\u0e23\\u0e35\\u0e48\", \"\\u0e0a\\u0e2d\\u0e04\", \"\\u0e2d\\u0e32\\u0e2b\\u0e32\\u0e23\", \"\\u0e23\\u0e32\\u0e04\\u0e32\", \"\\u0e0b\\u0e38\\u0e1b\", \"\\u0e0b\\u0e39\\u0e0a\\u0e34\", \"\\u0e0a\\u0e34\", \"\\u0e2a\\u0e32\\u0e22\\u0e1e\\u0e32\\u0e19\", \"\\u0e19\\u0e49\\u0e33\", \"\\u0e04\\u0e38\\u0e49\\u0e21\", \"\\u0e40\\u0e21\\u0e19\\u0e39\", \"\\u0e1b\\u0e38\\u0e23\\u0e30\", \"\\u0e2a\\u0e44\\u0e25\\u0e14\\u0e4c\", \"\\u0e23\\u0e2a\\u0e0a\\u0e32\\u0e15\\u0e34\", \"\\u0e40\\u0e14\\u0e2d\\u0e30\", \"\\u0e01\\u0e38\\u0e49\\u0e07\", \"\\u0e2b\\u0e49\\u0e32\\u0e07\", \"\\u0e40\\u0e19\\u0e37\\u0e49\\u0e2d\", \"\\u0e0a\\u0e32\\u0e1a\\u0e39\", \"\\u0e42\\u0e15\\u0e4a\\u0e30\", \"\\u0e15\\u0e49\\u0e21\\u0e22\\u0e33\", \"\\u0e2a\\u0e25\\u0e31\\u0e14\", \"\\u0e02\\u0e49\\u0e19\", \"\\u0e42\\u0e2d\\u0e2d\\u0e34\\u0e0a\\u0e34\", \"\\u0e04\\u0e2d\", \"\\u0e02\\u0e49\\u0e32\\u0e27\\u0e1b\\u0e31\\u0e49\\u0e19\", \"\\u0e04\\u0e19\", \"\\u0e17\\u0e2d\\u0e14\", \"\\u0e2d\\u0e23\\u0e48\\u0e2d\\u0e22\", \"\\u0e40\\u0e1b\\u0e47\\u0e19\\u0e2b\\u0e25\\u0e31\\u0e01\", \"\\u0e2a\\u0e14\", \"\\u0e40\\u0e27\\u0e25\\u0e32\", \"\\u0e2a\\u0e32\\u0e02\\u0e32\", \"\\u0e04\\u0e34\\u0e27\", \"\\u0e19\\u0e38\\u0e48\\u0e21\", \"\\u0e02\\u0e49\\u0e2d\\u0e14\\u0e35\", \"\\u0e40\\u0e01\\u0e49\", \"\\u0e2a\\u0e27\\u0e31\\u0e2a\\u0e14\\u0e35\", \"\\u0e1a\\u0e38\", \"\\u0e21\\u0e35\\u0e48\", \"\\u0e1a\", \"\\u0e02\\u0e27\\u0e31\\u0e0d\\u0e43\\u0e08\", \"\\u0e25\\u0e39\\u0e01\\u0e04\\u0e49\\u0e32\", \"\\u0e1f\\u0e40\\u0e1f\", \"\\u0e08\\u0e34\\u0e49\\u0e21\", \"\\u0e23\\u0e30\\u0e1a\\u0e1a\", \"\\u0e40\\u0e22\\u0e47\\u0e19\", \"\\u0e1b\\u0e25\\u0e32\", \"\\u0e0a\\u0e37\\u0e48\\u0e19\\u0e43\\u0e08\", \"\\u0e1b\\u0e38\", \"\\u0e1c\\u0e34\\u0e14\\u0e2b\\u0e27\\u0e31\\u0e07\", \"\\u0e25\\u0e37\\u0e21\", \"\\u0e40\\u0e1b\\u0e47\\u0e19\\u0e21\\u0e32\", \"\\u0e44\\u0e02\\u0e48\", \"\\u0e01\\u0e25\\u0e32\\u0e22\", \"\\u0e19\\u0e1e\", \"\\u0e2d\\u0e32\\u0e2b\\u0e32\\u0e23\\u0e40\\u0e2a\\u0e23\\u0e34\\u0e21\", \"\\u0e0d\\u0e35\\u0e48\", \"\\u0e27\\u0e01\", \"\\u0e0a\\u0e32\\u0e1a\\u0e39\", \"\\u0e1b\\u0e38\\u0e23\\u0e30\", \"\\u0e40\\u0e1b\\u0e47\\u0e19\\u0e2b\\u0e25\\u0e31\\u0e01\", \"\\u0e08\\u0e32\\u0e19\", \"\\u0e40\\u0e21\\u0e19\\u0e39\", \"\\u0e0b\\u0e38\\u0e1b\", \"\\u0e01\\u0e38\\u0e49\\u0e07\", \"\\u0e0a\\u0e34\", \"\\u0e2a\\u0e32\\u0e22\\u0e1e\\u0e32\\u0e19\", \"\\u0e04\\u0e19\", \"\\u0e0b\\u0e39\\u0e0a\\u0e34\", \"\\u0e04\\u0e38\\u0e49\\u0e21\", \"\\u0e17\\u0e2d\\u0e14\", \"\\u0e2d\\u0e23\\u0e48\\u0e2d\\u0e22\", \"\\u0e2d\\u0e32\\u0e2b\\u0e32\\u0e23\", \"\\u0e15\\u0e31\\u0e27\", \"\\u0e2a\\u0e14\", \"\\u0e23\\u0e32\\u0e04\\u0e32\", \"\\u0e40\\u0e19\\u0e37\\u0e49\\u0e2d\", \"\\u0e40\\u0e27\\u0e25\\u0e32\", \"\\u0e2b\\u0e49\\u0e32\\u0e07\", \"\\u0e2a\\u0e32\\u0e02\\u0e32\", \"\\u0e04\\u0e34\\u0e27\", \"\\u0e2a\\u0e44\\u0e25\\u0e14\\u0e4c\", \"\\u0e23\\u0e2a\\u0e0a\\u0e32\\u0e15\\u0e34\", \"\\u0e40\\u0e14\\u0e2d\\u0e30\", \"\\u0e19\\u0e38\\u0e48\\u0e21\", \"\\u0e19\\u0e49\\u0e33\", \"G\", \"\\u0e0a\\u0e31\\u0e49\\u0e19\"], \"Freq\": [11.0, 5.0, 4.0, 7.0, 4.0, 8.0, 5.0, 4.0, 4.0, 2.0, 3.0, 8.0, 3.0, 3.0, 1.0, 2.0, 6.0, 0.0, 0.0, 0.0, 0.0, 0.0, 0.0, 0.0, 0.0, 0.0, 0.0, 0.0, 0.0, 0.0, 1.8296649629605626, 1.2658643432682615, 1.2687226136556646, 1.2771599204766337, 1.27752086937239, 1.2810212414799749, 1.2814160998173494, 1.2814814299342283, 1.28158681363467, 1.2823436319291333, 1.2823988514326856, 1.2852469334328138, 1.2858894240227388, 4.44934525263277, 0.708567492259158, 0.7102353545882882, 0.7112373941428937, 0.7118982393847038, 0.712135761023928, 0.7123048415883266, 0.712411702993793, 0.7127112882440522, 0.7145063887531989, 0.7149469003984399, 0.715299294159843, 0.715399233683878, 0.7156414995339709, 0.7157449388856959, 0.7160901774438218, 0.7162486807512018, 5.415453554050528, 3.349925870190778, 2.7784792936051788, 2.7889417562754466, 2.223807468911431, 6.115149060889626, 2.2304020775666697, 3.084777680017418, 2.492342714549171, 1.6405126534382424, 1.642574907461055, 1.6463390110285645, 1.6439191523897883, 3.312126486756201, 1.8963267253885727, 1.8915776925351644, 3.0047199771233766, 2.4994629195494906, 2.2891587403044285, 1.8868454588546675, 2.09228705528127, 1.8734425187332568, 1.8172895722489195, 1.8168865476469351, 1.6171493592591475, 1.3809431886026533, 1.379410886266047, 1.6186479197501147, 1.1345382258354593, 1.1360139257746422, 1.136676450593856, 1.1382864933270112, 1.13991452608749, 0.6235941412358004, 0.6237783125227199, 0.6239430053987601, 0.624574015313993, 0.6247907369021496, 0.6254942246253059, 0.6261715038554185, 0.6267204585381096, 0.6268491066471736, 0.6274970711924743, 0.6280264180396291, 0.6307710620284276, 0.6315014700802412, 0.6319499265167671, 0.6321324799954741, 0.6325204951171782, 0.6326010619661644, 0.6326908179657982, 0.632786139225683, 0.6328612702390751, 0.6330728148409515, 0.6331688479364499, 0.6333576785110218, 0.6334872973050133, 3.9985206786948773, 2.737884656661721, 1.4599034009459304, 2.3173332115835614, 3.375437506004937, 2.575625223022567, 1.4667220095756364, 1.7898204412433036, 2.0180660008597298, 2.2132110750222047, 1.6889221434633104, 1.68473460868588, 1.6806006557164503, 3.698882148630095, 1.8701798225043809, 2.0486999112004596, 1.6186442958597185, 0.639516221389997, 0.6392336873637529, 0.6378598446296337, 0.6377283491781156, 0.6376701727947913, 0.6373854385493781, 0.6372067030980527, 2.376637142519612, 1.2299226449530243, 1.2285503553147894, 0.9188365039760583, 1.865955789973675, 1.5855716367070238, 1.4354016308541464, 1.426213645028631, 1.2875188175398797, 0.274649556851995, 0.2746877216496632, 0.2747520898116356, 0.27476561629235574, 0.27476961834202335, 0.2748773159579389, 0.27504106462702044, 0.27509657909252144, 0.2753930214195766, 0.2754360825796873, 0.2755527456811711, 0.2813999638237462, 0.2819223989890149, 0.2819640516065052, 0.28204536699556165, 0.2821074323021387, 0.2821399852871445, 0.28216851386466335, 0.28248040544490466, 0.28294801923707286, 0.28316696936218416, 0.2831712173478649, 0.28330458174041967, 0.28330988054361084, 1.0383709124458778, 1.1481331388335525, 0.4116358937872468, 0.41100983012918824, 0.9042571752170159, 0.4975748798898593, 1.9704416621182168, 1.1990085356774005, 0.8407713422283412, 1.0647873914842751, 0.7249884680932216, 0.645353895181525, 0.5510416374302154, 0.5504745984152993, 0.851975203240828, 0.5742930541270159, 0.6795164196039536, 0.6002861207821438, 0.6046643184028728, 0.5538824666752776, 0.5247188376549873, 0.48654178790173686, 0.48231727793137197, 0.4435407703251159, 0.44162349788267785, 0.4397292092785543, 0.42029087396003273, 0.34398043927476574, 0.3437802026444689, 0.342799946411917], \"Total\": [11.0, 5.0, 4.0, 7.0, 4.0, 8.0, 5.0, 4.0, 4.0, 2.0, 3.0, 8.0, 3.0, 3.0, 1.0, 2.0, 6.0, 0.0, 0.0, 0.0, 0.0, 0.0, 0.0, 0.0, 0.0, 0.0, 0.0, 0.0, 0.0, 0.0, 2.6711956519439997, 1.8863648415299084, 1.8929658542709495, 1.9120959171837835, 1.9129233210926284, 1.9209913200074165, 1.9219425866421642, 1.9220927118607212, 1.9222931635145644, 1.9240426170900862, 1.9242100308927692, 1.9307319169705761, 1.9322161674144418, 6.994817462210398, 1.1162977040741329, 1.1201551607237628, 1.1224760714154605, 1.1239823845133565, 1.1245671721021038, 1.124944068282812, 1.1252042767760633, 1.1259000458918114, 1.1298764605048528, 1.13089041207947, 1.1317025972774555, 1.1319326096040712, 1.1324904751547016, 1.1327333940776079, 1.133523302519736, 1.1338886565449677, 8.856878088054415, 5.4893799735730795, 4.687010216565182, 4.71088517503133, 3.7302997345764073, 11.78447287163794, 3.9382117690665823, 5.73814190962075, 4.887241374708539, 3.093493302990319, 3.0983153934680985, 3.107012328895575, 3.101451469375531, 8.162622368691906, 4.028789639176999, 4.017935799103722, 7.579166018805713, 5.915859484800399, 5.627329517748294, 4.007175323849673, 5.453631269137027, 4.795765694810003, 4.474304780554515, 4.859208227323719, 4.052323695683976, 3.1619074709858928, 3.158435839996136, 2.514339611569936, 1.818768084804187, 1.822578814840151, 1.824291308108531, 1.8285001700430157, 1.8326794773105965, 1.0540744930132848, 1.0545490893904568, 1.054974444037781, 1.0566025939798467, 1.0571615186538634, 1.0589772038897518, 1.0607254601437988, 1.0621428503474648, 1.0624756026585658, 1.0641483337235729, 1.0655155031755983, 1.072583095050445, 1.074464518982257, 1.0756249832932168, 1.0760952232886352, 1.077096885787744, 1.0773036280101813, 1.0775377918487135, 1.0777874233796767, 1.0779752465116474, 1.078522477154369, 1.0787757632730104, 1.0792570286582757, 1.0795945896357366, 8.162622368691906, 5.627329517748294, 2.8119298684343836, 4.859208227323719, 7.579166018805713, 5.915859484800399, 3.0651414879639174, 4.052323695683976, 4.795765694810003, 5.453631269137027, 4.028789639176999, 4.017935799103722, 4.007175323849673, 11.78447287163794, 4.887241374708539, 5.73814190962075, 4.474304780554515, 1.095185466080764, 1.0944553492922733, 1.0908953562951758, 1.0905602269847858, 1.0904136738821542, 1.0896662823397039, 1.089209023301218, 8.856878088054415, 3.1619074709858928, 3.158435839996136, 1.9696671221788478, 6.994817462210398, 5.4893799735730795, 4.71088517503133, 4.687010216565182, 3.9382117690665823, 0.833887822806341, 0.8341072902436606, 0.8344777793106275, 0.8345555169297303, 0.8345785207091974, 0.8351981101756281, 0.836140267839635, 0.8364596276829062, 0.8381655610617398, 0.8384132560957298, 0.8390845555903916, 0.8727612617899764, 0.875778166562551, 0.8760253251695819, 0.8764938308047334, 0.8768527836053897, 0.87703641656832, 0.8772064973682226, 0.8790151033830753, 0.881718213401931, 0.882976110742288, 0.8830019117023078, 0.8837625097044299, 0.8838010922412178, 4.474304780554515, 5.453631269137027, 1.9696671221788478, 2.0086760231479412, 4.795765694810003, 2.8119298684343836, 11.78447287163794, 7.579166018805713, 5.915859484800399, 8.856878088054415, 4.859208227323719, 4.052323695683976, 3.1619074709858928, 3.158435839996136, 8.162622368691906, 3.7302997345764073, 6.994817462210398, 5.627329517748294, 5.73814190962075, 5.4893799735730795, 4.887241374708539, 4.71088517503133, 4.687010216565182, 4.028789639176999, 4.017935799103722, 4.007175323849673, 3.9382117690665823, 3.0651414879639174, 3.107012328895575, 3.101451469375531], \"Category\": [\"Default\", \"Default\", \"Default\", \"Default\", \"Default\", \"Default\", \"Default\", \"Default\", \"Default\", \"Default\", \"Default\", \"Default\", \"Default\", \"Default\", \"Default\", \"Default\", \"Default\", \"Default\", \"Default\", \"Default\", \"Default\", \"Default\", \"Default\", \"Default\", \"Default\", \"Default\", \"Default\", \"Default\", \"Default\", \"Default\", \"Topic1\", \"Topic1\", \"Topic1\", \"Topic1\", \"Topic1\", \"Topic1\", \"Topic1\", \"Topic1\", \"Topic1\", \"Topic1\", \"Topic1\", \"Topic1\", \"Topic1\", \"Topic1\", \"Topic1\", \"Topic1\", \"Topic1\", \"Topic1\", \"Topic1\", \"Topic1\", \"Topic1\", \"Topic1\", \"Topic1\", \"Topic1\", \"Topic1\", \"Topic1\", \"Topic1\", \"Topic1\", \"Topic1\", \"Topic1\", \"Topic1\", \"Topic1\", \"Topic1\", \"Topic1\", \"Topic1\", \"Topic1\", \"Topic1\", \"Topic1\", \"Topic1\", \"Topic1\", \"Topic1\", \"Topic1\", \"Topic1\", \"Topic1\", \"Topic1\", \"Topic1\", \"Topic1\", \"Topic1\", \"Topic1\", \"Topic1\", \"Topic1\", \"Topic1\", \"Topic1\", \"Topic1\", \"Topic1\", \"Topic1\", \"Topic1\", \"Topic2\", \"Topic2\", \"Topic2\", \"Topic2\", \"Topic2\", \"Topic2\", \"Topic2\", \"Topic2\", \"Topic2\", \"Topic2\", \"Topic2\", \"Topic2\", \"Topic2\", \"Topic2\", \"Topic2\", \"Topic2\", \"Topic2\", \"Topic2\", \"Topic2\", \"Topic2\", \"Topic2\", \"Topic2\", \"Topic2\", \"Topic2\", \"Topic2\", \"Topic2\", \"Topic2\", \"Topic2\", \"Topic2\", \"Topic2\", \"Topic2\", \"Topic2\", \"Topic2\", \"Topic2\", \"Topic2\", \"Topic2\", \"Topic2\", \"Topic2\", \"Topic2\", \"Topic2\", \"Topic2\", \"Topic2\", \"Topic2\", \"Topic2\", \"Topic2\", \"Topic2\", \"Topic2\", \"Topic2\", \"Topic2\", \"Topic2\", \"Topic2\", \"Topic2\", \"Topic2\", \"Topic2\", \"Topic2\", \"Topic2\", \"Topic2\", \"Topic2\", \"Topic2\", \"Topic2\", \"Topic2\", \"Topic2\", \"Topic2\", \"Topic3\", \"Topic3\", \"Topic3\", \"Topic3\", \"Topic3\", \"Topic3\", \"Topic3\", \"Topic3\", \"Topic3\", \"Topic3\", \"Topic3\", \"Topic3\", \"Topic3\", \"Topic3\", \"Topic3\", \"Topic3\", \"Topic3\", \"Topic3\", \"Topic3\", \"Topic3\", \"Topic3\", \"Topic3\", \"Topic3\", \"Topic3\", \"Topic3\", \"Topic3\", \"Topic3\", \"Topic3\", \"Topic3\", \"Topic3\", \"Topic3\", \"Topic3\", \"Topic3\", \"Topic3\", \"Topic3\", \"Topic3\", \"Topic3\", \"Topic3\", \"Topic3\", \"Topic3\", \"Topic3\", \"Topic3\", \"Topic3\", \"Topic3\", \"Topic3\", \"Topic3\", \"Topic3\", \"Topic3\", \"Topic3\", \"Topic3\", \"Topic3\", \"Topic3\", \"Topic3\", \"Topic3\"], \"logprob\": [30.0, 29.0, 28.0, 27.0, 26.0, 25.0, 24.0, 23.0, 22.0, 21.0, 20.0, 19.0, 18.0, 17.0, 16.0, 15.0, 14.0, 13.0, 12.0, 11.0, 10.0, 9.0, 8.0, 7.0, 6.0, 5.0, 4.0, 3.0, 2.0, 1.0, -4.513999938964844, -4.882299900054932, -4.880099773406982, -4.873499870300293, -4.873199939727783, -4.8703999519348145, -4.870100021362305, -4.870100021362305, -4.869999885559082, -4.8694000244140625, -4.8694000244140625, -4.867199897766113, -4.866700172424316, -3.6252999305725098, -5.462600231170654, -5.460299968719482, -5.458899974822998, -5.457900047302246, -5.457600116729736, -5.457399845123291, -5.457200050354004, -5.4567999839782715, -5.4542999267578125, -5.453700065612793, -5.453199863433838, -5.453000068664551, -5.452700138092041, -5.452499866485596, -5.452099800109863, -5.4517998695373535, -3.428800106048584, -3.9091999530792236, -4.096199989318848, -4.092400074005127, -4.318900108337402, -3.307300090789795, -4.315899848937988, -3.9916000366210938, -4.204899787902832, -4.6230998039245605, -4.621799945831299, -4.619500160217285, -4.620999813079834, -3.9205000400543213, -4.4781999588012695, -4.4807000160217285, -4.017899990081787, -4.202000141143799, -4.289899826049805, -4.4832000732421875, -4.379799842834473, -4.490300178527832, -4.5208001136779785, -4.520999908447266, -4.637400150299072, -4.795300006866455, -4.79640007019043, -4.452700138092041, -4.808000087738037, -4.806700229644775, -4.806099891662598, -4.804699897766113, -4.803299903869629, -5.406499862670898, -5.406199932098389, -5.405900001525879, -5.404900074005127, -5.404600143432617, -5.403500080108643, -5.402400016784668, -5.401500225067139, -5.401299953460693, -5.400300025939941, -5.399400234222412, -5.395100116729736, -5.393899917602539, -5.393199920654297, -5.392899990081787, -5.392300128936768, -5.392199993133545, -5.392000198364258, -5.391900062561035, -5.3917999267578125, -5.39139986038208, -5.391300201416016, -5.390999794006348, -5.3907999992370605, -3.54830002784729, -3.9270999431610107, -4.5559000968933105, -4.093800067901611, -3.7177000045776367, -3.9881999492645264, -4.551199913024902, -4.352099895477295, -4.232100009918213, -4.139800071716309, -4.410200119018555, -4.412600040435791, -4.41510009765625, -3.626199960708618, -4.308199882507324, -4.2170000076293945, -4.452700138092041, -5.38129997253418, -5.381700038909912, -5.383900165557861, -5.384099960327148, -5.384200096130371, -5.3846001625061035, -5.384900093078613, -4.068600177764893, -4.72730016708374, -4.728400230407715, -5.018899917602539, -4.310500144958496, -4.473299980163574, -4.572800159454346, -4.57919979095459, -4.68149995803833, -5.163700103759766, -5.163599967956543, -5.163400173187256, -5.163300037384033, -5.163300037384033, -5.162899971008301, -5.162300109863281, -5.162099838256836, -5.160999774932861, -5.160900115966797, -5.160399913787842, -5.139500141143799, -5.137599945068359, -5.137400150299072, -5.137199878692627, -5.136899948120117, -5.1367998123168945, -5.13670015335083, -5.1356000900268555, -5.133999824523926, -5.133200168609619, -5.133200168609619, -5.132699966430664, -5.132699966430664, -3.8338000774383545, -3.733299970626831, -4.759099960327148, -4.7606000900268555, -3.972100019454956, -4.569499969482422, -3.19320011138916, -3.690000057220459, -4.044899940490723, -3.8087000846862793, -4.1930999755859375, -4.3094000816345215, -4.467400074005127, -4.468400001525879, -4.031700134277344, -4.42609977722168, -4.257800102233887, -4.381800174713135, -4.374599933624268, -4.462299823760986, -4.51639986038208, -4.591899871826172, -4.600599765777588, -4.6844000816345215, -4.688799858093262, -4.6930999755859375, -4.73829984664917, -4.938600063323975, -4.939199924468994, -4.9421000480651855], \"loglift\": [30.0, 29.0, 28.0, 27.0, 26.0, 25.0, 24.0, 23.0, 22.0, 21.0, 20.0, 19.0, 18.0, 17.0, 16.0, 15.0, 14.0, 13.0, 12.0, 11.0, 10.0, 9.0, 8.0, 7.0, 6.0, 5.0, 4.0, 3.0, 2.0, 1.0, 0.3728, 0.3523, 0.3511, 0.3476, 0.3475, 0.346, 0.3458, 0.3458, 0.3458, 0.3455, 0.3454, 0.3442, 0.344, 0.2988, 0.2967, 0.2956, 0.2949, 0.2945, 0.2943, 0.2942, 0.2941, 0.2939, 0.2929, 0.2926, 0.2924, 0.2924, 0.2922, 0.2921, 0.2919, 0.2918, 0.2593, 0.2573, 0.2283, 0.227, 0.2339, 0.0952, 0.1826, 0.1305, 0.0778, 0.1169, 0.1166, 0.1161, 0.1164, -0.1508, -0.0024, -0.0022, -0.174, -0.1104, -0.1483, -0.002, -0.2068, -0.1888, -0.1498, -0.2326, -0.1674, -0.0772, -0.0772, 0.4946, 0.4631, 0.4623, 0.462, 0.4611, 0.4602, 0.4101, 0.41, 0.4098, 0.4093, 0.4091, 0.4085, 0.408, 0.4075, 0.4074, 0.4069, 0.4064, 0.4042, 0.4036, 0.4032, 0.4031, 0.4027, 0.4027, 0.4026, 0.4025, 0.4025, 0.4023, 0.4022, 0.4021, 0.4019, 0.2214, 0.2146, 0.2795, 0.1946, 0.1262, 0.1035, 0.198, 0.1179, 0.0695, 0.0332, 0.0657, 0.0659, 0.0661, -0.2237, -0.0255, -0.0949, -0.0817, 0.3971, 0.3973, 0.3984, 0.3985, 0.3986, 0.3988, 0.3989, -0.3805, -0.0092, -0.0092, 0.1725, -0.3863, -0.3068, -0.2534, -0.2547, -0.183, 0.8872, 0.8871, 0.8869, 0.8868, 0.8868, 0.8865, 0.8859, 0.8858, 0.8848, 0.8847, 0.8843, 0.8659, 0.8643, 0.8642, 0.864, 0.8638, 0.8637, 0.8636, 0.8626, 0.8612, 0.8606, 0.8605, 0.8602, 0.8601, 0.5371, 0.4397, 0.4323, 0.4112, 0.3294, 0.2659, 0.2093, 0.1539, 0.0468, -0.1206, 0.0953, 0.1606, 0.2507, 0.2508, -0.2619, 0.1267, -0.3337, -0.2402, -0.2524, -0.2958, -0.2337, -0.2725, -0.2761, -0.2086, -0.2102, -0.2119, -0.2397, -0.1894, -0.2036, -0.2047]}, \"token.table\": {\"Topic\": [1, 2, 1, 1, 2, 1, 2, 3, 1, 2, 2, 2, 2, 2, 1, 2, 3, 1, 2, 1, 2, 1, 2, 3, 2, 1, 2, 2, 2, 1, 2, 1, 2, 1, 2, 3, 1, 2, 3, 1, 1, 2, 1, 2, 3, 2, 1, 2, 1, 2, 3, 2, 1, 1, 2, 3, 1, 2, 1, 2, 1, 2, 1, 2, 2, 1, 1, 1, 1, 2, 3, 2, 1, 1, 1, 1, 2, 2, 2, 1, 2, 1, 1, 1, 2, 3, 2, 2, 2, 2, 1, 1, 2, 3, 2, 1, 2, 1, 2, 3, 1, 1, 2, 2, 1, 2, 1, 1, 1, 2, 1, 2, 3, 1, 2, 3, 1, 2, 3, 2, 2, 2, 2, 2, 1, 1, 2, 1, 1, 2, 3, 2, 1, 1, 2, 1, 2, 3, 1, 2, 3, 1, 2, 1, 2, 1, 2, 1, 2, 2], \"Freq\": [0.6437052023900157, 0.32185260119500786, 0.520266266985597, 0.6465182898785344, 0.3232591449392672, 0.509144538356093, 0.33942969223739533, 0.16971484611869767, 0.889231007989273, 0.9464296280338999, 0.9296920539520406, 0.9443073904961113, 0.9169599030443559, 0.9180974253859561, 0.5645330047777982, 0.2258132019111193, 0.11290660095555966, 0.8819208078569768, 0.9177121621610841, 0.6400668787529363, 0.21335562625097879, 0.4935439886330275, 0.4935439886330275, 0.24677199431651375, 0.5468963122800666, 0.49784036274442495, 0.49784036274442495, 0.5486731173750118, 0.9262736304906897, 0.7487283825669873, 0.37436419128349363, 0.6448593569006239, 0.32242967845031195, 0.4469968180737418, 0.4469968180737418, 0.2234984090368709, 0.39582191398846345, 0.39582191398846345, 0.1319406379961545, 0.5227601069910202, 0.3556276460610223, 0.3556276460610223, 0.4115896883681253, 0.4115896883681253, 0.20579484418406266, 0.941198082570332, 0.8908875881327107, 0.9385128578792709, 0.5361499456630417, 0.2680749728315209, 0.2680749728315209, 0.9136964798487645, 0.8822050660776679, 0.3162647892691802, 0.3162647892691802, 0.3162647892691802, 0.5205645593422771, 0.9282434162475032, 0.5078447065008977, 0.2539223532504489, 0.32624921359316117, 0.32624921359316117, 0.5282715468658765, 0.5481580685909335, 0.948699552667571, 0.8896936587070834, 0.888933084047872, 0.5175404371748586, 0.3667281305427304, 0.3667281305427304, 0.1833640652713652, 0.9427510110527879, 0.5301201432427911, 0.5196937880715825, 0.888178310009671, 0.6455120754382918, 0.3227560377191459, 0.92719439898782, 0.5498227115128108, 0.4977680331393394, 0.4977680331393394, 0.892733466811752, 0.8830096340222173, 0.3554083679820256, 0.5331125519730383, 0.1777041839910128, 0.9265633426017087, 0.9278267479353633, 0.9292857902890026, 0.9306961582567747, 0.5179382964617142, 0.5718519491909628, 0.2859259745954814, 0.1429629872977407, 0.9166782077028283, 0.6368229936701967, 0.2122743312233989, 0.3380742908344247, 0.507111436251637, 0.16903714541721235, 0.8836243748187083, 0.4964270113662623, 0.4964270113662623, 0.5456491505363887, 0.3977187470612241, 0.7954374941224482, 0.5202120149934266, 0.5197390073991166, 0.8828202692958536, 0.9414929448264556, 0.40922881573846437, 0.40922881573846437, 0.20461440786923218, 0.31661241534076034, 0.31661241534076034, 0.31661241534076034, 0.3675289465192743, 0.49003859535903244, 0.12250964883975811, 0.9276650862216205, 0.9269767027078877, 0.9280416961379302, 0.9482725935290629, 0.9459292476643966, 0.8887275143187344, 0.49910469055259865, 0.49910469055259865, 0.5229863162266686, 0.522817324362457, 0.34854488290830465, 0.17427244145415233, 0.9323286975289954, 0.8850525123367724, 0.5077000010508369, 0.5077000010508369, 0.41703455241034987, 0.41703455241034987, 0.20851727620517493, 0.546509808838625, 0.36433987255908334, 0.18216993627954167, 0.8842589779863903, 0.947890259950399, 0.8958183792283338, 0.91308735458169, 0.8834448195195836, 0.9170831437208063, 0.520306905601746, 0.9397186165775304, 0.92842158694818], \"Term\": [\"G\", \"G\", \"Shabushi\", \"\\u0e01\\u0e30\\u0e1b\\u0e34\", \"\\u0e01\\u0e30\\u0e1b\\u0e34\", \"\\u0e01\\u0e38\\u0e49\\u0e07\", \"\\u0e01\\u0e38\\u0e49\\u0e07\", \"\\u0e01\\u0e38\\u0e49\\u0e07\", \"\\u0e02\\u0e22\\u0e31\\u0e19\", \"\\u0e02\\u0e2d\\u0e07\\u0e01\\u0e34\\u0e19\", \"\\u0e02\\u0e2d\\u0e07\\u0e04\\u0e32\\u0e27\", \"\\u0e02\\u0e32\", \"\\u0e02\\u0e49\\u0e19\", \"\\u0e02\\u0e49\\u0e32\\u0e27\\u0e1b\\u0e31\\u0e49\\u0e19\", \"\\u0e04\\u0e19\", \"\\u0e04\\u0e19\", \"\\u0e04\\u0e19\", \"\\u0e04\\u0e19\\u0e40\\u0e14\\u0e35\\u0e22\\u0e27\", \"\\u0e04\\u0e2d\", \"\\u0e04\\u0e34\\u0e27\", \"\\u0e04\\u0e34\\u0e27\", \"\\u0e04\\u0e38\\u0e49\\u0e21\", \"\\u0e04\\u0e38\\u0e49\\u0e21\", \"\\u0e04\\u0e38\\u0e49\\u0e21\", \"\\u0e04\\u0e48\\u0e32\", \"\\u0e08\\u0e32\\u0e19\", \"\\u0e08\\u0e32\\u0e19\", \"\\u0e0a\\u0e21.\", \"\\u0e0a\\u0e2d\\u0e04\", \"\\u0e0a\\u0e31\\u0e48\\u0e27\\u0e42\\u0e21\\u0e07\", \"\\u0e0a\\u0e31\\u0e48\\u0e27\\u0e42\\u0e21\\u0e07\", \"\\u0e0a\\u0e31\\u0e49\\u0e19\", \"\\u0e0a\\u0e31\\u0e49\\u0e19\", \"\\u0e0a\\u0e32\\u0e1a\\u0e39\", \"\\u0e0a\\u0e32\\u0e1a\\u0e39\", \"\\u0e0a\\u0e32\\u0e1a\\u0e39\", \"\\u0e0a\\u0e34\", \"\\u0e0a\\u0e34\", \"\\u0e0a\\u0e34\", \"\\u0e0a\\u0e37\\u0e48\\u0e19\", \"\\u0e0b\\u0e38\\u0e1b\", \"\\u0e0b\\u0e38\\u0e1b\", \"\\u0e0b\\u0e39\\u0e0a\\u0e34\", \"\\u0e0b\\u0e39\\u0e0a\\u0e34\", \"\\u0e0b\\u0e39\\u0e0a\\u0e34\", \"\\u0e0b\\u0e48\\u0e32\", \"\\u0e13\\u0e4c\", \"\\u0e15\\u0e2d\\u0e19\", \"\\u0e15\\u0e31\\u0e27\", \"\\u0e15\\u0e31\\u0e27\", \"\\u0e15\\u0e31\\u0e27\", \"\\u0e15\\u0e49\\u0e21\\u0e22\\u0e33\", \"\\u0e16\\u0e39\\u0e01\\u0e43\\u0e08\", \"\\u0e17\\u0e2d\\u0e14\", \"\\u0e17\\u0e2d\\u0e14\", \"\\u0e17\\u0e2d\\u0e14\", \"\\u0e19\\u0e32\\u0e17\\u0e35\", \"\\u0e19\\u0e34\", \"\\u0e19\\u0e38\\u0e48\\u0e21\", \"\\u0e19\\u0e38\\u0e48\\u0e21\", \"\\u0e19\\u0e49\\u0e33\", \"\\u0e19\\u0e49\\u0e33\", \"\\u0e1a\\u0e38\\u0e1f\\u0e40\\u0e1f\\u0e15\\u0e4c\", \"\\u0e1a\\u0e38\\u0e1f\\u0e40\\u0e1f\\u0e48\\u0e15\\u0e4c\", \"\\u0e1a\\u0e39\", \"\\u0e1b\", \"\\u0e1b\\u0e23\\u0e30\\u0e15\\u0e39\", \"\\u0e1b\\u0e2d\\u0e01\\u0e40\\u0e1b\\u0e25\\u0e37\\u0e2d\\u0e01\", \"\\u0e1b\\u0e38\\u0e23\\u0e30\", \"\\u0e1b\\u0e38\\u0e23\\u0e30\", \"\\u0e1b\\u0e38\\u0e23\\u0e30\", \"\\u0e1b\\u0e39\\u0e2d\\u0e31\\u0e14\", \"\\u0e1c\\u0e31\\u0e01\", \"\\u0e1e\\u0e19\\u0e31\\u0e01\\u0e07\\u0e32\\u0e19\", \"\\u0e1e\\u0e35\\u0e48\", \"\\u0e21\\u0e2d\\u0e25\\u0e25\\u0e4c\", \"\\u0e21\\u0e2d\\u0e25\\u0e25\\u0e4c\", \"\\u0e21\\u0e31\\u0e19\\u0e14\\u0e35\", \"\\u0e23\\u0e2a\", \"\\u0e23\\u0e2a\\u0e0a\\u0e32\\u0e15\\u0e34\", \"\\u0e23\\u0e2a\\u0e0a\\u0e32\\u0e15\\u0e34\", \"\\u0e23\\u0e2d\\u0e1a\", \"\\u0e23\\u0e30\\u0e14\\u0e31\\u0e1a\", \"\\u0e23\\u0e32\\u0e04\\u0e32\", \"\\u0e23\\u0e32\\u0e04\\u0e32\", \"\\u0e23\\u0e32\\u0e04\\u0e32\", \"\\u0e23\\u0e35\\u0e48\", \"\\u0e25\\u0e32\\u0e19\", \"\\u0e27\", \"\\u0e27\\u0e31\\u0e19\\u0e01\\u0e48\\u0e2d\\u0e19\", \"\\u0e27\\u0e32\\u0e19\\u0e34\\u0e25\\u0e32\", \"\\u0e2a\\u0e14\", \"\\u0e2a\\u0e14\", \"\\u0e2a\\u0e14\", \"\\u0e2a\\u0e25\\u0e31\\u0e14\", \"\\u0e2a\\u0e32\\u0e02\\u0e32\", \"\\u0e2a\\u0e32\\u0e02\\u0e32\", \"\\u0e2a\\u0e32\\u0e22\\u0e1e\\u0e32\\u0e19\", \"\\u0e2a\\u0e32\\u0e22\\u0e1e\\u0e32\\u0e19\", \"\\u0e2a\\u0e32\\u0e22\\u0e1e\\u0e32\\u0e19\", \"\\u0e2a\\u0e32\\u0e40\\u0e2b\\u0e15\\u0e38\", \"\\u0e2a\\u0e44\\u0e25\\u0e14\\u0e4c\", \"\\u0e2a\\u0e44\\u0e25\\u0e14\\u0e4c\", \"\\u0e2b\\u0e19\\u0e49\\u0e32\", \"\\u0e2b\\u0e21\\u0e49\\u0e2d\", \"\\u0e2b\\u0e21\\u0e49\\u0e2d\", \"\\u0e2b\\u0e27\\u0e32\\u0e19\", \"\\u0e2b\\u0e2d\\u0e21\", \"\\u0e2b\\u0e32\\u0e44\\u0e21\\u0e48\", \"\\u0e2b\\u0e34\\u0e27\", \"\\u0e2b\\u0e49\\u0e32\\u0e07\", \"\\u0e2b\\u0e49\\u0e32\\u0e07\", \"\\u0e2b\\u0e49\\u0e32\\u0e07\", \"\\u0e2d\\u0e23\\u0e48\\u0e2d\\u0e22\", \"\\u0e2d\\u0e23\\u0e48\\u0e2d\\u0e22\", \"\\u0e2d\\u0e23\\u0e48\\u0e2d\\u0e22\", \"\\u0e2d\\u0e32\\u0e2b\\u0e32\\u0e23\", \"\\u0e2d\\u0e32\\u0e2b\\u0e32\\u0e23\", \"\\u0e2d\\u0e32\\u0e2b\\u0e32\\u0e23\", \"\\u0e2d\\u0e32\\u0e2b\\u0e32\\u0e23\\u0e2a\\u0e14\", \"\\u0e2d\\u0e34\\u0e2d\\u0e34\", \"\\u0e2d\\u0e34\\u0e48\\u0e21\", \"\\u0e2e\\u0e48\\u0e32\", \"\\u0e40\\u0e01\\u0e35\\u0e4a\\u0e22\\u0e27\", \"\\u0e40\\u0e02\\u0e49\\u0e32\\u0e2b\\u0e19\\u0e49\\u0e32\", \"\\u0e40\\u0e14\\u0e2d\\u0e30\", \"\\u0e40\\u0e14\\u0e2d\\u0e30\", \"\\u0e40\\u0e14\\u0e49\\u0e07\", \"\\u0e40\\u0e19\\u0e37\\u0e49\\u0e2d\", \"\\u0e40\\u0e19\\u0e37\\u0e49\\u0e2d\", \"\\u0e40\\u0e19\\u0e37\\u0e49\\u0e2d\", \"\\u0e40\\u0e1a\", \"\\u0e40\\u0e1a\\u0e04\\u0e2d\\u0e19\", \"\\u0e40\\u0e1b\\u0e47\\u0e19\\u0e2b\\u0e25\\u0e31\\u0e01\", \"\\u0e40\\u0e1b\\u0e47\\u0e19\\u0e2b\\u0e25\\u0e31\\u0e01\", \"\\u0e40\\u0e21\\u0e19\\u0e39\", \"\\u0e40\\u0e21\\u0e19\\u0e39\", \"\\u0e40\\u0e21\\u0e19\\u0e39\", \"\\u0e40\\u0e27\\u0e25\\u0e32\", \"\\u0e40\\u0e27\\u0e25\\u0e32\", \"\\u0e40\\u0e27\\u0e25\\u0e32\", \"\\u0e40\\u0e2a\\u0e32\\u0e23\\u0e4c\", \"\\u0e41\\u0e1e\\u0e07\", \"\\u0e42\\u0e0a\\u0e04\\u0e14\\u0e35\", \"\\u0e42\\u0e15\\u0e4a\\u0e30\", \"\\u0e42\\u0e1f\\u0e25\\u0e15\", \"\\u0e42\\u0e2d\\u0e2d\\u0e34\\u0e0a\\u0e34\", \"\\u0e42\\u0e2d\\u0e40\\u0e04\", \"\\u0e44\\u0e21\\u0e48\\u0e07\\u0e31\\u0e49\\u0e19\", \"\\u0e44\\u0e25\\u0e19\\u0e4c\"]}, \"R\": 30, \"lambda.step\": 0.01, \"plot.opts\": {\"xlab\": \"PC1\", \"ylab\": \"PC2\"}, \"topic.order\": [1, 2, 3]};\n",
       "\n",
       "function LDAvis_load_lib(url, callback){\n",
       "  var s = document.createElement('script');\n",
       "  s.src = url;\n",
       "  s.async = true;\n",
       "  s.onreadystatechange = s.onload = callback;\n",
       "  s.onerror = function(){console.warn(\"failed to load library \" + url);};\n",
       "  document.getElementsByTagName(\"head\")[0].appendChild(s);\n",
       "}\n",
       "\n",
       "if(typeof(LDAvis) !== \"undefined\"){\n",
       "   // already loaded: just create the visualization\n",
       "   !function(LDAvis){\n",
       "       new LDAvis(\"#\" + \"ldavis_el11691398124047483603175057169\", ldavis_el11691398124047483603175057169_data);\n",
       "   }(LDAvis);\n",
       "}else if(typeof define === \"function\" && define.amd){\n",
       "   // require.js is available: use it to load d3/LDAvis\n",
       "   require.config({paths: {d3: \"https://cdnjs.cloudflare.com/ajax/libs/d3/3.5.5/d3.min\"}});\n",
       "   require([\"d3\"], function(d3){\n",
       "      window.d3 = d3;\n",
       "      LDAvis_load_lib(\"https://cdn.rawgit.com/bmabey/pyLDAvis/files/ldavis.v1.0.0.js\", function(){\n",
       "        new LDAvis(\"#\" + \"ldavis_el11691398124047483603175057169\", ldavis_el11691398124047483603175057169_data);\n",
       "      });\n",
       "    });\n",
       "}else{\n",
       "    // require.js not available: dynamically load d3 & LDAvis\n",
       "    LDAvis_load_lib(\"https://cdnjs.cloudflare.com/ajax/libs/d3/3.5.5/d3.min.js\", function(){\n",
       "         LDAvis_load_lib(\"https://cdn.rawgit.com/bmabey/pyLDAvis/files/ldavis.v1.0.0.js\", function(){\n",
       "                 new LDAvis(\"#\" + \"ldavis_el11691398124047483603175057169\", ldavis_el11691398124047483603175057169_data);\n",
       "            })\n",
       "         });\n",
       "}\n",
       "</script>"
      ],
      "text/plain": [
       "PreparedData(topic_coordinates=              x         y  topics  cluster       Freq\n",
       "topic                                                \n",
       "0     -0.024259 -0.005783       1        1  47.180306\n",
       "1      0.022265 -0.007489       2        1  39.256685\n",
       "2      0.001993  0.013272       3        1  13.563009, topic_info=     Term       Freq      Total Category  logprob  loglift\n",
       "0    กุ้ง  11.000000  11.000000  Default  30.0000  30.0000\n",
       "9    ปุระ   5.000000   5.000000  Default  29.0000  29.0000\n",
       "21   ชาบู   4.000000   4.000000  Default  28.0000  28.0000\n",
       "4      ชิ   7.000000   7.000000  Default  27.0000  27.0000\n",
       "17   เมนู   4.000000   4.000000  Default  26.0000  26.0000\n",
       "..    ...        ...        ...      ...      ...      ...\n",
       "105  เดอะ   0.439729   4.007175   Topic3  -4.6931  -0.2119\n",
       "76   นุ่ม   0.420291   3.938212   Topic3  -4.7383  -0.2397\n",
       "41    น้ำ   0.343980   3.065141   Topic3  -4.9386  -0.1894\n",
       "54      G   0.343780   3.107012   Topic3  -4.9392  -0.2036\n",
       "70   ชั้น   0.342800   3.101451   Topic3  -4.9421  -0.2047\n",
       "\n",
       "[204 rows x 6 columns], token_table=      Topic      Freq      Term\n",
       "term                           \n",
       "54        1  0.643705         G\n",
       "54        2  0.321853         G\n",
       "56        1  0.520266  Shabushi\n",
       "58        1  0.646518      กะปิ\n",
       "58        2  0.323259      กะปิ\n",
       "...     ...       ...       ...\n",
       "120       1  0.883445      โฟลต\n",
       "197       2  0.917083    โออิชิ\n",
       "122       1  0.520307      โอเค\n",
       "19        2  0.939719   ไม่งั้น\n",
       "52        2  0.928422      ไลน์\n",
       "\n",
       "[150 rows x 3 columns], R=30, lambda_step=0.01, plot_opts={'xlab': 'PC1', 'ylab': 'PC2'}, topic_order=[1, 2, 3])"
      ]
     },
     "execution_count": 24,
     "metadata": {
      "tags": []
     },
     "output_type": "execute_result"
    }
   ],
   "source": [
    "pyLDAvis.gensim.prepare(Shabushi_model, Shabushi_gensim_corpus, Shabushi_dictionary)"
   ]
  },
  {
   "cell_type": "code",
   "execution_count": 36,
   "metadata": {
    "colab": {
     "base_uri": "https://localhost:8080/"
    },
    "id": "Uyiaa_39BLuB",
    "outputId": "10283879-1aea-4fd8-af12-173b80123922"
   },
   "outputs": [
    {
     "data": {
      "text/plain": [
       "[('อาหาร', 0.028772822),\n",
       " ('กุ้ง', 0.026616663),\n",
       " ('ชิ', 0.024289198),\n",
       " ('ราคา', 0.019701453),\n",
       " ('สายพาน', 0.018533856),\n",
       " ('คน', 0.017101964),\n",
       " ('ซูชิ', 0.01667522),\n",
       " ('ปุระ', 0.015925972),\n",
       " ('เนื้อ', 0.014742171),\n",
       " ('เมนู', 0.014521734)]"
      ]
     },
     "execution_count": 36,
     "metadata": {
      "tags": []
     },
     "output_type": "execute_result"
    }
   ],
   "source": [
    "Shabushi_model.show_topic(1)"
   ]
  },
  {
   "cell_type": "markdown",
   "metadata": {
    "id": "qUi15CzN6QRv"
   },
   "source": [
    "### ข้าน้อยขอชาบู"
   ]
  },
  {
   "cell_type": "code",
   "execution_count": 26,
   "metadata": {
    "id": "OPxXj3fWCECo"
   },
   "outputs": [],
   "source": [
    "Shabu_documents = df_Shabu['Review_tokenized'].to_list()\n",
    "Shabu_texts = [[text for text in doc.split(',')] for doc in Shabu_documents]\n",
    "Shabu_dictionary = gensim.corpora.Dictionary(Shabu_texts)"
   ]
  },
  {
   "cell_type": "code",
   "execution_count": 27,
   "metadata": {
    "colab": {
     "base_uri": "https://localhost:8080/"
    },
    "id": "-G42tgUgCEC1",
    "outputId": "c3e7c485-9884-4577-94d7-f4f0c023d03e"
   },
   "outputs": [
    {
     "name": "stdout",
     "output_type": "stream",
     "text": [
      "dict_keys(['HALL', 'MCC', 'กะปิ', 'ของหวาน', 'ค่ายมวย', 'ชั้น', 'ชาบู', 'ซุป', 'ซูชิ', 'ด้านใน', 'ตอนแรก', 'ตัวเลือก', 'ทอด', 'ที่ไหนได้', 'นม', 'นา', 'น้ำ', 'น้ำดื่ม', 'พิซ', 'พิซซ่า', 'ฟี', 'มอลล์', 'ยู', 'รสชาติ', 'รอบ', 'ราคา', 'รี', 'ล', 'สาขา', 'หมู', 'หิว', 'อลล์', 'อเรีย', 'เซ', 'เดอะ', 'เนื้อ', 'เบ', 'เมนู', 'แกงเขียวหวาน', 'โซน', 'VAT', 'ค่าน้ำ', 'ชม.', 'ชุด', 'ช่อง', 'ซี', 'ซึป', 'ต้มยำ', 'ทอน', 'บุฟเฟ่ต์', 'ฟรี', 'ฟู้ด', 'ลอตเตอรี่', 'สัปดาห์', 'หม้อ', 'หัว', 'อันนี้', 'อาหาร', 'ฮัน', 'เงิน', 'โทส', 'โปรโมชั่น', 'ได้เวลา', 'Narai', 'mall', 'pizza', 'pizzeria', 'union', 'ขยัน', 'ของสด', 'ข้าวมันไก่', 'คุณภาพ', 'จำได้', 'ชื่อ', 'ตตี้', 'ตัดกำลัง', 'ตู้', 'น', 'นิว', 'บางส่วน', 'ปรุง', 'พนักงาน', 'ลี', 'สปา', 'สุก', 'อร่อย', 'ออ', 'เก', 'ไก่', 'ไลน์', 'กก', 'ครีม', 'คุ้มค่า', 'งาน', 'ชาต', 'นุ่ม', 'บรา', 'บุ', 'บุพ', 'ผัก', 'ฟเฟ่', 'รส', 'ว', 'วิป', 'สมราคา', 'หอ', 'เซต', 'เด็ด', 'เป้ง', 'เฟ่', 'เรย', 'เเบบ', 'โชค', 'ไอติม', '%', 'ตอน', 'สดๆ ร้อนๆ', 'หน้า', 'เงินสด', 'เนื้อวัว', 'แปลก', 'โอเค'])\n"
     ]
    }
   ],
   "source": [
    "print(Shabu_dictionary.token2id.keys())"
   ]
  },
  {
   "cell_type": "code",
   "execution_count": 28,
   "metadata": {
    "id": "73dpKkFdCEC2"
   },
   "outputs": [],
   "source": [
    "Shabu_gensim_corpus = [Shabu_dictionary.doc2bow(text, allow_update=True) for text in Shabu_texts]\n",
    "Shabu_word_frequencies = [[(Shabu_dictionary[id], frequence) for id, frequence in couple] for couple in Shabu_gensim_corpus]"
   ]
  },
  {
   "cell_type": "code",
   "execution_count": 29,
   "metadata": {
    "id": "W5-75DhmCEC2"
   },
   "outputs": [],
   "source": [
    "Shabu_documents = df_Shabu['Review_tokenized'].to_list()\n",
    "Shabu_texts = [[text for text in doc.split(',')] for doc in Shabu_documents]\n",
    "Shabu_dictionary = gensim.corpora.Dictionary(Shabu_texts)"
   ]
  },
  {
   "cell_type": "code",
   "execution_count": 30,
   "metadata": {
    "colab": {
     "base_uri": "https://localhost:8080/"
    },
    "id": "-9BRzyXOCEC3",
    "outputId": "dd436d31-fbb3-4419-ec2d-0a966d29e56d"
   },
   "outputs": [
    {
     "name": "stdout",
     "output_type": "stream",
     "text": [
      "CPU times: user 108 ms, sys: 684 µs, total: 109 ms\n",
      "Wall time: 115 ms\n"
     ]
    }
   ],
   "source": [
    "Shabu_num_topics = 3\n",
    "Shabu_chunksize = 21 # size of the doc looked at every pass\n",
    "Shabu_passes = 20 # number of passes through documents\n",
    "Shabu_iterations = 50\n",
    "Shabu_eval_every = 1  # Don't evaluate model perplexity, takes too much time.\n",
    "\n",
    "# Make a index to word dictionary.\n",
    "Shabu_temp = Shabu_dictionary[0]  # This is only to \"load\" the dictionary.\n",
    "Shabu_id2word = Shabu_dictionary.id2token\n",
    "\n",
    "%time Shabu_model = gensim.models.LdaModel(corpus=Shabu_gensim_corpus, id2word=Shabu_id2word, chunksize=Shabu_chunksize, \\\n",
    "                       alpha='auto', eta='auto', \\\n",
    "                       iterations=Shabu_iterations, num_topics=Shabu_num_topics, \\\n",
    "                       passes=Shabu_passes, eval_every=Shabu_eval_every)"
   ]
  },
  {
   "cell_type": "code",
   "execution_count": 31,
   "metadata": {
    "colab": {
     "base_uri": "https://localhost:8080/",
     "height": 861
    },
    "id": "2Bh-h4JYCEC3",
    "outputId": "9d495298-513f-4b2a-ba95-1fd5c63b684f"
   },
   "outputs": [
    {
     "data": {
      "text/html": [
       "\n",
       "<link rel=\"stylesheet\" type=\"text/css\" href=\"https://cdn.rawgit.com/bmabey/pyLDAvis/files/ldavis.v1.0.0.css\">\n",
       "\n",
       "\n",
       "<div id=\"ldavis_el11691398124047484805780078498\"></div>\n",
       "<script type=\"text/javascript\">\n",
       "\n",
       "var ldavis_el11691398124047484805780078498_data = {\"mdsDat\": {\"x\": [-0.02465707846382861, 0.015177419071740403, 0.00947965939208822], \"y\": [-0.0025919496673004446, -0.015529034445652061, 0.018120984112952498], \"topics\": [1, 2, 3], \"cluster\": [1, 1, 1], \"Freq\": [57.20566660516131, 21.974942549960897, 20.8193908448778]}, \"tinfo\": {\"Term\": [\"\\u0e1a\\u0e38\\u0e1f\\u0e40\\u0e1f\\u0e48\\u0e15\\u0e4c\", \"\\u0e19\\u0e49\\u0e33\", \"\\u0e2d\\u0e23\\u0e48\\u0e2d\\u0e22\", \"\\u0e02\\u0e2d\\u0e07\\u0e2b\\u0e27\\u0e32\\u0e19\", \"\\u0e0a\\u0e38\\u0e14\", \"\\u0e1a\\u0e38\", \"\\u0e1f\\u0e40\\u0e1f\\u0e48\", \"\\u0e42\\u0e1b\\u0e23\\u0e42\\u0e21\\u0e0a\\u0e31\\u0e48\\u0e19\", \"\\u0e1e\\u0e34\\u0e0b\\u0e0b\\u0e48\\u0e32\", \"\\u0e17\\u0e2d\\u0e19\", \"\\u0e44\\u0e14\\u0e49\\u0e40\\u0e27\\u0e25\\u0e32\", \"\\u0e2b\\u0e31\\u0e27\", \"\\u0e04\\u0e48\\u0e32\\u0e19\\u0e49\\u0e33\", \"\\u0e0b\\u0e36\\u0e1b\", \"\\u0e2e\\u0e31\\u0e19\", \"\\u0e25\\u0e2d\\u0e15\\u0e40\\u0e15\\u0e2d\\u0e23\\u0e35\\u0e48\", \"\\u0e42\\u0e17\\u0e2a\", \"\\u0e0a\\u0e21.\", \"\\u0e0b\\u0e35\", \"\\u0e1f\\u0e23\\u0e35\", \"\\u0e0a\\u0e48\\u0e2d\\u0e07\", \"\\u0e2a\\u0e31\\u0e1b\\u0e14\\u0e32\\u0e2b\\u0e4c\", \"\\u0e40\\u0e07\\u0e34\\u0e19\", \"\\u0e2d\\u0e31\\u0e19\\u0e19\\u0e35\\u0e49\", \"\\u0e2b\\u0e21\\u0e49\\u0e2d\", \"\\u0e15\\u0e49\\u0e21\\u0e22\\u0e33\", \"\\u0e1f\\u0e39\\u0e49\\u0e14\", \"\\u0e1a\\u0e23\\u0e32\", \"\\u0e42\\u0e0a\\u0e04\", \"\\u0e40\\u0e1f\\u0e48\", \"\\u0e0b\\u0e39\\u0e0a\\u0e34\", \"\\u0e2a\\u0e32\\u0e02\\u0e32\", \"\\u0e23\\u0e2a\\u0e0a\\u0e32\\u0e15\\u0e34\", \"\\u0e0a\\u0e32\\u0e1a\\u0e39\", \"\\u0e1a\\u0e32\\u0e07\\u0e2a\\u0e48\\u0e27\\u0e19\", \"\\u0e0a\\u0e37\\u0e48\\u0e2d\", \"\\u0e42\\u0e2d\\u0e40\\u0e04\", \"\\u0e15\\u0e2d\\u0e19\", \"%\", \"\\u0e40\\u0e19\\u0e37\\u0e49\\u0e2d\\u0e27\\u0e31\\u0e27\", \"\\u0e40\\u0e07\\u0e34\\u0e19\\u0e2a\\u0e14\", \"\\u0e41\\u0e1b\\u0e25\\u0e01\", \"\\u0e2b\\u0e19\\u0e49\\u0e32\", \"\\u0e2a\\u0e14\\u0e46 \\u0e23\\u0e49\\u0e2d\\u0e19\\u0e46\", \"\\u0e23\\u0e32\\u0e04\\u0e32\", \"\\u0e23\\u0e35\", \"\\u0e41\\u0e01\\u0e07\\u0e40\\u0e02\\u0e35\\u0e22\\u0e27\\u0e2b\\u0e27\\u0e32\\u0e19\", \"\\u0e42\\u0e0b\\u0e19\", \"\\u0e40\\u0e1a\", \"\\u0e15\\u0e31\\u0e27\\u0e40\\u0e25\\u0e37\\u0e2d\\u0e01\", \"\\u0e15\\u0e2d\\u0e19\\u0e41\\u0e23\\u0e01\", \"\\u0e17\\u0e2d\\u0e14\", \"\\u0e01\\u0e30\\u0e1b\\u0e34\", \"MCC\", \"\\u0e2b\\u0e34\\u0e27\", \"HALL\", \"\\u0e2d\\u0e25\\u0e25\\u0e4c\", \"\\u0e19\\u0e49\\u0e33\\u0e14\\u0e37\\u0e48\\u0e21\", \"\\u0e25\", \"\\u0e40\\u0e19\\u0e37\\u0e49\\u0e2d\", \"\\u0e2d\\u0e32\\u0e2b\\u0e32\\u0e23\", \"\\u0e0b\\u0e38\\u0e1b\", \"\\u0e1e\\u0e34\\u0e0b\\u0e0b\\u0e48\\u0e32\", \"\\u0e19\\u0e49\\u0e33\", \"\\u0e2d\\u0e23\\u0e48\\u0e2d\\u0e22\", \"\\u0e02\\u0e2d\\u0e07\\u0e2b\\u0e27\\u0e32\\u0e19\", \"union\", \"\\u0e15\\u0e31\\u0e14\\u0e01\\u0e33\\u0e25\\u0e31\\u0e07\", \"\\u0e2d\\u0e2d\", \"\\u0e02\\u0e49\\u0e32\\u0e27\\u0e21\\u0e31\\u0e19\\u0e44\\u0e01\\u0e48\", \"\\u0e1b\\u0e23\\u0e38\\u0e07\", \"\\u0e15\\u0e15\\u0e35\\u0e49\", \"\\u0e02\\u0e2d\\u0e07\\u0e2a\\u0e14\", \"\\u0e15\\u0e39\\u0e49\", \"\\u0e40\\u0e01\", \"\\u0e02\\u0e22\\u0e31\\u0e19\", \"pizza\", \"\\u0e08\\u0e33\\u0e44\\u0e14\\u0e49\", \"\\u0e25\\u0e35\", \"\\u0e44\\u0e25\\u0e19\\u0e4c\", \"Narai\", \"\\u0e19\", \"\\u0e1e\\u0e19\\u0e31\\u0e01\\u0e07\\u0e32\\u0e19\", \"mall\", \"\\u0e04\\u0e38\\u0e13\\u0e20\\u0e32\\u0e1e\", \"\\u0e44\\u0e01\\u0e48\", \"\\u0e1e\\u0e34\\u0e0b\", \"\\u0e19\\u0e32\", \"\\u0e40\\u0e0b\", \"\\u0e2d\\u0e40\\u0e23\\u0e35\\u0e22\", \"\\u0e2b\\u0e21\\u0e39\", \"VAT\", \"\\u0e1a\\u0e38\\u0e1f\\u0e40\\u0e1f\\u0e48\\u0e15\\u0e4c\", \"\\u0e1f\\u0e40\\u0e1f\\u0e48\", \"\\u0e1a\\u0e38\", \"\\u0e2a\\u0e21\\u0e23\\u0e32\\u0e04\\u0e32\", \"\\u0e04\\u0e38\\u0e49\\u0e21\\u0e04\\u0e48\\u0e32\", \"\\u0e27\\u0e34\\u0e1b\", \"\\u0e40\\u0e14\\u0e47\\u0e14\", \"\\u0e04\\u0e23\\u0e35\\u0e21\", \"\\u0e40\\u0e0b\\u0e15\", \"\\u0e44\\u0e2d\\u0e15\\u0e34\\u0e21\", \"\\u0e0a\\u0e32\\u0e15\", \"\\u0e1c\\u0e31\\u0e01\", \"\\u0e01\\u0e01\", \"\\u0e40\\u0e23\\u0e22\", \"\\u0e2b\\u0e2d\", \"\\u0e40\\u0e1b\\u0e49\\u0e07\", \"\\u0e19\\u0e38\\u0e48\\u0e21\", \"\\u0e07\\u0e32\\u0e19\", \"\\u0e27\", \"\\u0e23\\u0e2a\", \"\\u0e40\\u0e40\\u0e1a\\u0e1a\", \"\\u0e1a\\u0e38\\u0e1e\", \"\\u0e40\\u0e1f\\u0e48\", \"\\u0e42\\u0e0a\\u0e04\", \"\\u0e1a\\u0e23\\u0e32\", \"\\u0e02\\u0e2d\\u0e07\\u0e2b\\u0e27\\u0e32\\u0e19\", \"\\u0e2d\\u0e23\\u0e48\\u0e2d\\u0e22\", \"\\u0e42\\u0e1b\\u0e23\\u0e42\\u0e21\\u0e0a\\u0e31\\u0e48\\u0e19\", \"\\u0e2b\\u0e21\\u0e39\", \"\\u0e44\\u0e01\\u0e48\", \"\\u0e1e\\u0e34\\u0e0b\\u0e0b\\u0e48\\u0e32\", \"\\u0e19\\u0e49\\u0e33\", \"\\u0e23\\u0e32\\u0e04\\u0e32\", \"\\u0e0b\\u0e38\\u0e1b\", \"\\u0e2d\\u0e32\\u0e2b\\u0e32\\u0e23\", \"\\u0e1a\\u0e38\\u0e1f\\u0e40\\u0e1f\\u0e48\\u0e15\\u0e4c\", \"\\u0e1a\\u0e38\\u0e1f\\u0e40\\u0e1f\\u0e48\\u0e15\\u0e4c\", \"\\u0e0a\\u0e38\\u0e14\", \"\\u0e1f\\u0e39\\u0e49\\u0e14\", \"\\u0e15\\u0e49\\u0e21\\u0e22\\u0e33\", \"\\u0e2b\\u0e21\\u0e49\\u0e2d\", \"\\u0e2d\\u0e31\\u0e19\\u0e19\\u0e35\\u0e49\", \"\\u0e40\\u0e07\\u0e34\\u0e19\", \"\\u0e2a\\u0e31\\u0e1b\\u0e14\\u0e32\\u0e2b\\u0e4c\", \"\\u0e0a\\u0e48\\u0e2d\\u0e07\", \"\\u0e1f\\u0e23\\u0e35\", \"\\u0e0b\\u0e35\", \"\\u0e0a\\u0e21.\", \"\\u0e42\\u0e17\\u0e2a\", \"\\u0e25\\u0e2d\\u0e15\\u0e40\\u0e15\\u0e2d\\u0e23\\u0e35\\u0e48\", \"\\u0e2e\\u0e31\\u0e19\", \"\\u0e0b\\u0e36\\u0e1b\", \"\\u0e04\\u0e48\\u0e32\\u0e19\\u0e49\\u0e33\", \"\\u0e2b\\u0e31\\u0e27\", \"\\u0e44\\u0e14\\u0e49\\u0e40\\u0e27\\u0e25\\u0e32\", \"\\u0e17\\u0e2d\\u0e19\", \"\\u0e42\\u0e1b\\u0e23\\u0e42\\u0e21\\u0e0a\\u0e31\\u0e48\\u0e19\", \"VAT\", \"\\u0e2d\\u0e40\\u0e23\\u0e35\\u0e22\", \"\\u0e40\\u0e0b\", \"\\u0e19\\u0e32\", \"\\u0e1e\\u0e34\\u0e0b\", \"\\u0e19\\u0e49\\u0e33\", \"\\u0e0b\\u0e38\\u0e1b\", \"\\u0e2d\\u0e32\\u0e2b\\u0e32\\u0e23\", \"\\u0e1e\\u0e34\\u0e0b\\u0e0b\\u0e48\\u0e32\", \"\\u0e2d\\u0e23\\u0e48\\u0e2d\\u0e22\", \"\\u0e23\\u0e32\\u0e04\\u0e32\", \"\\u0e02\\u0e2d\\u0e07\\u0e2b\\u0e27\\u0e32\\u0e19\"], \"Freq\": [2.0, 7.0, 4.0, 4.0, 1.0, 1.0, 1.0, 1.0, 4.0, 0.0, 0.0, 0.0, 0.0, 0.0, 0.0, 0.0, 0.0, 0.0, 0.0, 0.0, 0.0, 0.0, 0.0, 0.0, 0.0, 0.0, 0.0, 0.0, 0.0, 0.0, 1.3560982972806404, 1.3731309608443383, 1.373459727989717, 1.390881898129353, 1.4083482172632802, 1.409344841637539, 0.7519044250984978, 0.7520924961274144, 0.7522540224583021, 0.7522797376345175, 0.7524191894682597, 0.752660119470508, 0.7526957428239393, 0.7528733065765527, 4.20600297856317, 0.7703260768541942, 0.7710005702575814, 0.7713738089890676, 0.7718966842387828, 0.7721735141017335, 0.7726729784024926, 0.7727933973190716, 0.7729648779117201, 0.7730386592685679, 0.7732711097145014, 0.7734989517059162, 0.7737745372861468, 0.7737843072097269, 0.773951317601492, 0.7741112309732981, 2.4083552893079854, 2.4163704977454485, 2.8545089881923693, 4.10727992850643, 2.3288771453221995, 2.3203939022437963, 0.7917176471245999, 0.7918865008981727, 0.7914855653550278, 0.7909155917001295, 0.7905556714022028, 0.7910351350103499, 0.7913216887123355, 0.7898770303897487, 0.7895072479991516, 0.7897614503504145, 0.7899455120238996, 0.7894598730866973, 0.7891665910411141, 0.7896637511146136, 0.7886173554315508, 0.7888665806519333, 0.7880093159423263, 0.7892546125224251, 0.7886612279185707, 1.155677347606116, 1.1393176105712688, 1.138963496926036, 1.1378676986105305, 1.1373314588427104, 1.1429076888105874, 1.1228139975863414, 0.8716558992095536, 0.7197823060185251, 0.7217960443856697, 0.4030562346826885, 0.40362524075376205, 0.4036361103240327, 0.40404667559067253, 0.4041738176976494, 0.4043245754507843, 0.40483070088081335, 0.4050616881005062, 0.4051413510748025, 0.40528102682306866, 0.4053163263721235, 0.4053931214793451, 0.4054295894186896, 0.40543397973371753, 0.40567633220440996, 0.4057272102906605, 0.4058395881930678, 0.4058878462526082, 0.40636267298518036, 0.4063945735806652, 0.40658604796510717, 0.4072632894639246, 1.4183610899291557, 1.4228307138736724, 0.5937357242641829, 0.5918060745921289, 0.5985000658078294, 1.0442580268996704, 1.4760396325348408, 1.0935373303647518, 0.6005682582436264, 0.5964327939219578, 0.4511351764510735, 1.263618502676701, 0.6850732952343719, 0.3850338869567339, 0.3853032784607499, 0.3857682312234402, 0.38586621311650837, 0.3859578216580932, 0.3861265142086718, 0.3863496150545453, 0.3863783622241309, 0.3864151934869138, 0.3865709380707945, 0.3866323235087661, 0.3866528188653784, 0.3867880680926468, 0.38680138504285155, 0.3868265765531885, 0.38683972578361736, 0.38693660072616476, 0.38724980063564024, 0.5690480415892558, 0.5570292424498049, 0.5642760785259616, 0.564578175386274, 0.5650885802082273, 0.5652823971812324, 1.830157120979263, 0.7832758404397178, 0.7794451207586536, 1.0006807885486009, 0.7401087954032215, 0.840122915451786, 0.7357920238116615], \"Total\": [2.0, 7.0, 4.0, 4.0, 1.0, 1.0, 1.0, 1.0, 4.0, 0.0, 0.0, 0.0, 0.0, 0.0, 0.0, 0.0, 0.0, 0.0, 0.0, 0.0, 0.0, 0.0, 0.0, 0.0, 0.0, 0.0, 0.0, 0.0, 0.0, 0.0, 1.8817573305390813, 1.9161370426638655, 1.9168077816374722, 1.9520092788846788, 1.987394922457936, 1.9895068560578708, 1.089588448848421, 1.0899677277264548, 1.090293514682791, 1.090345380437255, 1.090626604100683, 1.0911125451079295, 1.0911843353986967, 1.0915424822112956, 6.139663224379708, 1.1267561338215302, 1.1281181762078352, 1.128873132683805, 1.129931867419334, 1.1304886425861667, 1.1315033372792622, 1.1317407901581111, 1.1320876779114255, 1.1322340634504597, 1.1327053128160527, 1.133163006308201, 1.1337211505929456, 1.133741112026957, 1.1340804388966608, 1.1344007480799494, 3.784233203988597, 3.800214596428793, 4.899447803640641, 7.413476682020534, 4.491816654599093, 4.474547015984614, 1.1700599850951505, 1.170408022564094, 1.1695882004868785, 1.168437052421924, 1.1677035092830077, 1.168689764875835, 1.1692802491541237, 1.1663187193682913, 1.1655679449416823, 1.1660958333018119, 1.166484014407409, 1.165489708888752, 1.1648888987952501, 1.1659136867647182, 1.163776543268648, 1.1642907117371082, 1.1625364833220815, 1.1650891605751745, 1.16387370566903, 2.1199846096870307, 2.0776388088511544, 2.076899439254241, 2.074734639341017, 2.0736023994463806, 2.094022757591256, 2.0442672870944, 2.586409578337328, 1.5463205795877695, 1.5542123618882553, 0.9410255463060064, 0.9432494096131808, 0.9432935432003842, 0.9448971857345154, 0.9454004644924501, 0.9459848299676764, 0.9479638781812499, 0.9488662223935923, 0.9491838263481176, 0.9497255521158339, 0.9498698452773637, 0.9501630134544242, 0.9503062652254792, 0.9503327308578885, 0.9512777484406532, 0.9514733232324206, 0.9519143064981161, 0.9521023706453794, 0.9539633249262495, 0.9540867925038531, 0.9548443206590914, 0.9574906487839899, 4.474547015984614, 4.491816654599093, 1.8906728892702815, 2.094022757591256, 2.1199846096870307, 4.899447803640641, 7.413476682020534, 6.139663224379708, 3.800214596428793, 3.784233203988597, 2.586409578337328, 2.586409578337328, 1.5093294515979543, 0.9271119377243812, 0.9282164481814017, 0.930126288811992, 0.9305295626140656, 0.93090568917683, 0.9315963528094291, 0.9325167096042615, 0.9326382097828029, 0.9327848114814453, 0.9334333367419119, 0.9336850049188206, 0.9337701511516494, 0.9343233154551762, 0.9343821333168767, 0.934484944482723, 0.9345417304557718, 0.9349408905893722, 0.9362409863071173, 1.8906728892702815, 2.0442672870944, 2.0736023994463806, 2.074734639341017, 2.076899439254241, 2.0776388088511544, 7.413476682020534, 3.800214596428793, 3.784233203988597, 4.899447803640641, 4.491816654599093, 6.139663224379708, 4.474547015984614], \"Category\": [\"Default\", \"Default\", \"Default\", \"Default\", \"Default\", \"Default\", \"Default\", \"Default\", \"Default\", \"Default\", \"Default\", \"Default\", \"Default\", \"Default\", \"Default\", \"Default\", \"Default\", \"Default\", \"Default\", \"Default\", \"Default\", \"Default\", \"Default\", \"Default\", \"Default\", \"Default\", \"Default\", \"Default\", \"Default\", \"Default\", \"Topic1\", \"Topic1\", \"Topic1\", \"Topic1\", \"Topic1\", \"Topic1\", \"Topic1\", \"Topic1\", \"Topic1\", \"Topic1\", \"Topic1\", \"Topic1\", \"Topic1\", \"Topic1\", \"Topic1\", \"Topic1\", \"Topic1\", \"Topic1\", \"Topic1\", \"Topic1\", \"Topic1\", \"Topic1\", \"Topic1\", \"Topic1\", \"Topic1\", \"Topic1\", \"Topic1\", \"Topic1\", \"Topic1\", \"Topic1\", \"Topic1\", \"Topic1\", \"Topic1\", \"Topic1\", \"Topic1\", \"Topic1\", \"Topic1\", \"Topic1\", \"Topic1\", \"Topic1\", \"Topic1\", \"Topic1\", \"Topic1\", \"Topic1\", \"Topic1\", \"Topic1\", \"Topic1\", \"Topic1\", \"Topic1\", \"Topic1\", \"Topic1\", \"Topic1\", \"Topic1\", \"Topic1\", \"Topic1\", \"Topic1\", \"Topic1\", \"Topic1\", \"Topic1\", \"Topic1\", \"Topic1\", \"Topic1\", \"Topic1\", \"Topic2\", \"Topic2\", \"Topic2\", \"Topic2\", \"Topic2\", \"Topic2\", \"Topic2\", \"Topic2\", \"Topic2\", \"Topic2\", \"Topic2\", \"Topic2\", \"Topic2\", \"Topic2\", \"Topic2\", \"Topic2\", \"Topic2\", \"Topic2\", \"Topic2\", \"Topic2\", \"Topic2\", \"Topic2\", \"Topic2\", \"Topic2\", \"Topic2\", \"Topic2\", \"Topic2\", \"Topic2\", \"Topic2\", \"Topic2\", \"Topic2\", \"Topic2\", \"Topic2\", \"Topic2\", \"Topic2\", \"Topic3\", \"Topic3\", \"Topic3\", \"Topic3\", \"Topic3\", \"Topic3\", \"Topic3\", \"Topic3\", \"Topic3\", \"Topic3\", \"Topic3\", \"Topic3\", \"Topic3\", \"Topic3\", \"Topic3\", \"Topic3\", \"Topic3\", \"Topic3\", \"Topic3\", \"Topic3\", \"Topic3\", \"Topic3\", \"Topic3\", \"Topic3\", \"Topic3\", \"Topic3\", \"Topic3\", \"Topic3\", \"Topic3\", \"Topic3\", \"Topic3\", \"Topic3\", \"Topic3\"], \"logprob\": [30.0, 29.0, 28.0, 27.0, 26.0, 25.0, 24.0, 23.0, 22.0, 21.0, 20.0, 19.0, 18.0, 17.0, 16.0, 15.0, 14.0, 13.0, 12.0, 11.0, 10.0, 9.0, 8.0, 7.0, 6.0, 5.0, 4.0, 3.0, 2.0, 1.0, -4.290200233459473, -4.277699947357178, -4.277400016784668, -4.264800071716309, -4.252399921417236, -4.2515997886657715, -4.879899978637695, -4.879700183868408, -4.879499912261963, -4.87939977645874, -4.879199981689453, -4.878900051116943, -4.878900051116943, -4.878600120544434, -3.1582999229431152, -4.8557000160217285, -4.854800224304199, -4.854400157928467, -4.853700160980225, -4.853300094604492, -4.852700233459473, -4.852499961853027, -4.85230016708374, -4.852200031280518, -4.851900100708008, -4.851600170135498, -4.851200103759766, -4.851200103759766, -4.85099983215332, -4.850800037384033, -3.7158000469207764, -3.7125000953674316, -3.5459001064300537, -3.181999921798706, -3.7493999004364014, -3.753000020980835, -4.8282999992370605, -4.828100204467773, -4.82859992980957, -4.8292999267578125, -4.829800128936768, -4.82919979095459, -4.828800201416016, -4.830699920654297, -4.831099987030029, -4.8308000564575195, -4.830599784851074, -4.831200122833252, -4.831600189208984, -4.830900192260742, -4.832200050354004, -4.831900119781494, -4.833000183105469, -4.831399917602539, -4.832200050354004, -4.450099945068359, -4.464300155639648, -4.464700222015381, -4.46560001373291, -4.466100215911865, -4.46120023727417, -4.478899955749512, -4.732100009918213, -3.9667999744415283, -3.9639999866485596, -4.5467000007629395, -4.545300006866455, -4.545300006866455, -4.5441999435424805, -4.543900012969971, -4.543600082397461, -4.542300224304199, -4.5416998863220215, -4.541500091552734, -4.541200160980225, -4.541100025177002, -4.540900230407715, -4.540800094604492, -4.540800094604492, -4.540200233459473, -4.54010009765625, -4.53980016708374, -4.539700031280518, -4.53849983215332, -4.53849983215332, -4.538000106811523, -4.536300182342529, -3.2885000705718994, -3.285399913787842, -4.159299850463867, -4.162600040435791, -4.151400089263916, -3.5947000980377197, -3.248699903488159, -3.5485999584198, -4.147900104522705, -4.154799938201904, -4.434000015258789, -3.3499999046325684, -3.9621999263763428, -4.538400173187256, -4.537700176239014, -4.536499977111816, -4.536300182342529, -4.535999774932861, -4.535600185394287, -4.534999847412109, -4.534900188446045, -4.534800052642822, -4.53439998626709, -4.534299850463867, -4.534200191497803, -4.533899784088135, -4.53380012512207, -4.53380012512207, -4.53380012512207, -4.5335001945495605, -4.532700061798096, -4.147799968719482, -4.169099807739258, -4.156199932098389, -4.155700206756592, -4.154799938201904, -4.154399871826172, -2.979599952697754, -3.8282999992370605, -3.833199977874756, -3.5833001136779785, -3.884999990463257, -3.75819993019104, -3.8907999992370605], \"loglift\": [30.0, 29.0, 28.0, 27.0, 26.0, 25.0, 24.0, 23.0, 22.0, 21.0, 20.0, 19.0, 18.0, 17.0, 16.0, 15.0, 14.0, 13.0, 12.0, 11.0, 10.0, 9.0, 8.0, 7.0, 6.0, 5.0, 4.0, 3.0, 2.0, 1.0, 0.2309, 0.2253, 0.2252, 0.2196, 0.2141, 0.2138, 0.1876, 0.1875, 0.1874, 0.1874, 0.1873, 0.1872, 0.1872, 0.1871, 0.1803, 0.1782, 0.1779, 0.1777, 0.1775, 0.1773, 0.1771, 0.177, 0.1769, 0.1769, 0.1768, 0.1767, 0.1765, 0.1765, 0.1764, 0.1764, 0.1066, 0.1057, 0.0183, -0.032, -0.0984, -0.0982, 0.1679, 0.1678, 0.168, 0.1683, 0.1685, 0.1682, 0.1681, 0.1688, 0.169, 0.1688, 0.1687, 0.169, 0.1691, 0.1689, 0.1694, 0.1692, 0.1697, 0.1691, 0.1693, -0.0482, -0.0423, -0.0422, -0.0422, -0.0421, -0.047, -0.0407, -0.5291, 0.7506, 0.7483, 0.6674, 0.6664, 0.6664, 0.6657, 0.6655, 0.6653, 0.6644, 0.664, 0.6639, 0.6637, 0.6636, 0.6635, 0.6634, 0.6634, 0.663, 0.6629, 0.6628, 0.6627, 0.6619, 0.6618, 0.6615, 0.6604, 0.3664, 0.3657, 0.357, 0.2516, 0.2505, -0.0305, -0.0987, -0.2101, -0.3297, -0.3324, -0.231, 0.853, 0.7794, 0.6905, 0.6901, 0.6892, 0.689, 0.6889, 0.6886, 0.6881, 0.6881, 0.688, 0.6877, 0.6876, 0.6876, 0.6873, 0.6873, 0.6873, 0.6872, 0.6871, 0.6865, 0.3686, 0.2691, 0.2678, 0.2678, 0.2676, 0.2676, 0.1704, -0.01, -0.0107, -0.0192, -0.2339, -0.4197, -0.2359]}, \"token.table\": {\"Topic\": [1, 1, 1, 1, 1, 3, 1, 1, 1, 1, 1, 1, 1, 2, 3, 1, 1, 1, 1, 1, 1, 3, 1, 2, 3, 1, 1, 1, 1, 1, 1, 1, 1, 1, 1, 3, 1, 2, 3, 1, 1, 1, 2, 1, 3, 1, 1, 1, 3, 1, 2, 3, 1, 2, 1, 1, 2, 3, 1, 1, 1, 1, 1, 1, 1, 2, 1, 1, 2, 3, 1, 1, 1, 2, 3, 1, 3, 1, 1, 1, 3, 1, 1, 1, 1, 1, 1, 1, 2, 3, 1, 1, 2, 1], \"Freq\": [0.9171842137306844, 0.8824855686543804, 0.8832096050462577, 0.8592714862522869, 0.4891728231005157, 0.4891728231005157, 0.85830341045, 0.8572770716519547, 0.8546570370224899, 0.8833238091990256, 0.8575624502220286, 0.855226966095952, 0.4469726193188529, 0.22348630965942645, 0.22348630965942645, 0.8558441363419711, 0.8591997526270856, 0.8580084340285254, 0.5122926467702914, 0.5026371218350363, 0.6625458735607935, 0.6625458735607935, 0.5262860686550377, 0.26314303432751884, 0.26314303432751884, 0.5314181503486012, 0.8556590722827482, 0.9174583563917833, 0.8837799828364038, 0.8544028925991387, 0.8845732388008306, 0.857398568156075, 0.8835945551280288, 0.858892018908243, 0.48148696133264557, 0.48148696133264557, 0.5395579121063351, 0.13488947802658377, 0.26977895605316754, 0.8820355806028344, 0.5031712563516251, 0.6434127179281167, 0.6434127179281167, 0.38663636586238187, 0.38663636586238187, 0.8563817716142852, 0.860188058049056, 0.48131561450421567, 0.48131561450421567, 0.6123139015320839, 0.20410463384402797, 0.20410463384402797, 0.6466964309991838, 0.6466964309991838, 0.5217007201137975, 0.6515015325460496, 0.1628753831365124, 0.1628753831365124, 0.8875034889833514, 0.8817716677777224, 0.8584509656107279, 0.9161347508657247, 0.5218833401444883, 0.9164354431780036, 0.4775497288053809, 0.4775497288053809, 0.8828421555769611, 0.4452541485530659, 0.22262707427653294, 0.22262707427653294, 0.8820511106077465, 0.8550017857428093, 0.5285086547763472, 0.2642543273881736, 0.2642543273881736, 0.4822525283858585, 0.4822525283858585, 0.8579508421965343, 0.9169040955356004, 0.48198934988506426, 0.48198934988506426, 0.8815226908943494, 0.9171405849392197, 0.8850091132343342, 0.8864319546392703, 0.9164957405022623, 0.8858391355480136, 0.5289122225611206, 0.5289122225611206, 0.5289122225611206, 0.9177777178685158, 0.4717015375633449, 0.4717015375633449, 0.8576964241451609], \"Term\": [\"%\", \"HALL\", \"MCC\", \"Narai\", \"VAT\", \"VAT\", \"mall\", \"pizza\", \"union\", \"\\u0e01\\u0e30\\u0e1b\\u0e34\", \"\\u0e02\\u0e22\\u0e31\\u0e19\", \"\\u0e02\\u0e2d\\u0e07\\u0e2a\\u0e14\", \"\\u0e02\\u0e2d\\u0e07\\u0e2b\\u0e27\\u0e32\\u0e19\", \"\\u0e02\\u0e2d\\u0e07\\u0e2b\\u0e27\\u0e32\\u0e19\", \"\\u0e02\\u0e2d\\u0e07\\u0e2b\\u0e27\\u0e32\\u0e19\", \"\\u0e02\\u0e49\\u0e32\\u0e27\\u0e21\\u0e31\\u0e19\\u0e44\\u0e01\\u0e48\", \"\\u0e04\\u0e38\\u0e13\\u0e20\\u0e32\\u0e1e\", \"\\u0e08\\u0e33\\u0e44\\u0e14\\u0e49\", \"\\u0e0a\\u0e32\\u0e1a\\u0e39\", \"\\u0e0a\\u0e37\\u0e48\\u0e2d\", \"\\u0e0a\\u0e38\\u0e14\", \"\\u0e0a\\u0e38\\u0e14\", \"\\u0e0b\\u0e38\\u0e1b\", \"\\u0e0b\\u0e38\\u0e1b\", \"\\u0e0b\\u0e38\\u0e1b\", \"\\u0e0b\\u0e39\\u0e0a\\u0e34\", \"\\u0e15\\u0e15\\u0e35\\u0e49\", \"\\u0e15\\u0e2d\\u0e19\", \"\\u0e15\\u0e2d\\u0e19\\u0e41\\u0e23\\u0e01\", \"\\u0e15\\u0e31\\u0e14\\u0e01\\u0e33\\u0e25\\u0e31\\u0e07\", \"\\u0e15\\u0e31\\u0e27\\u0e40\\u0e25\\u0e37\\u0e2d\\u0e01\", \"\\u0e15\\u0e39\\u0e49\", \"\\u0e17\\u0e2d\\u0e14\", \"\\u0e19\", \"\\u0e19\\u0e32\", \"\\u0e19\\u0e32\", \"\\u0e19\\u0e49\\u0e33\", \"\\u0e19\\u0e49\\u0e33\", \"\\u0e19\\u0e49\\u0e33\", \"\\u0e19\\u0e49\\u0e33\\u0e14\\u0e37\\u0e48\\u0e21\", \"\\u0e1a\\u0e32\\u0e07\\u0e2a\\u0e48\\u0e27\\u0e19\", \"\\u0e1a\\u0e38\", \"\\u0e1a\\u0e38\", \"\\u0e1a\\u0e38\\u0e1f\\u0e40\\u0e1f\\u0e48\\u0e15\\u0e4c\", \"\\u0e1a\\u0e38\\u0e1f\\u0e40\\u0e1f\\u0e48\\u0e15\\u0e4c\", \"\\u0e1b\\u0e23\\u0e38\\u0e07\", \"\\u0e1e\\u0e19\\u0e31\\u0e01\\u0e07\\u0e32\\u0e19\", \"\\u0e1e\\u0e34\\u0e0b\", \"\\u0e1e\\u0e34\\u0e0b\", \"\\u0e1e\\u0e34\\u0e0b\\u0e0b\\u0e48\\u0e32\", \"\\u0e1e\\u0e34\\u0e0b\\u0e0b\\u0e48\\u0e32\", \"\\u0e1e\\u0e34\\u0e0b\\u0e0b\\u0e48\\u0e32\", \"\\u0e1f\\u0e40\\u0e1f\\u0e48\", \"\\u0e1f\\u0e40\\u0e1f\\u0e48\", \"\\u0e23\\u0e2a\\u0e0a\\u0e32\\u0e15\\u0e34\", \"\\u0e23\\u0e32\\u0e04\\u0e32\", \"\\u0e23\\u0e32\\u0e04\\u0e32\", \"\\u0e23\\u0e32\\u0e04\\u0e32\", \"\\u0e23\\u0e35\", \"\\u0e25\", \"\\u0e25\\u0e35\", \"\\u0e2a\\u0e14\\u0e46 \\u0e23\\u0e49\\u0e2d\\u0e19\\u0e46\", \"\\u0e2a\\u0e32\\u0e02\\u0e32\", \"\\u0e2b\\u0e19\\u0e49\\u0e32\", \"\\u0e2b\\u0e21\\u0e39\", \"\\u0e2b\\u0e21\\u0e39\", \"\\u0e2b\\u0e34\\u0e27\", \"\\u0e2d\\u0e23\\u0e48\\u0e2d\\u0e22\", \"\\u0e2d\\u0e23\\u0e48\\u0e2d\\u0e22\", \"\\u0e2d\\u0e23\\u0e48\\u0e2d\\u0e22\", \"\\u0e2d\\u0e25\\u0e25\\u0e4c\", \"\\u0e2d\\u0e2d\", \"\\u0e2d\\u0e32\\u0e2b\\u0e32\\u0e23\", \"\\u0e2d\\u0e32\\u0e2b\\u0e32\\u0e23\", \"\\u0e2d\\u0e32\\u0e2b\\u0e32\\u0e23\", \"\\u0e2d\\u0e40\\u0e23\\u0e35\\u0e22\", \"\\u0e2d\\u0e40\\u0e23\\u0e35\\u0e22\", \"\\u0e40\\u0e01\", \"\\u0e40\\u0e07\\u0e34\\u0e19\\u0e2a\\u0e14\", \"\\u0e40\\u0e0b\", \"\\u0e40\\u0e0b\", \"\\u0e40\\u0e19\\u0e37\\u0e49\\u0e2d\", \"\\u0e40\\u0e19\\u0e37\\u0e49\\u0e2d\\u0e27\\u0e31\\u0e27\", \"\\u0e40\\u0e1a\", \"\\u0e41\\u0e01\\u0e07\\u0e40\\u0e02\\u0e35\\u0e22\\u0e27\\u0e2b\\u0e27\\u0e32\\u0e19\", \"\\u0e41\\u0e1b\\u0e25\\u0e01\", \"\\u0e42\\u0e0b\\u0e19\", \"\\u0e42\\u0e1b\\u0e23\\u0e42\\u0e21\\u0e0a\\u0e31\\u0e48\\u0e19\", \"\\u0e42\\u0e1b\\u0e23\\u0e42\\u0e21\\u0e0a\\u0e31\\u0e48\\u0e19\", \"\\u0e42\\u0e1b\\u0e23\\u0e42\\u0e21\\u0e0a\\u0e31\\u0e48\\u0e19\", \"\\u0e42\\u0e2d\\u0e40\\u0e04\", \"\\u0e44\\u0e01\\u0e48\", \"\\u0e44\\u0e01\\u0e48\", \"\\u0e44\\u0e25\\u0e19\\u0e4c\"]}, \"R\": 30, \"lambda.step\": 0.01, \"plot.opts\": {\"xlab\": \"PC1\", \"ylab\": \"PC2\"}, \"topic.order\": [3, 1, 2]};\n",
       "\n",
       "function LDAvis_load_lib(url, callback){\n",
       "  var s = document.createElement('script');\n",
       "  s.src = url;\n",
       "  s.async = true;\n",
       "  s.onreadystatechange = s.onload = callback;\n",
       "  s.onerror = function(){console.warn(\"failed to load library \" + url);};\n",
       "  document.getElementsByTagName(\"head\")[0].appendChild(s);\n",
       "}\n",
       "\n",
       "if(typeof(LDAvis) !== \"undefined\"){\n",
       "   // already loaded: just create the visualization\n",
       "   !function(LDAvis){\n",
       "       new LDAvis(\"#\" + \"ldavis_el11691398124047484805780078498\", ldavis_el11691398124047484805780078498_data);\n",
       "   }(LDAvis);\n",
       "}else if(typeof define === \"function\" && define.amd){\n",
       "   // require.js is available: use it to load d3/LDAvis\n",
       "   require.config({paths: {d3: \"https://cdnjs.cloudflare.com/ajax/libs/d3/3.5.5/d3.min\"}});\n",
       "   require([\"d3\"], function(d3){\n",
       "      window.d3 = d3;\n",
       "      LDAvis_load_lib(\"https://cdn.rawgit.com/bmabey/pyLDAvis/files/ldavis.v1.0.0.js\", function(){\n",
       "        new LDAvis(\"#\" + \"ldavis_el11691398124047484805780078498\", ldavis_el11691398124047484805780078498_data);\n",
       "      });\n",
       "    });\n",
       "}else{\n",
       "    // require.js not available: dynamically load d3 & LDAvis\n",
       "    LDAvis_load_lib(\"https://cdnjs.cloudflare.com/ajax/libs/d3/3.5.5/d3.min.js\", function(){\n",
       "         LDAvis_load_lib(\"https://cdn.rawgit.com/bmabey/pyLDAvis/files/ldavis.v1.0.0.js\", function(){\n",
       "                 new LDAvis(\"#\" + \"ldavis_el11691398124047484805780078498\", ldavis_el11691398124047484805780078498_data);\n",
       "            })\n",
       "         });\n",
       "}\n",
       "</script>"
      ],
      "text/plain": [
       "PreparedData(topic_coordinates=              x         y  topics  cluster       Freq\n",
       "topic                                                \n",
       "2     -0.024657 -0.002592       1        1  57.205667\n",
       "0      0.015177 -0.015529       2        1  21.974943\n",
       "1      0.009480  0.018121       3        1  20.819391, topic_info=        Term      Freq     Total Category  logprob  loglift\n",
       "49  บุฟเฟ่ต์  2.000000  2.000000  Default  30.0000  30.0000\n",
       "16       น้ำ  7.000000  7.000000  Default  29.0000  29.0000\n",
       "85     อร่อย  4.000000  4.000000  Default  28.0000  28.0000\n",
       "3    ของหวาน  4.000000  4.000000  Default  27.0000  27.0000\n",
       "43       ชุด  1.000000  1.000000  Default  26.0000  26.0000\n",
       "..       ...       ...       ...      ...      ...      ...\n",
       "57     อาหาร  0.779445  3.784233   Topic3  -3.8332  -0.0107\n",
       "19    พิซซ่า  1.000681  4.899448   Topic3  -3.5833  -0.0192\n",
       "85     อร่อย  0.740109  4.491817   Topic3  -3.8850  -0.2339\n",
       "25      ราคา  0.840123  6.139663   Topic3  -3.7582  -0.4197\n",
       "3    ของหวาน  0.735792  4.474547   Topic3  -3.8908  -0.2359\n",
       "\n",
       "[161 rows x 6 columns], token_table=      Topic      Freq       Term\n",
       "term                            \n",
       "114       1  0.917184          %\n",
       "0         1  0.882486       HALL\n",
       "1         1  0.883210        MCC\n",
       "63        1  0.859271      Narai\n",
       "40        1  0.489173        VAT\n",
       "...     ...       ...        ...\n",
       "61        3  0.528912  โปรโมชั่น\n",
       "121       1  0.917778       โอเค\n",
       "88        1  0.471702        ไก่\n",
       "88        2  0.471702        ไก่\n",
       "89        1  0.857696       ไลน์\n",
       "\n",
       "[94 rows x 3 columns], R=30, lambda_step=0.01, plot_opts={'xlab': 'PC1', 'ylab': 'PC2'}, topic_order=[3, 1, 2])"
      ]
     },
     "execution_count": 31,
     "metadata": {
      "tags": []
     },
     "output_type": "execute_result"
    }
   ],
   "source": [
    "pyLDAvis.gensim.prepare(Shabu_model, Shabu_gensim_corpus, Shabu_dictionary)"
   ]
  },
  {
   "cell_type": "code",
   "execution_count": 32,
   "metadata": {
    "colab": {
     "base_uri": "https://localhost:8080/"
    },
    "id": "znZ58Ox_CEC4",
    "outputId": "c7c451b6-80a8-41f8-e0a9-6b6f6c7290a3"
   },
   "outputs": [
    {
     "data": {
      "text/plain": [
       "[('น้ำ', 0.050812922),\n",
       " ('บุฟเฟ่ต์', 0.03508341),\n",
       " ('พิซซ่า', 0.027783142),\n",
       " ('ราคา', 0.023325376),\n",
       " ('ซุป', 0.02174706),\n",
       " ('อาหาร', 0.021640703),\n",
       " ('อร่อย', 0.02054856),\n",
       " ('ของหวาน', 0.020428708),\n",
       " ('ชุด', 0.01902054),\n",
       " ('โปรโมชั่น', 0.015799187)]"
      ]
     },
     "execution_count": 32,
     "metadata": {
      "tags": []
     },
     "output_type": "execute_result"
    }
   ],
   "source": [
    "Shabu_model.show_topic(1)"
   ]
  },
  {
   "cell_type": "code",
   "execution_count": 32,
   "metadata": {
    "id": "1rOfMGW46Q9S"
   },
   "outputs": [],
   "source": []
  }
 ],
 "metadata": {
  "colab": {
   "name": "Assignment12_6220412019.ipynb",
   "provenance": []
  },
  "kernelspec": {
   "display_name": "Python 3",
   "language": "python",
   "name": "python3"
  },
  "language_info": {
   "codemirror_mode": {
    "name": "ipython",
    "version": 3
   },
   "file_extension": ".py",
   "mimetype": "text/x-python",
   "name": "python",
   "nbconvert_exporter": "python",
   "pygments_lexer": "ipython3",
   "version": "3.8.3"
  }
 },
 "nbformat": 4,
 "nbformat_minor": 1
}
